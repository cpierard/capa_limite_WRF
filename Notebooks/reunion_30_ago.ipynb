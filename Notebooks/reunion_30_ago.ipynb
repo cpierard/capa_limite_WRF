{
 "cells": [
  {
   "cell_type": "code",
   "execution_count": 1,
   "metadata": {
    "collapsed": true
   },
   "outputs": [],
   "source": [
    "import numpy as np\n",
    "from netCDF4 import Dataset\n",
    "import matplotlib.pyplot as plt\n",
    "import BoundaryLayerToolbox as blt\n",
    "%matplotlib inline"
   ]
  },
  {
   "cell_type": "code",
   "execution_count": 2,
   "metadata": {
    "collapsed": true
   },
   "outputs": [],
   "source": [
    "cca_lat, cca_long = 19.326180, -99.175842"
   ]
  },
  {
   "cell_type": "markdown",
   "metadata": {},
   "source": [
    "### TO DO LIST\n",
    "1. Analizar solo la estación CCA\n",
    "2. Revisar la PBLH con los datos de los modelos que te da daniel para 24 y 48 \n",
    "3. Escribir sobre el modelo y porque falla el metodo de Ri\n",
    "\n",
    "# 1. Estacion CCA\n",
    "sin datos del ceilometro, aun no puedo hacer nada."
   ]
  },
  {
   "cell_type": "code",
   "execution_count": 105,
   "metadata": {
    "collapsed": true
   },
   "outputs": [],
   "source": [
    "ceil_01_17 = np.loadtxt('2015-01-17.dat')\n",
    "ceil_01_18 = np.loadtxt('2015-01-18.dat')"
   ]
  },
  {
   "cell_type": "code",
   "execution_count": 70,
   "metadata": {
    "collapsed": false
   },
   "outputs": [
    {
     "data": {
      "text/plain": [
       "array([[  0.00000000e+00,   0.00000000e+00,   0.00000000e+00,\n",
       "          2.07000000e+03],\n",
       "       [  0.00000000e+00,   1.00000000e+01,   0.00000000e+00,\n",
       "          2.07000000e+03],\n",
       "       [  0.00000000e+00,   2.00000000e+01,   0.00000000e+00,\n",
       "          2.06000000e+03],\n",
       "       [  0.00000000e+00,   3.00000000e+01,   0.00000000e+00,\n",
       "          2.05000000e+03],\n",
       "       [  0.00000000e+00,   4.00000000e+01,   0.00000000e+00,\n",
       "          2.04000000e+03],\n",
       "       [  0.00000000e+00,   5.00000000e+01,   0.00000000e+00,\n",
       "          2.03000000e+03],\n",
       "       [  1.00000000e+00,   0.00000000e+00,   0.00000000e+00,\n",
       "          2.02000000e+03],\n",
       "       [  1.00000000e+00,   1.00000000e+01,   0.00000000e+00,\n",
       "          1.90000000e+03],\n",
       "       [  1.00000000e+00,   2.00000000e+01,   0.00000000e+00,\n",
       "          1.90000000e+03],\n",
       "       [  1.00000000e+00,   3.00000000e+01,   0.00000000e+00,\n",
       "          1.99000000e+03],\n",
       "       [  1.00000000e+00,   4.00000000e+01,   0.00000000e+00,\n",
       "          1.98000000e+03],\n",
       "       [  1.00000000e+00,   5.00000000e+01,   0.00000000e+00,\n",
       "          1.87000000e+03],\n",
       "       [  2.00000000e+00,   0.00000000e+00,   0.00000000e+00,\n",
       "          1.88000000e+03],\n",
       "       [  2.00000000e+00,   1.00000000e+01,   0.00000000e+00,\n",
       "          1.89000000e+03],\n",
       "       [  2.00000000e+00,   2.00000000e+01,   0.00000000e+00,\n",
       "          1.90000000e+03],\n",
       "       [  2.00000000e+00,   3.00000000e+01,   0.00000000e+00,\n",
       "          1.93000000e+03],\n",
       "       [  2.00000000e+00,   4.00000000e+01,   0.00000000e+00,\n",
       "          7.40000000e+02],\n",
       "       [  2.00000000e+00,   5.00000000e+01,   0.00000000e+00,\n",
       "          1.41000000e+03],\n",
       "       [  3.00000000e+00,   0.00000000e+00,   0.00000000e+00,\n",
       "          9.60000000e+02],\n",
       "       [  3.00000000e+00,   1.00000000e+01,   0.00000000e+00,\n",
       "          9.60000000e+02],\n",
       "       [  3.00000000e+00,   2.00000000e+01,   0.00000000e+00,\n",
       "          9.70000000e+02],\n",
       "       [  3.00000000e+00,   3.00000000e+01,   0.00000000e+00,\n",
       "          9.70000000e+02],\n",
       "       [  3.00000000e+00,   4.00000000e+01,   0.00000000e+00,\n",
       "          2.60000000e+02],\n",
       "       [  3.00000000e+00,   5.00000000e+01,   0.00000000e+00,\n",
       "          1.05500000e+03],\n",
       "       [  4.00000000e+00,   0.00000000e+00,   0.00000000e+00,\n",
       "          1.05500000e+03],\n",
       "       [  4.00000000e+00,   1.00000000e+01,   0.00000000e+00,\n",
       "          1.06000000e+03],\n",
       "       [  4.00000000e+00,   2.00000000e+01,   0.00000000e+00,\n",
       "          1.07000000e+03],\n",
       "       [  4.00000000e+00,   3.00000000e+01,   0.00000000e+00,\n",
       "          1.08000000e+03],\n",
       "       [  4.00000000e+00,   4.00000000e+01,   0.00000000e+00,\n",
       "          1.09000000e+03],\n",
       "       [  4.00000000e+00,   5.00000000e+01,   0.00000000e+00,\n",
       "          1.08500000e+03],\n",
       "       [  5.00000000e+00,   0.00000000e+00,   0.00000000e+00,\n",
       "          1.07500000e+03],\n",
       "       [  5.00000000e+00,   1.00000000e+01,   0.00000000e+00,\n",
       "          3.30000000e+02],\n",
       "       [  5.00000000e+00,   2.00000000e+01,   0.00000000e+00,\n",
       "          3.10000000e+02],\n",
       "       [  5.00000000e+00,   3.00000000e+01,   0.00000000e+00,\n",
       "          3.10000000e+02],\n",
       "       [  5.00000000e+00,   4.00000000e+01,   0.00000000e+00,\n",
       "          3.20000000e+02],\n",
       "       [  5.00000000e+00,   5.00000000e+01,   0.00000000e+00,\n",
       "          3.30000000e+02],\n",
       "       [  6.00000000e+00,   0.00000000e+00,   0.00000000e+00,\n",
       "          3.30000000e+02],\n",
       "       [  6.00000000e+00,   1.00000000e+01,   0.00000000e+00,\n",
       "          3.50000000e+02],\n",
       "       [  6.00000000e+00,   2.00000000e+01,   0.00000000e+00,\n",
       "          3.60000000e+02],\n",
       "       [  6.00000000e+00,   3.00000000e+01,   0.00000000e+00,\n",
       "          3.60000000e+02],\n",
       "       [  6.00000000e+00,   4.00000000e+01,   0.00000000e+00,\n",
       "          3.80000000e+02],\n",
       "       [  6.00000000e+00,   5.00000000e+01,   0.00000000e+00,\n",
       "          3.90000000e+02],\n",
       "       [  7.00000000e+00,   0.00000000e+00,   0.00000000e+00,\n",
       "          4.00000000e+02],\n",
       "       [  7.00000000e+00,   1.00000000e+01,   0.00000000e+00,\n",
       "          2.90000000e+02],\n",
       "       [  7.00000000e+00,   2.00000000e+01,   0.00000000e+00,\n",
       "          3.00000000e+02],\n",
       "       [  7.00000000e+00,   3.00000000e+01,   0.00000000e+00,\n",
       "          3.10000000e+02],\n",
       "       [  7.00000000e+00,   4.00000000e+01,   0.00000000e+00,\n",
       "          3.00000000e+02],\n",
       "       [  7.00000000e+00,   5.00000000e+01,   0.00000000e+00,\n",
       "          2.80000000e+02],\n",
       "       [  8.00000000e+00,   0.00000000e+00,   0.00000000e+00,\n",
       "          2.60000000e+02],\n",
       "       [  8.00000000e+00,   1.00000000e+01,   0.00000000e+00,\n",
       "          2.60000000e+02],\n",
       "       [  8.00000000e+00,   2.00000000e+01,   0.00000000e+00,\n",
       "          2.60000000e+02],\n",
       "       [  8.00000000e+00,   3.00000000e+01,   0.00000000e+00,\n",
       "          2.60000000e+02],\n",
       "       [  8.00000000e+00,   4.00000000e+01,   0.00000000e+00,\n",
       "          2.60000000e+02],\n",
       "       [  8.00000000e+00,   5.00000000e+01,   0.00000000e+00,\n",
       "          3.40000000e+02],\n",
       "       [  9.00000000e+00,   0.00000000e+00,   0.00000000e+00,\n",
       "          3.40000000e+02],\n",
       "       [  9.00000000e+00,   1.00000000e+01,   0.00000000e+00,\n",
       "          1.39500000e+03],\n",
       "       [  9.00000000e+00,   2.00000000e+01,   0.00000000e+00,\n",
       "          1.25500000e+03],\n",
       "       [  9.00000000e+00,   3.00000000e+01,   0.00000000e+00,\n",
       "          1.27500000e+03],\n",
       "       [  9.00000000e+00,   4.00000000e+01,   0.00000000e+00,\n",
       "          1.29000000e+03],\n",
       "       [  9.00000000e+00,   5.00000000e+01,   0.00000000e+00,\n",
       "          1.29500000e+03],\n",
       "       [  1.00000000e+01,   0.00000000e+00,   0.00000000e+00,\n",
       "          2.27000000e+03],\n",
       "       [  1.00000000e+01,   1.00000000e+01,   0.00000000e+00,\n",
       "          2.25000000e+03],\n",
       "       [  1.00000000e+01,   2.00000000e+01,   0.00000000e+00,\n",
       "          2.25000000e+03],\n",
       "       [  1.00000000e+01,   3.00000000e+01,   0.00000000e+00,\n",
       "          2.25000000e+03],\n",
       "       [  1.00000000e+01,   4.00000000e+01,   0.00000000e+00,\n",
       "          2.24000000e+03],\n",
       "       [  1.00000000e+01,   5.00000000e+01,   0.00000000e+00,\n",
       "          2.24000000e+03],\n",
       "       [  1.10000000e+01,   0.00000000e+00,   0.00000000e+00,\n",
       "          2.23000000e+03],\n",
       "       [  1.10000000e+01,   1.00000000e+01,   0.00000000e+00,\n",
       "          2.21000000e+03],\n",
       "       [  1.10000000e+01,   2.00000000e+01,   0.00000000e+00,\n",
       "          2.19000000e+03],\n",
       "       [  1.10000000e+01,   3.00000000e+01,   0.00000000e+00,\n",
       "          2.16000000e+03],\n",
       "       [  1.10000000e+01,   4.00000000e+01,   0.00000000e+00,\n",
       "          2.15000000e+03],\n",
       "       [  1.10000000e+01,   5.00000000e+01,   0.00000000e+00,\n",
       "          2.15000000e+03],\n",
       "       [  1.20000000e+01,   0.00000000e+00,   0.00000000e+00,\n",
       "          2.15000000e+03],\n",
       "       [  1.20000000e+01,   1.00000000e+01,   0.00000000e+00,\n",
       "          2.17000000e+03],\n",
       "       [  1.20000000e+01,   2.00000000e+01,   0.00000000e+00,\n",
       "          1.87000000e+03],\n",
       "       [  1.20000000e+01,   3.00000000e+01,   0.00000000e+00,\n",
       "          1.85000000e+03],\n",
       "       [  1.20000000e+01,   4.00000000e+01,   0.00000000e+00,\n",
       "          1.84000000e+03],\n",
       "       [  1.20000000e+01,   5.00000000e+01,   0.00000000e+00,\n",
       "          1.83000000e+03],\n",
       "       [  1.30000000e+01,   0.00000000e+00,   0.00000000e+00,\n",
       "          2.29000000e+03],\n",
       "       [  1.30000000e+01,   1.00000000e+01,   0.00000000e+00,\n",
       "          2.30000000e+03],\n",
       "       [  1.30000000e+01,   2.00000000e+01,   0.00000000e+00,\n",
       "          2.30000000e+03],\n",
       "       [  1.30000000e+01,   3.00000000e+01,   0.00000000e+00,\n",
       "          2.28000000e+03],\n",
       "       [  1.30000000e+01,   4.00000000e+01,   0.00000000e+00,\n",
       "          2.19000000e+03],\n",
       "       [  1.30000000e+01,   5.00000000e+01,   0.00000000e+00,\n",
       "          2.19000000e+03],\n",
       "       [  1.40000000e+01,   0.00000000e+00,   0.00000000e+00,\n",
       "          2.24000000e+03],\n",
       "       [  1.40000000e+01,   1.00000000e+01,   0.00000000e+00,\n",
       "          2.29000000e+03],\n",
       "       [  1.40000000e+01,   2.00000000e+01,   0.00000000e+00,\n",
       "          2.30000000e+03],\n",
       "       [  1.40000000e+01,   3.00000000e+01,   0.00000000e+00,\n",
       "          2.31000000e+03],\n",
       "       [  1.40000000e+01,   4.00000000e+01,   0.00000000e+00,\n",
       "          2.31000000e+03],\n",
       "       [  1.40000000e+01,   5.00000000e+01,   0.00000000e+00,\n",
       "          2.31000000e+03],\n",
       "       [  1.50000000e+01,   0.00000000e+00,   0.00000000e+00,\n",
       "          2.30000000e+03],\n",
       "       [  1.50000000e+01,   1.00000000e+01,   0.00000000e+00,\n",
       "          2.56000000e+03],\n",
       "       [  1.50000000e+01,   2.00000000e+01,   0.00000000e+00,\n",
       "          2.52000000e+03],\n",
       "       [  1.50000000e+01,   3.00000000e+01,   0.00000000e+00,\n",
       "          2.49000000e+03],\n",
       "       [  1.50000000e+01,   4.00000000e+01,   0.00000000e+00,\n",
       "          2.42000000e+03],\n",
       "       [  1.50000000e+01,   5.00000000e+01,   0.00000000e+00,\n",
       "          2.41000000e+03],\n",
       "       [  1.60000000e+01,   0.00000000e+00,   0.00000000e+00,\n",
       "          2.40000000e+03],\n",
       "       [  1.60000000e+01,   1.00000000e+01,   0.00000000e+00,\n",
       "          2.38000000e+03],\n",
       "       [  1.60000000e+01,   2.00000000e+01,   0.00000000e+00,\n",
       "          2.35000000e+03],\n",
       "       [  1.60000000e+01,   3.00000000e+01,   0.00000000e+00,\n",
       "          2.34000000e+03],\n",
       "       [  1.60000000e+01,   4.00000000e+01,   0.00000000e+00,\n",
       "          2.33000000e+03],\n",
       "       [  1.60000000e+01,   5.00000000e+01,   0.00000000e+00,\n",
       "          2.32000000e+03],\n",
       "       [  1.70000000e+01,   0.00000000e+00,   0.00000000e+00,\n",
       "          2.33000000e+03],\n",
       "       [  1.70000000e+01,   1.00000000e+01,   0.00000000e+00,\n",
       "          2.34000000e+03],\n",
       "       [  1.70000000e+01,   2.00000000e+01,   0.00000000e+00,\n",
       "          2.36000000e+03],\n",
       "       [  1.70000000e+01,   3.00000000e+01,   0.00000000e+00,\n",
       "          2.38000000e+03],\n",
       "       [  1.70000000e+01,   4.00000000e+01,   0.00000000e+00,\n",
       "          2.21000000e+03],\n",
       "       [  1.70000000e+01,   5.00000000e+01,   0.00000000e+00,\n",
       "          2.50000000e+03],\n",
       "       [  1.80000000e+01,   0.00000000e+00,   0.00000000e+00,\n",
       "          2.50500000e+03],\n",
       "       [  1.80000000e+01,   1.00000000e+01,   0.00000000e+00,\n",
       "          2.54000000e+03],\n",
       "       [  1.80000000e+01,   2.00000000e+01,   0.00000000e+00,\n",
       "          2.55000000e+03],\n",
       "       [  1.80000000e+01,   3.00000000e+01,   0.00000000e+00,\n",
       "          2.55000000e+03],\n",
       "       [  1.80000000e+01,   4.00000000e+01,   0.00000000e+00,\n",
       "          2.55000000e+03],\n",
       "       [  1.80000000e+01,   5.00000000e+01,   0.00000000e+00,\n",
       "          2.54000000e+03],\n",
       "       [  1.90000000e+01,   0.00000000e+00,   0.00000000e+00,\n",
       "          2.52000000e+03],\n",
       "       [  1.90000000e+01,   1.00000000e+01,   0.00000000e+00,\n",
       "          2.49000000e+03],\n",
       "       [  1.90000000e+01,   2.00000000e+01,   0.00000000e+00,\n",
       "          2.46000000e+03],\n",
       "       [  1.90000000e+01,   3.00000000e+01,   0.00000000e+00,\n",
       "          2.46000000e+03],\n",
       "       [  1.90000000e+01,   4.00000000e+01,   0.00000000e+00,\n",
       "          2.48000000e+03],\n",
       "       [  1.90000000e+01,   5.00000000e+01,   0.00000000e+00,\n",
       "          2.58000000e+03],\n",
       "       [  2.00000000e+01,   0.00000000e+00,   0.00000000e+00,\n",
       "          2.58000000e+03],\n",
       "       [  2.00000000e+01,   1.00000000e+01,   0.00000000e+00,\n",
       "          2.58000000e+03],\n",
       "       [  2.00000000e+01,   2.00000000e+01,   0.00000000e+00,\n",
       "          2.57000000e+03],\n",
       "       [  2.00000000e+01,   3.00000000e+01,   0.00000000e+00,\n",
       "          2.57000000e+03],\n",
       "       [  2.00000000e+01,   4.00000000e+01,   0.00000000e+00,\n",
       "          2.57000000e+03],\n",
       "       [  2.00000000e+01,   5.00000000e+01,   0.00000000e+00,\n",
       "          2.57000000e+03],\n",
       "       [  2.10000000e+01,   0.00000000e+00,   0.00000000e+00,\n",
       "          2.57000000e+03],\n",
       "       [  2.10000000e+01,   1.00000000e+01,   0.00000000e+00,\n",
       "          2.57000000e+03],\n",
       "       [  2.10000000e+01,   2.00000000e+01,   0.00000000e+00,\n",
       "          2.57000000e+03],\n",
       "       [  2.10000000e+01,   3.00000000e+01,   0.00000000e+00,\n",
       "          2.55000000e+03],\n",
       "       [  2.10000000e+01,   4.00000000e+01,   0.00000000e+00,\n",
       "          2.45000000e+03],\n",
       "       [  2.10000000e+01,   5.00000000e+01,   0.00000000e+00,\n",
       "          2.45000000e+03],\n",
       "       [  2.20000000e+01,   0.00000000e+00,   0.00000000e+00,\n",
       "          2.44000000e+03],\n",
       "       [  2.20000000e+01,   1.00000000e+01,   0.00000000e+00,\n",
       "          2.42000000e+03],\n",
       "       [  2.20000000e+01,   2.00000000e+01,   0.00000000e+00,\n",
       "          2.40000000e+03],\n",
       "       [  2.20000000e+01,   3.00000000e+01,   0.00000000e+00,\n",
       "          1.83000000e+03],\n",
       "       [  2.20000000e+01,   4.00000000e+01,   0.00000000e+00,\n",
       "          1.81000000e+03],\n",
       "       [  2.20000000e+01,   5.00000000e+01,   0.00000000e+00,\n",
       "          1.80000000e+03],\n",
       "       [  2.30000000e+01,   0.00000000e+00,   0.00000000e+00,\n",
       "          1.80000000e+03],\n",
       "       [  2.30000000e+01,   1.00000000e+01,   0.00000000e+00,\n",
       "          1.82000000e+03],\n",
       "       [  2.30000000e+01,   2.00000000e+01,   0.00000000e+00,\n",
       "          8.40000000e+02],\n",
       "       [  2.30000000e+01,   3.00000000e+01,   0.00000000e+00,\n",
       "          1.98500000e+03],\n",
       "       [  2.30000000e+01,   4.00000000e+01,   0.00000000e+00,\n",
       "          1.98000000e+03],\n",
       "       [  2.30000000e+01,   5.00000000e+01,   0.00000000e+00,\n",
       "          1.98000000e+03]])"
      ]
     },
     "execution_count": 70,
     "metadata": {},
     "output_type": "execute_result"
    }
   ],
   "source": [
    "ceil_01_17"
   ]
  },
  {
   "cell_type": "code",
   "execution_count": 71,
   "metadata": {
    "collapsed": true
   },
   "outputs": [],
   "source": [
    "ceil_01_17[:,0] = ceil_01_17[:,0] + ceil_01_17[:,1]/60"
   ]
  },
  {
   "cell_type": "code",
   "execution_count": 106,
   "metadata": {
    "collapsed": true
   },
   "outputs": [],
   "source": [
    "ceil_01_18[:,0] = ceil_01_18[:,0] + ceil_01_18[:,1]/60"
   ]
  },
  {
   "cell_type": "code",
   "execution_count": 72,
   "metadata": {
    "collapsed": false
   },
   "outputs": [
    {
     "data": {
      "text/plain": [
       "(144,)"
      ]
     },
     "execution_count": 72,
     "metadata": {},
     "output_type": "execute_result"
    }
   ],
   "source": [
    "ceil_01_17[:,3].shape"
   ]
  },
  {
   "cell_type": "code",
   "execution_count": 73,
   "metadata": {
    "collapsed": false
   },
   "outputs": [
    {
     "data": {
      "text/plain": [
       "[<matplotlib.lines.Line2D at 0x110284390>]"
      ]
     },
     "execution_count": 73,
     "metadata": {},
     "output_type": "execute_result"
    },
    {
     "data": {
      "image/png": "[encoded data removed]",
      "text/plain": [
       "<matplotlib.figure.Figure at 0x11027c8d0>"
      ]
     },
     "metadata": {},
     "output_type": "display_data"
    }
   ],
   "source": [
    "plt.plot(ceil_01_17[:,0], ceil_01_17[:,3])"
   ]
  },
  {
   "cell_type": "code",
   "execution_count": 107,
   "metadata": {
    "collapsed": false
   },
   "outputs": [
    {
     "data": {
      "text/plain": [
       "[<matplotlib.lines.Line2D at 0x110acfcf8>]"
      ]
     },
     "execution_count": 107,
     "metadata": {},
     "output_type": "execute_result"
    },
    {
     "data": {
      "image/png": "[encoded data removed]",
      "text/plain": [
       "<matplotlib.figure.Figure at 0x11043c358>"
      ]
     },
     "metadata": {},
     "output_type": "display_data"
    }
   ],
   "source": [
    "plt.plot(ceil_01_18[:,0], ceil_01_18[:,3])"
   ]
  },
  {
   "cell_type": "code",
   "execution_count": 86,
   "metadata": {
    "collapsed": false
   },
   "outputs": [
    {
     "name": "stdout",
     "output_type": "stream",
     "text": [
      "[]\n"
     ]
    }
   ],
   "source": [
    "print(ceil_01_17[0, -1:0])"
   ]
  },
  {
   "cell_type": "code",
   "execution_count": 78,
   "metadata": {
    "collapsed": false
   },
   "outputs": [
    {
     "data": {
      "text/plain": [
       "False"
      ]
     },
     "execution_count": 78,
     "metadata": {},
     "output_type": "execute_result"
    }
   ],
   "source": [
    "ceil_01_17[1,0]%1 == 0.0"
   ]
  },
  {
   "cell_type": "code",
   "execution_count": 93,
   "metadata": {
    "collapsed": false
   },
   "outputs": [
    {
     "name": "stdout",
     "output_type": "stream",
     "text": [
      "[[ 0.  0.]\n",
      " [ 0.  0.]\n",
      " [ 0.  0.]\n",
      " [ 0.  0.]\n",
      " [ 0.  0.]\n",
      " [ 0.  0.]\n",
      " [ 0.  0.]\n",
      " [ 0.  0.]\n",
      " [ 0.  0.]\n",
      " [ 0.  0.]\n",
      " [ 0.  0.]\n",
      " [ 0.  0.]\n",
      " [ 0.  0.]\n",
      " [ 0.  0.]\n",
      " [ 0.  0.]\n",
      " [ 0.  0.]\n",
      " [ 0.  0.]\n",
      " [ 0.  0.]\n",
      " [ 0.  0.]\n",
      " [ 0.  0.]\n",
      " [ 0.  0.]\n",
      " [ 0.  0.]\n",
      " [ 0.  0.]\n",
      " [ 0.  0.]]\n"
     ]
    }
   ],
   "source": [
    "print(np.zeros(shape=(24,2)))"
   ]
  },
  {
   "cell_type": "code",
   "execution_count": 95,
   "metadata": {
    "collapsed": true
   },
   "outputs": [],
   "source": [
    "ceil_01_17_h = np.zeros(shape=(24,2))\n",
    "c = 0\n",
    "for i in range(0, len(ceil_01_17[:, 0])):\n",
    "    if ceil_01_17[i,0]%1 == 0.0:\n",
    "        ceil_01_17_h[c,0] = ceil_01_17[i,0]\n",
    "        ceil_01_17_h[c,1] = ceil_01_17[i,3]\n",
    "        c += 1"
   ]
  },
  {
   "cell_type": "code",
   "execution_count": 108,
   "metadata": {
    "collapsed": true
   },
   "outputs": [],
   "source": [
    "ceil_01_18_h = np.zeros(shape=(24,2))\n",
    "c = 0\n",
    "for i in range(0, len(ceil_01_18[:, 0])):\n",
    "    if ceil_01_18[i,0]%1 == 0.0:\n",
    "        ceil_01_18_h[c,0] = ceil_01_18[i,0]\n",
    "        ceil_01_18_h[c,1] = ceil_01_18[i,3]\n",
    "        c += 1"
   ]
  },
  {
   "cell_type": "code",
   "execution_count": 109,
   "metadata": {
    "collapsed": false
   },
   "outputs": [
    {
     "data": {
      "text/plain": [
       "array([[  0.00000000e+00,   2.05000000e+03],\n",
       "       [  1.00000000e+00,   1.52000000e+03],\n",
       "       [  2.00000000e+00,   1.55000000e+03],\n",
       "       [  3.00000000e+00,   8.00000000e+02],\n",
       "       [  4.00000000e+00,   1.13000000e+03],\n",
       "       [  5.00000000e+00,   1.30000000e+03],\n",
       "       [  6.00000000e+00,   1.39000000e+03],\n",
       "       [  7.00000000e+00,   1.47000000e+03],\n",
       "       [  8.00000000e+00,   1.64000000e+03],\n",
       "       [  9.00000000e+00,   1.80000000e+03],\n",
       "       [  1.00000000e+01,   1.68000000e+03],\n",
       "       [  1.10000000e+01,   2.11500000e+03],\n",
       "       [  1.20000000e+01,   2.44500000e+03],\n",
       "       [  1.30000000e+01,   1.93000000e+03],\n",
       "       [  1.40000000e+01,   1.21000000e+03],\n",
       "       [  1.50000000e+01,   1.84000000e+03],\n",
       "       [  1.60000000e+01,   2.74000000e+03],\n",
       "       [  1.70000000e+01,   1.88000000e+03],\n",
       "       [  1.80000000e+01,   2.10000000e+03],\n",
       "       [  1.90000000e+01,   2.18000000e+03],\n",
       "       [  2.00000000e+01,   1.77000000e+03],\n",
       "       [  2.10000000e+01,   2.16000000e+03],\n",
       "       [  2.20000000e+01,   2.05000000e+03],\n",
       "       [  2.30000000e+01,   2.22000000e+03]])"
      ]
     },
     "execution_count": 109,
     "metadata": {},
     "output_type": "execute_result"
    }
   ],
   "source": [
    "ceil_01_18_h"
   ]
  },
  {
   "cell_type": "code",
   "execution_count": 97,
   "metadata": {
    "collapsed": false
   },
   "outputs": [
    {
     "data": {
      "text/plain": [
       "[<matplotlib.lines.Line2D at 0x1103becc0>]"
      ]
     },
     "execution_count": 97,
     "metadata": {},
     "output_type": "execute_result"
    },
    {
     "data": {
      "image/png": "[encoded data removed]",
      "text/plain": [
       "<matplotlib.figure.Figure at 0x110365f28>"
      ]
     },
     "metadata": {},
     "output_type": "display_data"
    }
   ],
   "source": [
    "plt.plot(ceil_01_17_h[:,0], ceil_01_17_h[:,1])"
   ]
  },
  {
   "cell_type": "code",
   "execution_count": 110,
   "metadata": {
    "collapsed": false
   },
   "outputs": [
    {
     "data": {
      "text/plain": [
       "[<matplotlib.lines.Line2D at 0x110bb4320>]"
      ]
     },
     "execution_count": 110,
     "metadata": {},
     "output_type": "execute_result"
    },
    {
     "data": {
      "image/png": "[encoded data removed]",
      "text/plain": [
       "<matplotlib.figure.Figure at 0x1109bfc88>"
      ]
     },
     "metadata": {},
     "output_type": "display_data"
    }
   ],
   "source": [
    "plt.plot(ceil_01_18_h[:,0], ceil_01_18_h[:,1])"
   ]
  },
  {
   "cell_type": "markdown",
   "metadata": {},
   "source": [
    "----"
   ]
  },
  {
   "cell_type": "code",
   "execution_count": 162,
   "metadata": {
    "collapsed": true
   },
   "outputs": [],
   "source": [
    "ceil_24 = np.loadtxt('2015-01-17_24_UTC.dat')\n",
    "ceil_48 = np.loadtxt('2015-01-17_48_UTC.dat')"
   ]
  },
  {
   "cell_type": "code",
   "execution_count": 163,
   "metadata": {
    "collapsed": true
   },
   "outputs": [],
   "source": [
    "ceil_24[:,0] = ceil_24[:,0] + ceil_24[:,1]/60"
   ]
  },
  {
   "cell_type": "code",
   "execution_count": 164,
   "metadata": {
    "collapsed": true
   },
   "outputs": [],
   "source": [
    "ceil_48[:,0] = ceil_48[:,0] + ceil_48[:,1]/60"
   ]
  },
  {
   "cell_type": "code",
   "execution_count": 168,
   "metadata": {
    "collapsed": false
   },
   "outputs": [
    {
     "name": "stdout",
     "output_type": "stream",
     "text": [
      "0\n",
      "1\n",
      "2\n",
      "3\n",
      "4\n",
      "5\n",
      "6\n",
      "7\n",
      "8\n",
      "9\n",
      "10\n",
      "11\n",
      "12\n",
      "13\n",
      "14\n",
      "15\n",
      "16\n",
      "17\n",
      "18\n",
      "19\n",
      "20\n",
      "21\n",
      "22\n",
      "23\n"
     ]
    }
   ],
   "source": [
    "ceil_24_h = np.zeros(shape=(24,2))\n",
    "c = 0\n",
    "for i in range(0, len(ceil_24[:, 0])):\n",
    "    if ceil_24[i,0]%1 == 0.0:\n",
    "        print(c)\n",
    "        ceil_24_h[c,0] = c\n",
    "        ceil_24_h[c,1] = ceil_24[i,3]\n",
    "        c += 1"
   ]
  },
  {
   "cell_type": "code",
   "execution_count": 169,
   "metadata": {
    "collapsed": false
   },
   "outputs": [
    {
     "name": "stdout",
     "output_type": "stream",
     "text": [
      "0\n",
      "1\n",
      "2\n",
      "3\n",
      "4\n",
      "5\n",
      "6\n",
      "7\n",
      "8\n",
      "9\n",
      "10\n",
      "11\n",
      "12\n",
      "13\n",
      "14\n",
      "15\n",
      "16\n",
      "17\n",
      "18\n",
      "19\n",
      "20\n",
      "21\n",
      "22\n",
      "23\n",
      "24\n"
     ]
    },
    {
     "ename": "IndexError",
     "evalue": "index 24 is out of bounds for axis 0 with size 24",
     "output_type": "error",
     "traceback": [
      "\u001b[0;31m---------------------------------------------------------------------------\u001b[0m",
      "\u001b[0;31mIndexError\u001b[0m                                Traceback (most recent call last)",
      "\u001b[0;32m<ipython-input-169-6ef85b364ba2>\u001b[0m in \u001b[0;36m<module>\u001b[0;34m()\u001b[0m\n\u001b[1;32m      4\u001b[0m     \u001b[0;32mif\u001b[0m \u001b[0mceil_48\u001b[0m\u001b[0;34m[\u001b[0m\u001b[0mi\u001b[0m\u001b[0;34m,\u001b[0m\u001b[0;36m0\u001b[0m\u001b[0;34m]\u001b[0m\u001b[0;34m%\u001b[0m\u001b[0;36m1\u001b[0m \u001b[0;34m==\u001b[0m \u001b[0;36m0.0\u001b[0m\u001b[0;34m:\u001b[0m\u001b[0;34m\u001b[0m\u001b[0m\n\u001b[1;32m      5\u001b[0m         \u001b[0mprint\u001b[0m\u001b[0;34m(\u001b[0m\u001b[0mc\u001b[0m\u001b[0;34m)\u001b[0m\u001b[0;34m\u001b[0m\u001b[0m\n\u001b[0;32m----> 6\u001b[0;31m         \u001b[0mceil_48_h\u001b[0m\u001b[0;34m[\u001b[0m\u001b[0mc\u001b[0m\u001b[0;34m,\u001b[0m\u001b[0;36m0\u001b[0m\u001b[0;34m]\u001b[0m \u001b[0;34m=\u001b[0m \u001b[0mc\u001b[0m\u001b[0;34m\u001b[0m\u001b[0m\n\u001b[0m\u001b[1;32m      7\u001b[0m         \u001b[0mceil_48_h\u001b[0m\u001b[0;34m[\u001b[0m\u001b[0mc\u001b[0m\u001b[0;34m,\u001b[0m\u001b[0;36m1\u001b[0m\u001b[0;34m]\u001b[0m \u001b[0;34m=\u001b[0m \u001b[0mceil_48\u001b[0m\u001b[0;34m[\u001b[0m\u001b[0mi\u001b[0m\u001b[0;34m,\u001b[0m\u001b[0;36m3\u001b[0m\u001b[0;34m]\u001b[0m\u001b[0;34m\u001b[0m\u001b[0m\n\u001b[1;32m      8\u001b[0m         \u001b[0mc\u001b[0m \u001b[0;34m+=\u001b[0m \u001b[0;36m1\u001b[0m\u001b[0;34m\u001b[0m\u001b[0m\n",
      "\u001b[0;31mIndexError\u001b[0m: index 24 is out of bounds for axis 0 with size 24"
     ]
    }
   ],
   "source": [
    "ceil_48_h = np.zeros(shape=(24,2))\n",
    "c = 0\n",
    "for i in range(0, len(ceil_48[:, 0])):\n",
    "    if ceil_48[i,0]%1 == 0.0:\n",
    "        print(c)\n",
    "        ceil_48_h[c,0] = c\n",
    "        ceil_48_h[c,1] = ceil_48[i,3]\n",
    "        c += 1"
   ]
  },
  {
   "cell_type": "code",
   "execution_count": 171,
   "metadata": {
    "collapsed": false
   },
   "outputs": [
    {
     "data": {
      "text/plain": [
       "array([[  0.00000000e+00,   2.50500000e+03],\n",
       "       [  1.00000000e+00,   2.52000000e+03],\n",
       "       [  2.00000000e+00,   2.58000000e+03],\n",
       "       [  3.00000000e+00,   2.57000000e+03],\n",
       "       [  4.00000000e+00,   2.44000000e+03],\n",
       "       [  5.00000000e+00,   1.80000000e+03],\n",
       "       [  6.00000000e+00,   2.05000000e+03],\n",
       "       [  7.00000000e+00,   1.52000000e+03],\n",
       "       [  8.00000000e+00,   1.55000000e+03],\n",
       "       [  9.00000000e+00,   8.00000000e+02],\n",
       "       [  1.00000000e+01,   1.13000000e+03],\n",
       "       [  1.10000000e+01,   1.30000000e+03],\n",
       "       [  1.20000000e+01,   1.39000000e+03],\n",
       "       [  1.30000000e+01,   1.47000000e+03],\n",
       "       [  1.40000000e+01,   1.64000000e+03],\n",
       "       [  1.50000000e+01,   1.80000000e+03],\n",
       "       [  1.60000000e+01,   1.68000000e+03],\n",
       "       [  1.70000000e+01,   2.11500000e+03],\n",
       "       [  1.80000000e+01,   2.44500000e+03],\n",
       "       [  1.90000000e+01,   1.93000000e+03],\n",
       "       [  2.00000000e+01,   1.21000000e+03],\n",
       "       [  2.10000000e+01,   1.84000000e+03],\n",
       "       [  2.20000000e+01,   2.74000000e+03],\n",
       "       [  2.30000000e+01,   1.88000000e+03]])"
      ]
     },
     "execution_count": 171,
     "metadata": {},
     "output_type": "execute_result"
    }
   ],
   "source": [
    "ceil_48_h"
   ]
  },
  {
   "cell_type": "markdown",
   "metadata": {},
   "source": [
    "# 2. PBLH 24h y 48h\n",
    "puedo extraer unos datos, pero aun no tengo datos del ceilometro\n",
    "\n",
    "## Enero 17 2015"
   ]
  },
  {
   "cell_type": "code",
   "execution_count": 3,
   "metadata": {
    "collapsed": true
   },
   "outputs": [],
   "source": [
    "file_01_17_24 = Dataset('24_wrfout_d02_2015-01-17_00.nc', 'r')"
   ]
  },
  {
   "cell_type": "markdown",
   "metadata": {},
   "source": [
    "Ya que estoy trabajando en la malla d02 y esta no cambia, basta con definirla una sola vez"
   ]
  },
  {
   "cell_type": "code",
   "execution_count": 4,
   "metadata": {
    "collapsed": true
   },
   "outputs": [],
   "source": [
    "relieve = file_01_17_24.variables['HGT']\n",
    "\n",
    "xlat = file_01_17_24.variables['XLAT']\n",
    "xlong = file_01_17_24.variables['XLONG']\n",
    "\n",
    "xlat_u = file_01_17_24.variables['XLAT_U']\n",
    "xlong_u = file_01_17_24.variables['XLONG_U']\n",
    "\n",
    "xlat_v = file_01_17_24.variables['XLAT_V']\n",
    "xlong_v = file_01_17_24.variables['XLONG_V']\n",
    "\n",
    "cca_nx, cca_ny = blt.near_coord(xlong, xlat, cca_long, cca_lat)"
   ]
  },
  {
   "cell_type": "code",
   "execution_count": 5,
   "metadata": {
    "collapsed": true
   },
   "outputs": [],
   "source": [
    "file_01_17_48 = Dataset('48_wrfout_d02_2015-01-17_00.nc', 'r')"
   ]
  },
  {
   "cell_type": "code",
   "execution_count": 6,
   "metadata": {
    "collapsed": true
   },
   "outputs": [],
   "source": [
    "pblh_01_17_24 = file_01_17_24.variables['PBLH']\n",
    "T_01_17_24 = file_01_17_24.variables['T']\n",
    "T2_01_17_24 = file_01_17_24.variables['T2']\n",
    "u_01_17_24 = file_01_17_24.variables['U']\n",
    "v_01_17_24 = file_01_17_24.variables['V']\n",
    "PH_01_17_24 = file_01_17_24.variables['PH']\n",
    "PHB_01_17_24 = file_01_17_24.variables['PHB']\n",
    "pblh_01_17_24_cca = pblh_01_17_24[:, cca_nx, cca_ny] "
   ]
  },
  {
   "cell_type": "code",
   "execution_count": 7,
   "metadata": {
    "collapsed": true
   },
   "outputs": [],
   "source": [
    "pblh_01_17_48 = file_01_17_48.variables['PBLH']\n",
    "T_01_17_48 = file_01_17_48.variables['T']\n",
    "T2_01_17_48 = file_01_17_48.variables['T2']\n",
    "u_01_17_48 = file_01_17_48.variables['U']\n",
    "v_01_17_48 = file_01_17_48.variables['V']\n",
    "PH_01_17_48 = file_01_17_48.variables['PH']\n",
    "PHB_01_17_48 = file_01_17_48.variables['PHB']\n",
    "pblh_01_17_48_cca = pblh_01_17_48[:, cca_nx, cca_ny] "
   ]
  },
  {
   "cell_type": "code",
   "execution_count": 8,
   "metadata": {
    "collapsed": true
   },
   "outputs": [],
   "source": [
    "t_range_24 = range(0, len(pblh_01_17_24))\n",
    "t_range_48 = range(len(pblh_01_17_24), 48)"
   ]
  },
  {
   "cell_type": "code",
   "execution_count": 101,
   "metadata": {
    "collapsed": false
   },
   "outputs": [
    {
     "data": {
      "text/plain": [
       "24"
      ]
     },
     "execution_count": 101,
     "metadata": {},
     "output_type": "execute_result"
    }
   ],
   "source": [
    "len(ceil_01_17_h)"
   ]
  },
  {
   "cell_type": "code",
   "execution_count": 172,
   "metadata": {
    "collapsed": false,
    "scrolled": false
   },
   "outputs": [
    {
     "data": {
      "text/plain": [
       "<matplotlib.legend.Legend at 0x112d71cf8>"
      ]
     },
     "execution_count": 172,
     "metadata": {},
     "output_type": "execute_result"
    },
    {
     "data": {
      "image/png": "[encoded data removed]",
      "text/plain": [
       "<matplotlib.figure.Figure at 0x112d67940>"
      ]
     },
     "metadata": {},
     "output_type": "display_data"
    }
   ],
   "source": [
    "plt.figure(figsize=(9,6))\n",
    "plt.plot(t_range_24, pblh_01_17_24_cca, 'k', linewidth=0.7, label='wrf')\n",
    "plt.scatter(t_range_24, pblh_01_17_24_cca, c= t_range_24, cmap='RdBu')\n",
    "plt.plot(t_range_48, pblh_01_17_48_cca, 'k', linewidth=0.7)\n",
    "plt.scatter(t_range_48, pblh_01_17_48_cca, c = t_range_24, cmap='RdBu')\n",
    "plt.plot(ceil_24_h[:,0], ceil_24_h[:,1], 'r', linewidth=0.7)\n",
    "plt.scatter(ceil_24_h[:,0], ceil_24_h[:,1], c = t_range_24, cmap='RdBu')\n",
    "plt.plot(t_range_48, ceil_48_h[:,1], 'r', linewidth=0.7, label='ceil')\n",
    "plt.scatter(t_range_48, ceil_48_h[:,1], c = t_range_24, cmap='RdBu')\n",
    "plt.ylabel(\"Altura sobre superficie [m]\")\n",
    "plt.xlabel('Hora (UTC)')\n",
    "plt.title('PBLH-WRF CCA 2015-01-17')\n",
    "plt.colorbar()\n",
    "plt.legend()"
   ]
  },
  {
   "cell_type": "code",
   "execution_count": 174,
   "metadata": {
    "collapsed": false
   },
   "outputs": [
    {
     "data": {
      "text/plain": [
       "<matplotlib.colorbar.Colorbar at 0x11349a0b8>"
      ]
     },
     "execution_count": 174,
     "metadata": {},
     "output_type": "execute_result"
    },
    {
     "data": {
      "image/png": "[encoded data removed]",
      "text/plain": [
       "<matplotlib.figure.Figure at 0x112d595c0>"
      ]
     },
     "metadata": {},
     "output_type": "display_data"
    }
   ],
   "source": [
    "plt.figure(figsize=(9,8))\n",
    "plt.scatter(ceil_24_h[:,1], pblh_01_17_24_cca, c= t_range_24, cmap='RdBu')\n",
    "plt.ylim(0,2500)\n",
    "plt.xlim(0,2500)\n",
    "plt.ylabel(\"PBLH WRF\")\n",
    "plt.xlabel('Mediciones ceilómetro CCA')\n",
    "plt.title('CCA 2015-01-17')\n",
    "plt.colorbar()\n"
   ]
  },
  {
   "cell_type": "code",
   "execution_count": 130,
   "metadata": {
    "collapsed": true
   },
   "outputs": [],
   "source": [
    "import scipy.optimize as opt"
   ]
  },
  {
   "cell_type": "code",
   "execution_count": 131,
   "metadata": {
    "collapsed": true
   },
   "outputs": [],
   "source": [
    "def ajuste_lineal(x,a,b):\n",
    "    return a + b*x"
   ]
  },
  {
   "cell_type": "code",
   "execution_count": 175,
   "metadata": {
    "collapsed": true
   },
   "outputs": [],
   "source": [
    "popt, pcov = opt.curve_fit(ajuste_lineal, ceil_24_h[:,1], pblh_01_17_24_cca)"
   ]
  },
  {
   "cell_type": "code",
   "execution_count": 179,
   "metadata": {
    "collapsed": false
   },
   "outputs": [
    {
     "data": {
      "text/plain": [
       "array([ 723.14763231,  679.7436279 ,  649.36082481,  588.59521864,\n",
       "        588.59521864,  645.02042437,  618.97802172,  597.27601952,\n",
       "        536.51041334,  137.19357276,  178.42737695,  187.10817783,\n",
       "       -136.25165504, -105.86885195, -166.63445812, -131.9112546 ,\n",
       "        705.78603055,  688.42442878,  653.70122525,  714.46683143,\n",
       "        692.76482922,  718.80723187,  762.21123628,  731.82843319])"
      ]
     },
     "execution_count": 179,
     "metadata": {},
     "output_type": "execute_result"
    }
   ],
   "source": [
    "ajuste_lineal(ceil_24_h[:,1], *popt)"
   ]
  },
  {
   "cell_type": "code",
   "execution_count": 185,
   "metadata": {
    "collapsed": true
   },
   "outputs": [],
   "source": [
    "fit_leg = str(popt[1]) + ' x ' + str(popt[0])"
   ]
  },
  {
   "cell_type": "code",
   "execution_count": 189,
   "metadata": {
    "collapsed": false
   },
   "outputs": [
    {
     "data": {
      "text/plain": [
       "<matplotlib.legend.Legend at 0x1147610b8>"
      ]
     },
     "execution_count": 189,
     "metadata": {},
     "output_type": "execute_result"
    },
    {
     "data": {
      "image/png": "[encoded data removed]",
      "text/plain": [
       "<matplotlib.figure.Figure at 0x1145d1be0>"
      ]
     },
     "metadata": {},
     "output_type": "display_data"
    }
   ],
   "source": [
    "plt.figure(figsize=(9,8))\n",
    "plt.scatter(ceil_24_h[:,1], pblh_01_17_24_cca, c= t_range_24, cmap='RdBu')\n",
    "plt.plot(ceil_24_h[:,1], ajuste_lineal(ceil_24_h[:,1], *popt), 'k', label = 'fit: ' + fit_leg, linewidth=0.7)\n",
    "#plt.ylim(0,2500)\n",
    "#plt.xlim(0,2500)\n",
    "plt.ylabel(\"PBLH WRF\")\n",
    "plt.xlabel('Mediciones ceilómetro CCA')\n",
    "plt.title('CCA 2015-01-17')\n",
    "plt.colorbar()\n",
    "plt.legend(loc = (0.4, 0))"
   ]
  },
  {
   "cell_type": "markdown",
   "metadata": {},
   "source": [
    "----"
   ]
  },
  {
   "cell_type": "code",
   "execution_count": 194,
   "metadata": {
    "collapsed": true
   },
   "outputs": [],
   "source": [
    "file_06_10_24 = Dataset('48_wrfout_d02_2015-01-17_00.nc', 'r')"
   ]
  },
  {
   "cell_type": "code",
   "execution_count": 195,
   "metadata": {
    "collapsed": true
   },
   "outputs": [],
   "source": [
    "file_06_10_48 = Dataset('48_wrfout_d02_2015-06-10_00.nc', 'r')"
   ]
  },
  {
   "cell_type": "code",
   "execution_count": 196,
   "metadata": {
    "collapsed": true
   },
   "outputs": [],
   "source": [
    "pblh_06_10_24 = file_06_10_24.variables['PBLH']\n",
    "T_06_10_24 = file_06_10_24.variables['T']\n",
    "T2_06_10_24 = file_06_10_24.variables['T2']\n",
    "u_06_10_24 = file_06_10_24.variables['U']\n",
    "v_06_10_24 = file_06_10_24.variables['V']\n",
    "PH_06_10_24 = file_06_10_24.variables['PH']\n",
    "PHB_06_10_24 = file_06_10_24.variables['PHB']\n",
    "pblh_06_10_24_cca = pblh_06_10_24[:, cca_nx, cca_ny] "
   ]
  },
  {
   "cell_type": "code",
   "execution_count": 197,
   "metadata": {
    "collapsed": true
   },
   "outputs": [],
   "source": [
    "pblh_06_10_48 = file_06_10_48.variables['PBLH']\n",
    "T_06_10_48 = file_06_10_48.variables['T']\n",
    "T2_06_10_48 = file_06_10_48.variables['T2']\n",
    "u_06_10_48 = file_06_10_48.variables['U']\n",
    "v_06_10_48 = file_06_10_48.variables['V']\n",
    "PH_06_10_48 = file_06_10_48.variables['PH']\n",
    "PHB_06_10_48 = file_06_10_48.variables['PHB']\n",
    "pblh_06_10_48_cca = pblh_06_10_48[:, cca_nx, cca_ny] "
   ]
  },
  {
   "cell_type": "code",
   "execution_count": 198,
   "metadata": {
    "collapsed": false
   },
   "outputs": [
    {
     "data": {
      "text/plain": [
       "<matplotlib.legend.Legend at 0x1149d05c0>"
      ]
     },
     "execution_count": 198,
     "metadata": {},
     "output_type": "execute_result"
    },
    {
     "data": {
      "image/png": "[encoded data removed]",
      "text/plain": [
       "<matplotlib.figure.Figure at 0x114960668>"
      ]
     },
     "metadata": {},
     "output_type": "display_data"
    }
   ],
   "source": [
    "plt.figure(figsize=(9,6))\n",
    "plt.plot(t_range_24, pblh_01_17_24_cca, 'k', linewidth=0.7, label='wrf')\n",
    "plt.scatter(t_range_24, pblh_01_17_24_cca, c= t_range_24, cmap='RdBu')\n",
    "plt.plot(t_range_48, pblh_01_17_48_cca, 'k', linewidth=0.7)\n",
    "plt.scatter(t_range_48, pblh_01_17_48_cca, c = t_range_24, cmap='RdBu')\n",
    "plt.ylabel(\"Altura sobre superficie [m]\")\n",
    "plt.xlabel('Hora (UTC)')\n",
    "plt.title('PBLH-WRF CCA 2015-01-17')\n",
    "plt.colorbar()\n",
    "plt.legend()"
   ]
  },
  {
   "cell_type": "code",
   "execution_count": null,
   "metadata": {
    "collapsed": true
   },
   "outputs": [],
   "source": []
  }
 ],
 "metadata": {
  "kernelspec": {
   "display_name": "Python 3",
   "language": "python",
   "name": "python3"
  },
  "language_info": {
   "codemirror_mode": {
    "name": "ipython",
    "version": 3
   },
   "file_extension": ".py",
   "mimetype": "text/x-python",
   "name": "python",
   "nbconvert_exporter": "python",
   "pygments_lexer": "ipython3",
   "version": "3.5.0"
  }
 },
 "nbformat": 4,
 "nbformat_minor": 2
}
