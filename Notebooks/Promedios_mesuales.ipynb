{
 "cells": [
  {
   "cell_type": "code",
   "execution_count": 1,
   "metadata": {
    "collapsed": true
   },
   "outputs": [],
   "source": [
    "import importlib.util\n",
    "spec = importlib.util.spec_from_file_location(\"bltmat\", \"/Users/claudiopierard/WRF/bltmat.py\")\n",
    "blt = importlib.util.module_from_spec(spec)\n",
    "spec.loader.exec_module(blt)"
   ]
  },
  {
   "cell_type": "code",
   "execution_count": 2,
   "metadata": {
    "collapsed": true
   },
   "outputs": [],
   "source": [
    "import numpy as np\n",
    "import scipy as spy\n",
    "import scipy.io as sio\n",
    "import matplotlib.pyplot as plt\n",
    "%matplotlib inline\n",
    "import datetime\n",
    "#import matplotlib.dates as mdates"
   ]
  },
  {
   "cell_type": "markdown",
   "metadata": {},
   "source": [
    "## Marzo\n"
   ]
  },
  {
   "cell_type": "markdown",
   "metadata": {},
   "source": [
    "Leo los datos del ceilómetro para marzo"
   ]
  },
  {
   "cell_type": "code",
   "execution_count": 3,
   "metadata": {
    "collapsed": true
   },
   "outputs": [],
   "source": [
    "mar_ceilo_dt, mar_ceilo_raw, mar_ceilo_filtered = blt.read_celiomentro_mes(\"/Users/claudiopierard/WRF/Datos/ceilometro/2015_utc/mar_2015_utc.dat\")"
   ]
  },
  {
   "cell_type": "code",
   "execution_count": 4,
   "metadata": {
    "collapsed": true
   },
   "outputs": [],
   "source": [
    "feb_ceilo_dt, feb_ceilo_raw, feb_ceilo_filtered = blt.read_celiomentro_mes(\"/Users/claudiopierard/WRF/Datos/ceilometro/2015_utc/feb_2015_utc.dat\")"
   ]
  },
  {
   "cell_type": "code",
   "execution_count": 5,
   "metadata": {
    "collapsed": false
   },
   "outputs": [],
   "source": [
    "days = range(1,32)\n",
    "march = {}\n",
    "for day in days:\n",
    "    march[str(day)] = {}\n",
    "    march[str(day)]['d-t'] = []\n",
    "    march[str(day)]['raw'] = []\n",
    "    march[str(day)]['filt'] = []\n",
    "    for i in range(0, len(mar_ceilo_dt)):\n",
    "        if mar_ceilo_dt[i].day == day:\n",
    "            march[str(day)]['d-t'].append(mar_ceilo_dt[i])\n",
    "            march[str(day)]['raw'].append(mar_ceilo_raw[i])\n",
    "            march[str(day)]['filt'].append(mar_ceilo_filtered[i])\n",
    "    "
   ]
  },
  {
   "cell_type": "code",
   "execution_count": 6,
   "metadata": {
    "collapsed": false
   },
   "outputs": [
    {
     "data": {
      "text/plain": [
       "dict_keys(['4', '24', '11', '30', '1', '5', '16', '15', '26', '27', '6', '9', '29', '17', '23', '3', '13', '20', '8', '10', '22', '2', '18', '19', '12', '14', '21', '31', '28', '7', '25'])"
      ]
     },
     "execution_count": 6,
     "metadata": {},
     "output_type": "execute_result"
    }
   ],
   "source": [
    "march.keys()"
   ]
  },
  {
   "cell_type": "markdown",
   "metadata": {},
   "source": [
    "Graficando de las 6 am hasta las 12 pm"
   ]
  },
  {
   "cell_type": "code",
   "execution_count": 1,
   "metadata": {
    "collapsed": false
   },
   "outputs": [
    {
     "ename": "NameError",
     "evalue": "name 'march' is not defined",
     "output_type": "error",
     "traceback": [
      "\u001b[0;31m---------------------------------------------------------------------------\u001b[0m",
      "\u001b[0;31mNameError\u001b[0m                                 Traceback (most recent call last)",
      "\u001b[0;32m<ipython-input-1-690500e706cd>\u001b[0m in \u001b[0;36m<module>\u001b[0;34m()\u001b[0m\n\u001b[0;32m----> 1\u001b[0;31m \u001b[0mend\u001b[0m \u001b[0;34m=\u001b[0m \u001b[0mlen\u001b[0m\u001b[0;34m(\u001b[0m\u001b[0mmarch\u001b[0m\u001b[0;34m[\u001b[0m\u001b[0;34m'1'\u001b[0m\u001b[0;34m]\u001b[0m\u001b[0;34m[\u001b[0m\u001b[0;34m'raw'\u001b[0m\u001b[0;34m]\u001b[0m\u001b[0;34m[\u001b[0m\u001b[0;34m:\u001b[0m\u001b[0;34m]\u001b[0m\u001b[0;34m)\u001b[0m\u001b[0;34m\u001b[0m\u001b[0m\n\u001b[0m\u001b[1;32m      2\u001b[0m \u001b[0mp1\u001b[0m \u001b[0;34m=\u001b[0m \u001b[0;36m6\u001b[0m\u001b[0;34m*\u001b[0m\u001b[0;36m6\u001b[0m\u001b[0;34m\u001b[0m\u001b[0m\n\u001b[1;32m      3\u001b[0m \u001b[0mp2\u001b[0m \u001b[0;34m=\u001b[0m \u001b[0;36m12\u001b[0m\u001b[0;34m*\u001b[0m\u001b[0;36m6\u001b[0m\u001b[0;34m\u001b[0m\u001b[0m\n\u001b[1;32m      4\u001b[0m \u001b[0mp3\u001b[0m \u001b[0;34m=\u001b[0m \u001b[0;36m18\u001b[0m\u001b[0;34m*\u001b[0m\u001b[0;36m6\u001b[0m\u001b[0;34m\u001b[0m\u001b[0m\n\u001b[1;32m      5\u001b[0m \u001b[0mplt\u001b[0m\u001b[0;34m.\u001b[0m\u001b[0mfigure\u001b[0m\u001b[0;34m(\u001b[0m\u001b[0mfigsize\u001b[0m\u001b[0;34m=\u001b[0m\u001b[0;34m(\u001b[0m\u001b[0;36m8\u001b[0m\u001b[0;34m,\u001b[0m \u001b[0;36m6\u001b[0m\u001b[0;34m)\u001b[0m\u001b[0;34m)\u001b[0m\u001b[0;34m\u001b[0m\u001b[0m\n",
      "\u001b[0;31mNameError\u001b[0m: name 'march' is not defined"
     ]
    }
   ],
   "source": [
    "end = len(march['1']['raw'][:]) \n",
    "p1 = 6*6\n",
    "p2 = 12*6\n",
    "p3 = 18*6\n",
    "plt.figure(figsize=(8, 6))\n",
    "plt.plot(march['1']['d-t'][36:end], march['1']['raw'][36:end], 'k--')\n",
    "plt.scatter(march['1']['d-t'][p1:p2], march['1']['filt'][p1:p2], c = 'k', edgecolors='none')\n",
    "plt.scatter(march['1']['d-t'][p2:p3], march['1']['filt'][p2:p3], c = 'y', edgecolors='none')\n",
    "plt.scatter(march['1']['d-t'][p3:end], march['1']['filt'][p3:end], c = 'r', edgecolors='none')\n",
    "plt.gcf().autofmt_xdate()\n",
    "plt.title('1 Marzo (UTC)')\n",
    "plt.ylabel('Altura sobre superficie [m]')\n"
   ]
  },
  {
   "cell_type": "code",
   "execution_count": 8,
   "metadata": {
    "collapsed": false
   },
   "outputs": [
    {
     "data": {
      "text/plain": [
       "dict_keys(['4', '24', '11', '30', '1', '5', '16', '15', '26', '27', '6', '9', '29', '17', '23', '3', '13', '20', '8', '10', '22', '2', '18', '19', '12', '14', '21', '31', '28', '7', '25'])"
      ]
     },
     "execution_count": 8,
     "metadata": {},
     "output_type": "execute_result"
    }
   ],
   "source": [
    "march.keys()"
   ]
  },
  {
   "cell_type": "code",
   "execution_count": 9,
   "metadata": {
    "collapsed": false
   },
   "outputs": [
    {
     "data": {
      "text/plain": [
       "<function dict.fromkeys>"
      ]
     },
     "execution_count": 9,
     "metadata": {},
     "output_type": "execute_result"
    }
   ],
   "source": [
    "march.fromkeys"
   ]
  },
  {
   "cell_type": "code",
   "execution_count": 10,
   "metadata": {
    "collapsed": false
   },
   "outputs": [
    {
     "data": {
      "text/plain": [
       "31"
      ]
     },
     "execution_count": 10,
     "metadata": {},
     "output_type": "execute_result"
    }
   ],
   "source": [
    "len(march)"
   ]
  },
  {
   "cell_type": "code",
   "execution_count": 11,
   "metadata": {
    "collapsed": false
   },
   "outputs": [
    {
     "name": "stdout",
     "output_type": "stream",
     "text": [
      "2331.29032258\n"
     ]
    }
   ],
   "source": [
    "suma = 0\n",
    "for i in march.keys():\n",
    "    suma += march[i]['raw'][0]\n",
    "print(suma/len(march))\n",
    "    "
   ]
  },
  {
   "cell_type": "markdown",
   "metadata": {},
   "source": [
    "----"
   ]
  },
  {
   "cell_type": "code",
   "execution_count": 12,
   "metadata": {
    "collapsed": false
   },
   "outputs": [],
   "source": [
    "A = np.array([[[[1],[2]], [[3], [4]]]])"
   ]
  },
  {
   "cell_type": "code",
   "execution_count": 13,
   "metadata": {
    "collapsed": false
   },
   "outputs": [
    {
     "data": {
      "text/plain": [
       "(1, 2, 2, 1)"
      ]
     },
     "execution_count": 13,
     "metadata": {},
     "output_type": "execute_result"
    }
   ],
   "source": [
    "A.shape"
   ]
  },
  {
   "cell_type": "code",
   "execution_count": 14,
   "metadata": {
    "collapsed": false
   },
   "outputs": [
    {
     "data": {
      "text/plain": [
       "30"
      ]
     },
     "execution_count": 14,
     "metadata": {},
     "output_type": "execute_result"
    }
   ],
   "source": [
    "mar_ceilo_dt[3].minute"
   ]
  },
  {
   "cell_type": "code",
   "execution_count": 15,
   "metadata": {
    "collapsed": true
   },
   "outputs": [],
   "source": [
    "mm = range(0, 60, 10)"
   ]
  },
  {
   "cell_type": "code",
   "execution_count": 16,
   "metadata": {
    "collapsed": false
   },
   "outputs": [
    {
     "name": "stdout",
     "output_type": "stream",
     "text": [
      "0\n",
      "10\n",
      "20\n",
      "30\n",
      "40\n",
      "50\n"
     ]
    }
   ],
   "source": [
    "for i in mm:\n",
    "    print(i)"
   ]
  },
  {
   "cell_type": "code",
   "execution_count": 19,
   "metadata": {
    "collapsed": false
   },
   "outputs": [
    {
     "name": "stdout",
     "output_type": "stream",
     "text": [
      "1\n",
      "2\n",
      "3\n",
      "4\n",
      "5\n",
      "6\n",
      "7\n",
      "8\n",
      "9\n",
      "10\n",
      "11\n",
      "12\n",
      "13\n",
      "14\n",
      "15\n",
      "16\n",
      "17\n",
      "18\n",
      "19\n",
      "20\n",
      "21\n",
      "22\n",
      "23\n",
      "24\n",
      "25\n",
      "26\n",
      "27\n",
      "28\n",
      "29\n",
      "30\n",
      "31\n"
     ]
    }
   ],
   "source": [
    "days = range(1,32)\n",
    "hours = range(0, 24)\n",
    "minutes = range(0, 60, 10)\n",
    "marzo = []\n",
    "\n",
    "for dia in days:\n",
    "    print(dia)\n",
    "    dd = []\n",
    "    for hora in hours:\n",
    "        #print(hora)\n",
    "        hh = []\n",
    "        for minuto in minutes:\n",
    "            #print(minuto)\n",
    "            mms = np.zeros(2)\n",
    "            for i in range(0, len(mar_ceilo_dt)):\n",
    "                #print(\"--\", mar_ceilo_dt[i].day, mar_ceilo_dt[i].hour, mar_ceilo_dt[i].minute)\n",
    "                if mar_ceilo_dt[i].day == dia and mar_ceilo_dt[i].hour == hora and mar_ceilo_dt[i].minute == minuto:\n",
    "                    #print('hello')\n",
    "                    #mms.append([mar_ceilo_dt[i], mar_ceilo_raw[i], mar_ceilo_filtered[i]])\n",
    "                    #mms.append(mar_ceilo_dt[i])\n",
    "                    #mms.append(mar_ceilo_raw[i])\n",
    "                    #mms.append(mar_ceilo_filtered[i])\n",
    "                    mms[0] = mar_ceilo_raw[i]\n",
    "                    mms[1] = mar_ceilo_filtered[i]\n",
    "                    break\n",
    "                    \n",
    "                    \n",
    "            hh.append(mms)\n",
    "        #hh = np.array(hh)\n",
    "        dd.append(hh)\n",
    "    marzo.append(dd)\n",
    "marzo = np.array(marzo)"
   ]
  },
  {
   "cell_type": "code",
   "execution_count": 20,
   "metadata": {
    "collapsed": false
   },
   "outputs": [
    {
     "data": {
      "text/plain": [
       "2630.0"
      ]
     },
     "execution_count": 20,
     "metadata": {},
     "output_type": "execute_result"
    }
   ],
   "source": [
    "marzo[0][0][0][0]"
   ]
  },
  {
   "cell_type": "code",
   "execution_count": 21,
   "metadata": {
    "collapsed": false
   },
   "outputs": [
    {
     "data": {
      "text/plain": [
       "(6, 2)"
      ]
     },
     "execution_count": 21,
     "metadata": {},
     "output_type": "execute_result"
    }
   ],
   "source": [
    "np.array(hh).shape"
   ]
  },
  {
   "cell_type": "code",
   "execution_count": 22,
   "metadata": {
    "collapsed": false
   },
   "outputs": [
    {
     "data": {
      "text/plain": [
       "(31, 24, 6, 2)"
      ]
     },
     "execution_count": 22,
     "metadata": {},
     "output_type": "execute_result"
    }
   ],
   "source": [
    "marzo.shape"
   ]
  },
  {
   "cell_type": "code",
   "execution_count": 23,
   "metadata": {
    "collapsed": false
   },
   "outputs": [
    {
     "data": {
      "text/plain": [
       "array([ 1595.,  1595.])"
      ]
     },
     "execution_count": 23,
     "metadata": {},
     "output_type": "execute_result"
    }
   ],
   "source": [
    "marzo[0,1,3]"
   ]
  },
  {
   "cell_type": "code",
   "execution_count": 24,
   "metadata": {
    "collapsed": false
   },
   "outputs": [
    {
     "name": "stdout",
     "output_type": "stream",
     "text": [
      "2015-03-01 01:30:00\n",
      "1595.0\n",
      "1595.0\n"
     ]
    }
   ],
   "source": [
    "ix = 9\n",
    "print(mar_ceilo_dt[ix])\n",
    "print(mar_ceilo_raw[ix])\n",
    "print(mar_ceilo_filtered[ix])"
   ]
  },
  {
   "cell_type": "code",
   "execution_count": 25,
   "metadata": {
    "collapsed": false
   },
   "outputs": [
    {
     "data": {
      "text/plain": [
       "2630.0"
      ]
     },
     "execution_count": 25,
     "metadata": {},
     "output_type": "execute_result"
    }
   ],
   "source": [
    "mar_ceilo_raw[0]"
   ]
  },
  {
   "cell_type": "code",
   "execution_count": 26,
   "metadata": {
    "collapsed": false
   },
   "outputs": [
    {
     "data": {
      "text/plain": [
       "2630.0"
      ]
     },
     "execution_count": 26,
     "metadata": {},
     "output_type": "execute_result"
    }
   ],
   "source": [
    "marzo[0,0,0][0]"
   ]
  },
  {
   "cell_type": "code",
   "execution_count": 27,
   "metadata": {
    "collapsed": false
   },
   "outputs": [
    {
     "data": {
      "text/plain": [
       "(31, 24, 6, 2)"
      ]
     },
     "execution_count": 27,
     "metadata": {},
     "output_type": "execute_result"
    }
   ],
   "source": [
    "marzo.shape"
   ]
  },
  {
   "cell_type": "code",
   "execution_count": 28,
   "metadata": {
    "collapsed": false
   },
   "outputs": [
    {
     "name": "stdout",
     "output_type": "stream",
     "text": [
      "1\n"
     ]
    },
    {
     "ename": "NameError",
     "evalue": "name 'datetimes' is not defined",
     "output_type": "error",
     "traceback": [
      "\u001b[0;31m---------------------------------------------------------------------------\u001b[0m",
      "\u001b[0;31mNameError\u001b[0m                                 Traceback (most recent call last)",
      "\u001b[0;32m<ipython-input-28-4933d5d5fc2d>\u001b[0m in \u001b[0;36m<module>\u001b[0;34m()\u001b[0m\n\u001b[1;32m     13\u001b[0m             \u001b[0;31m#print(minuto)\u001b[0m\u001b[0;34m\u001b[0m\u001b[0;34m\u001b[0m\u001b[0m\n\u001b[1;32m     14\u001b[0m             \u001b[0mmms\u001b[0m \u001b[0;34m=\u001b[0m \u001b[0;34m[\u001b[0m\u001b[0;34m]\u001b[0m\u001b[0;34m\u001b[0m\u001b[0m\n\u001b[0;32m---> 15\u001b[0;31m             \u001b[0;32mfor\u001b[0m \u001b[0mi\u001b[0m \u001b[0;32min\u001b[0m \u001b[0mrange\u001b[0m\u001b[0;34m(\u001b[0m\u001b[0;36m0\u001b[0m\u001b[0;34m,\u001b[0m \u001b[0mlen\u001b[0m\u001b[0;34m(\u001b[0m\u001b[0mdatetimes\u001b[0m\u001b[0;34m)\u001b[0m\u001b[0;34m)\u001b[0m\u001b[0;34m:\u001b[0m\u001b[0;34m\u001b[0m\u001b[0m\n\u001b[0m\u001b[1;32m     16\u001b[0m                 \u001b[0;31m#print(\"--\", datetimes[i].day, datetimes[i].hour, datetimes[i].minute)\u001b[0m\u001b[0;34m\u001b[0m\u001b[0;34m\u001b[0m\u001b[0m\n\u001b[1;32m     17\u001b[0m                 \u001b[0;32mif\u001b[0m \u001b[0mdatetimes\u001b[0m\u001b[0;34m[\u001b[0m\u001b[0mi\u001b[0m\u001b[0;34m]\u001b[0m\u001b[0;34m.\u001b[0m\u001b[0mday\u001b[0m \u001b[0;34m==\u001b[0m \u001b[0mdia\u001b[0m \u001b[0;32mand\u001b[0m \u001b[0mdatetimes\u001b[0m\u001b[0;34m[\u001b[0m\u001b[0mi\u001b[0m\u001b[0;34m]\u001b[0m\u001b[0;34m.\u001b[0m\u001b[0mhour\u001b[0m \u001b[0;34m==\u001b[0m \u001b[0mhora\u001b[0m \u001b[0;32mand\u001b[0m \u001b[0mdatetimes\u001b[0m\u001b[0;34m[\u001b[0m\u001b[0mi\u001b[0m\u001b[0;34m]\u001b[0m\u001b[0;34m.\u001b[0m\u001b[0mminute\u001b[0m \u001b[0;34m==\u001b[0m \u001b[0mminuto\u001b[0m\u001b[0;34m:\u001b[0m\u001b[0;34m\u001b[0m\u001b[0m\n",
      "\u001b[0;31mNameError\u001b[0m: name 'datetimes' is not defined"
     ]
    }
   ],
   "source": [
    "days = range(1,32)\n",
    "hours = range(0, 24)\n",
    "minutes = range(0, 60, 10)\n",
    "mes = []\n",
    "\n",
    "for dia in days:\n",
    "    print(dia)\n",
    "    dd = []\n",
    "    for hora in hours:\n",
    "        #print(hora)\n",
    "        hh = []\n",
    "        for minuto in minutes:\n",
    "            #print(minuto)\n",
    "            mms = []\n",
    "            for i in range(0, len(datetimes)):\n",
    "                #print(\"--\", datetimes[i].day, datetimes[i].hour, datetimes[i].minute)\n",
    "                if datetimes[i].day == dia and datetimes[i].hour == hora and datetimes[i].minute == minuto:\n",
    "                    #print('hello')\n",
    "                    mms.append(datetimes[i])\n",
    "                    mms.append(raws[i])\n",
    "                    mms.append(filtereds[i])\n",
    "                    break\n",
    "                    \n",
    "                    \n",
    "            hh.append(mms)\n",
    "        dd.append(hh)\n",
    "    mes.append(dd)\n",
    "mes = np.array(mes)"
   ]
  },
  {
   "cell_type": "code",
   "execution_count": 29,
   "metadata": {
    "collapsed": false
   },
   "outputs": [],
   "source": [
    "febrero = blt.read_celiometro_mes_array(\"/Users/claudiopierard/WRF/Datos/ceilometro/2015_utc/feb_2015_utc.dat\")"
   ]
  },
  {
   "cell_type": "code",
   "execution_count": 30,
   "metadata": {
    "collapsed": false
   },
   "outputs": [],
   "source": [
    "enero = blt.read_celiometro_mes_array(\"/Users/claudiopierard/WRF/Datos/ceilometro/2015_utc/jan_2015_utc.dat\")"
   ]
  },
  {
   "cell_type": "code",
   "execution_count": 31,
   "metadata": {
    "collapsed": true
   },
   "outputs": [],
   "source": [
    "marzo = blt.read_celiometro_mes_array(\"/Users/claudiopierard/WRF/Datos/ceilometro/2015_utc/mar_2015_utc.dat\")"
   ]
  },
  {
   "cell_type": "code",
   "execution_count": 32,
   "metadata": {
    "collapsed": false
   },
   "outputs": [
    {
     "data": {
      "text/plain": [
       "(31, 24, 6, 2)"
      ]
     },
     "execution_count": 32,
     "metadata": {},
     "output_type": "execute_result"
    }
   ],
   "source": [
    "marzo.shape"
   ]
  },
  {
   "cell_type": "code",
   "execution_count": 33,
   "metadata": {
    "collapsed": false
   },
   "outputs": [
    {
     "data": {
      "text/plain": [
       "(31, 24, 6, 2)"
      ]
     },
     "execution_count": 33,
     "metadata": {},
     "output_type": "execute_result"
    }
   ],
   "source": [
    "enero.shape"
   ]
  },
  {
   "cell_type": "code",
   "execution_count": 34,
   "metadata": {
    "collapsed": false
   },
   "outputs": [
    {
     "data": {
      "text/plain": [
       "(28, 24, 6, 2)"
      ]
     },
     "execution_count": 34,
     "metadata": {},
     "output_type": "execute_result"
    }
   ],
   "source": [
    "febrero.shape"
   ]
  },
  {
   "cell_type": "markdown",
   "metadata": {},
   "source": [
    "## Promedios ceilómetro"
   ]
  },
  {
   "cell_type": "code",
   "execution_count": 35,
   "metadata": {
    "collapsed": false
   },
   "outputs": [
    {
     "data": {
      "text/plain": [
       "108"
      ]
     },
     "execution_count": 35,
     "metadata": {},
     "output_type": "execute_result"
    }
   ],
   "source": [
    "18*6"
   ]
  },
  {
   "cell_type": "code",
   "execution_count": 36,
   "metadata": {
    "collapsed": false
   },
   "outputs": [
    {
     "data": {
      "text/plain": [
       "[datetime.datetime(2015, 3, 10, 6, 0),\n",
       " datetime.datetime(2015, 3, 10, 6, 10),\n",
       " datetime.datetime(2015, 3, 10, 6, 20),\n",
       " datetime.datetime(2015, 3, 10, 6, 30),\n",
       " datetime.datetime(2015, 3, 10, 6, 40),\n",
       " datetime.datetime(2015, 3, 10, 6, 50),\n",
       " datetime.datetime(2015, 3, 10, 7, 0),\n",
       " datetime.datetime(2015, 3, 10, 7, 10),\n",
       " datetime.datetime(2015, 3, 10, 7, 20),\n",
       " datetime.datetime(2015, 3, 10, 7, 30),\n",
       " datetime.datetime(2015, 3, 10, 7, 40),\n",
       " datetime.datetime(2015, 3, 10, 7, 50),\n",
       " datetime.datetime(2015, 3, 10, 8, 0),\n",
       " datetime.datetime(2015, 3, 10, 8, 10),\n",
       " datetime.datetime(2015, 3, 10, 8, 20),\n",
       " datetime.datetime(2015, 3, 10, 8, 30),\n",
       " datetime.datetime(2015, 3, 10, 8, 40),\n",
       " datetime.datetime(2015, 3, 10, 8, 50),\n",
       " datetime.datetime(2015, 3, 10, 9, 0),\n",
       " datetime.datetime(2015, 3, 10, 9, 10),\n",
       " datetime.datetime(2015, 3, 10, 9, 20),\n",
       " datetime.datetime(2015, 3, 10, 9, 30),\n",
       " datetime.datetime(2015, 3, 10, 9, 40),\n",
       " datetime.datetime(2015, 3, 10, 9, 50),\n",
       " datetime.datetime(2015, 3, 10, 10, 0),\n",
       " datetime.datetime(2015, 3, 10, 10, 10),\n",
       " datetime.datetime(2015, 3, 10, 10, 20),\n",
       " datetime.datetime(2015, 3, 10, 10, 30),\n",
       " datetime.datetime(2015, 3, 10, 10, 40),\n",
       " datetime.datetime(2015, 3, 10, 10, 50),\n",
       " datetime.datetime(2015, 3, 10, 11, 0),\n",
       " datetime.datetime(2015, 3, 10, 11, 10),\n",
       " datetime.datetime(2015, 3, 10, 11, 20),\n",
       " datetime.datetime(2015, 3, 10, 11, 30),\n",
       " datetime.datetime(2015, 3, 10, 11, 40),\n",
       " datetime.datetime(2015, 3, 10, 11, 50),\n",
       " datetime.datetime(2015, 3, 10, 12, 0),\n",
       " datetime.datetime(2015, 3, 10, 12, 10),\n",
       " datetime.datetime(2015, 3, 10, 12, 20),\n",
       " datetime.datetime(2015, 3, 10, 12, 30),\n",
       " datetime.datetime(2015, 3, 10, 12, 40),\n",
       " datetime.datetime(2015, 3, 10, 12, 50),\n",
       " datetime.datetime(2015, 3, 10, 13, 0),\n",
       " datetime.datetime(2015, 3, 10, 13, 10),\n",
       " datetime.datetime(2015, 3, 10, 13, 20),\n",
       " datetime.datetime(2015, 3, 10, 13, 30),\n",
       " datetime.datetime(2015, 3, 10, 13, 40),\n",
       " datetime.datetime(2015, 3, 10, 13, 50),\n",
       " datetime.datetime(2015, 3, 10, 14, 0),\n",
       " datetime.datetime(2015, 3, 10, 14, 10),\n",
       " datetime.datetime(2015, 3, 10, 14, 20),\n",
       " datetime.datetime(2015, 3, 10, 14, 30),\n",
       " datetime.datetime(2015, 3, 10, 14, 40),\n",
       " datetime.datetime(2015, 3, 10, 14, 50),\n",
       " datetime.datetime(2015, 3, 10, 15, 0),\n",
       " datetime.datetime(2015, 3, 10, 15, 10),\n",
       " datetime.datetime(2015, 3, 10, 15, 20),\n",
       " datetime.datetime(2015, 3, 10, 15, 30),\n",
       " datetime.datetime(2015, 3, 10, 15, 40),\n",
       " datetime.datetime(2015, 3, 10, 15, 50),\n",
       " datetime.datetime(2015, 3, 10, 16, 0),\n",
       " datetime.datetime(2015, 3, 10, 16, 10),\n",
       " datetime.datetime(2015, 3, 10, 16, 20),\n",
       " datetime.datetime(2015, 3, 10, 16, 30),\n",
       " datetime.datetime(2015, 3, 10, 16, 40),\n",
       " datetime.datetime(2015, 3, 10, 16, 50),\n",
       " datetime.datetime(2015, 3, 10, 17, 0),\n",
       " datetime.datetime(2015, 3, 10, 17, 10),\n",
       " datetime.datetime(2015, 3, 10, 17, 20),\n",
       " datetime.datetime(2015, 3, 10, 17, 30),\n",
       " datetime.datetime(2015, 3, 10, 17, 40),\n",
       " datetime.datetime(2015, 3, 10, 17, 50),\n",
       " datetime.datetime(2015, 3, 10, 18, 0),\n",
       " datetime.datetime(2015, 3, 10, 18, 10),\n",
       " datetime.datetime(2015, 3, 10, 18, 20),\n",
       " datetime.datetime(2015, 3, 10, 18, 30),\n",
       " datetime.datetime(2015, 3, 10, 18, 40),\n",
       " datetime.datetime(2015, 3, 10, 18, 50),\n",
       " datetime.datetime(2015, 3, 10, 19, 0),\n",
       " datetime.datetime(2015, 3, 10, 19, 10),\n",
       " datetime.datetime(2015, 3, 10, 19, 20),\n",
       " datetime.datetime(2015, 3, 10, 19, 30),\n",
       " datetime.datetime(2015, 3, 10, 19, 40),\n",
       " datetime.datetime(2015, 3, 10, 19, 50),\n",
       " datetime.datetime(2015, 3, 10, 20, 0),\n",
       " datetime.datetime(2015, 3, 10, 20, 10),\n",
       " datetime.datetime(2015, 3, 10, 20, 20),\n",
       " datetime.datetime(2015, 3, 10, 20, 30),\n",
       " datetime.datetime(2015, 3, 10, 20, 40),\n",
       " datetime.datetime(2015, 3, 10, 20, 50),\n",
       " datetime.datetime(2015, 3, 10, 21, 0),\n",
       " datetime.datetime(2015, 3, 10, 21, 10),\n",
       " datetime.datetime(2015, 3, 10, 21, 20),\n",
       " datetime.datetime(2015, 3, 10, 21, 30),\n",
       " datetime.datetime(2015, 3, 10, 21, 40),\n",
       " datetime.datetime(2015, 3, 10, 21, 50),\n",
       " datetime.datetime(2015, 3, 10, 22, 0),\n",
       " datetime.datetime(2015, 3, 10, 22, 10),\n",
       " datetime.datetime(2015, 3, 10, 22, 20),\n",
       " datetime.datetime(2015, 3, 10, 22, 30),\n",
       " datetime.datetime(2015, 3, 10, 22, 40),\n",
       " datetime.datetime(2015, 3, 10, 22, 50),\n",
       " datetime.datetime(2015, 3, 10, 23, 0),\n",
       " datetime.datetime(2015, 3, 10, 23, 10),\n",
       " datetime.datetime(2015, 3, 10, 23, 20),\n",
       " datetime.datetime(2015, 3, 10, 23, 30),\n",
       " datetime.datetime(2015, 3, 10, 23, 40),\n",
       " datetime.datetime(2015, 3, 10, 23, 50)]"
      ]
     },
     "execution_count": 36,
     "metadata": {},
     "output_type": "execute_result"
    }
   ],
   "source": [
    "march['10']['d-t']"
   ]
  },
  {
   "cell_type": "code",
   "execution_count": 37,
   "metadata": {
    "collapsed": false
   },
   "outputs": [
    {
     "name": "stdout",
     "output_type": "stream",
     "text": [
      "1\n",
      "2015-03-01 02:00:00 1385.0\n",
      "2\n",
      "2015-03-02 02:00:00 1620.0\n",
      "3\n",
      "2015-03-03 02:00:00 2800.0\n",
      "4\n",
      "2015-03-04 02:00:00 1545.0\n",
      "5\n",
      "2015-03-05 02:00:00 1635.0\n",
      "6\n",
      "2015-03-06 02:00:00 920.0\n",
      "7\n",
      "2015-03-07 02:00:00 1750.0\n",
      "8\n",
      "2015-03-08 02:00:00 2450.0\n",
      "9\n",
      "2015-03-09 02:00:00 2510.0\n",
      "10\n",
      "2015-03-10 08:00:00 1190.0\n",
      "11\n",
      "2015-03-11 02:00:00 2000.0\n",
      "12\n",
      "2015-03-12 02:00:00 1090.0\n",
      "13\n",
      "2015-03-13 02:00:00 2080.0\n",
      "14\n",
      "2015-03-14 02:00:00 2000.0\n",
      "15\n",
      "2015-03-15 02:00:00 2090.0\n",
      "16\n",
      "2015-03-16 02:00:00 620.0\n",
      "17\n",
      "2015-03-17 02:00:00 2650.0\n",
      "18\n",
      "2015-03-18 02:00:00 2000.0\n",
      "19\n",
      "2015-03-19 02:00:00 2250.0\n",
      "20\n",
      "2015-03-20 02:00:00 1800.0\n",
      "21\n",
      "2015-03-21 02:00:00 1540.0\n",
      "22\n",
      "2015-03-22 08:00:00 730.0\n",
      "23\n",
      "2015-03-23 02:00:00 2220.0\n",
      "24\n",
      "2015-03-24 02:00:00 1850.0\n",
      "25\n",
      "2015-03-25 02:00:00 2340.0\n",
      "26\n",
      "2015-03-26 02:00:00 2480.0\n",
      "27\n",
      "2015-03-27 02:00:00 2200.0\n",
      "28\n",
      "2015-03-28 02:00:00 520.0\n",
      "29\n",
      "2015-03-29 08:00:00 1620.0\n",
      "30\n",
      "2015-03-30 02:00:00 2400.0\n",
      "31\n",
      "2015-03-31 02:00:00 1760.0\n"
     ]
    }
   ],
   "source": [
    "mar_18 = []\n",
    "for i in range(1,32):\n",
    "    print(i)\n",
    "    print(march[str(i)]['d-t'][12], march[str(i)]['raw'][12])\n",
    "    \n",
    "    "
   ]
  },
  {
   "cell_type": "code",
   "execution_count": 38,
   "metadata": {
    "collapsed": false
   },
   "outputs": [
    {
     "data": {
      "text/plain": [
       "2260.0"
      ]
     },
     "execution_count": 38,
     "metadata": {},
     "output_type": "execute_result"
    }
   ],
   "source": [
    "march['1']['raw'][108]"
   ]
  },
  {
   "cell_type": "code",
   "execution_count": 40,
   "metadata": {
    "collapsed": false
   },
   "outputs": [
    {
     "data": {
      "text/plain": [
       "[<matplotlib.lines.Line2D at 0x10aa6bf28>]"
      ]
     },
     "execution_count": 40,
     "metadata": {},
     "output_type": "execute_result"
    },
    {
     "data": {
      "image/png": "[encoded data removed]",
      "text/plain": [
       "<matplotlib.figure.Figure at 0x10aa2d710>"
      ]
     },
     "metadata": {},
     "output_type": "display_data"
    }
   ],
   "source": [
    "plt.plot(marzo[:, 18, 0, 0])"
   ]
  },
  {
   "cell_type": "code",
   "execution_count": null,
   "metadata": {
    "collapsed": true
   },
   "outputs": [],
   "source": []
  },
  {
   "cell_type": "code",
   "execution_count": 169,
   "metadata": {
    "collapsed": false
   },
   "outputs": [
    {
     "data": {
      "text/plain": [
       "28"
      ]
     },
     "execution_count": 169,
     "metadata": {},
     "output_type": "execute_result"
    }
   ],
   "source": [
    "febrero[:, 0, 0, 0]"
   ]
  },
  {
   "cell_type": "code",
   "execution_count": 167,
   "metadata": {
    "collapsed": false
   },
   "outputs": [
    {
     "data": {
      "text/plain": [
       "1970.5357142857142"
      ]
     },
     "execution_count": 167,
     "metadata": {},
     "output_type": "execute_result"
    }
   ],
   "source": [
    "np.mean(febrero[:, 0, 0, 0])"
   ]
  },
  {
   "cell_type": "code",
   "execution_count": 130,
   "metadata": {
    "collapsed": false
   },
   "outputs": [
    {
     "data": {
      "text/plain": [
       "[datetime.datetime(2015, 1, 9, 18, 0), 610.0, 610.0]"
      ]
     },
     "execution_count": 130,
     "metadata": {},
     "output_type": "execute_result"
    }
   ],
   "source": [
    "enero[:, , 0]"
   ]
  },
  {
   "cell_type": "markdown",
   "metadata": {},
   "source": [
    "## Por índices"
   ]
  },
  {
   "cell_type": "code",
   "execution_count": 42,
   "metadata": {
    "collapsed": true
   },
   "outputs": [],
   "source": [
    "def search_hours(hh, DT):\n",
    "    indexes = []\n",
    "    for i in range(0, len(DT)):\n",
    "        if DT[i].hour == hh and DT[i].minute == 0:\n",
    "            indexes.append(i)\n",
    "    return indexes"
   ]
  },
  {
   "cell_type": "code",
   "execution_count": 43,
   "metadata": {
    "collapsed": false
   },
   "outputs": [
    {
     "data": {
      "text/plain": [
       "[24,\n",
       " 168,\n",
       " 312,\n",
       " 456,\n",
       " 600,\n",
       " 744,\n",
       " 888,\n",
       " 1032,\n",
       " 1176,\n",
       " 1320,\n",
       " 1464,\n",
       " 1608,\n",
       " 1752,\n",
       " 1896,\n",
       " 2040,\n",
       " 2184,\n",
       " 2328,\n",
       " 2472,\n",
       " 2616,\n",
       " 2760,\n",
       " 2904,\n",
       " 3048,\n",
       " 3192,\n",
       " 3336,\n",
       " 3480,\n",
       " 3624,\n",
       " 3768,\n",
       " 3912]"
      ]
     },
     "execution_count": 43,
     "metadata": {},
     "output_type": "execute_result"
    }
   ],
   "source": [
    "search_hours(4, mar_ceilo_dt)"
   ]
  },
  {
   "cell_type": "code",
   "execution_count": 44,
   "metadata": {
    "collapsed": false
   },
   "outputs": [],
   "source": [
    "def promedios_mesuales_hora(hh, DT, RAW):\n",
    "    \n",
    "    index_array = search_hours(hh, DT)\n",
    "    \n",
    "    mensuales = []\n",
    "    mensuales_std = []\n",
    "    mensuales_hora = []\n",
    "    mensuales_hora_std = []\n",
    "\n",
    "    for i in index_array:\n",
    "        mensuales.append(RAW[i])\n",
    "        intervalo_hora = []\n",
    "        \n",
    "        for j in range(-3, 4):\n",
    "            intervalo_hora.append(RAW[i + j])\n",
    "            \n",
    "        mean_hora = np.mean(intervalo_hora)\n",
    "        std_hora = np.std(intervalo_hora)\n",
    "        mensuales_hora.append(mean_hora)\n",
    "        mensuales_hora_std.append(std_hora)\n",
    "        \n",
    "        \n",
    "    mean_mesuales = np.mean(mensuales)\n",
    "    std_mensuales = np.std(mensuales)\n",
    "    mean_mensuales_hora = np.mean(mensuales_hora)\n",
    "    std_mensuales_hora = np.mean(mensuales_hora_std)\n",
    "    \n",
    "    return mean_mesuales, std_mensuales, mean_mensuales_hora, std_mensuales_hora\n",
    "    "
   ]
  },
  {
   "cell_type": "code",
   "execution_count": 49,
   "metadata": {
    "collapsed": true
   },
   "outputs": [],
   "source": [
    "A = [1,2]"
   ]
  },
  {
   "cell_type": "code",
   "execution_count": 50,
   "metadata": {
    "collapsed": false
   },
   "outputs": [
    {
     "data": {
      "text/plain": [
       "list"
      ]
     },
     "execution_count": 50,
     "metadata": {},
     "output_type": "execute_result"
    }
   ],
   "source": [
    "type(A)"
   ]
  },
  {
   "cell_type": "code",
   "execution_count": 53,
   "metadata": {
    "collapsed": false
   },
   "outputs": [],
   "source": [
    "A = np.array(A)"
   ]
  },
  {
   "cell_type": "code",
   "execution_count": 54,
   "metadata": {
    "collapsed": false
   },
   "outputs": [
    {
     "data": {
      "text/plain": [
       "numpy.ndarray"
      ]
     },
     "execution_count": 54,
     "metadata": {},
     "output_type": "execute_result"
    }
   ],
   "source": [
    "type(A)"
   ]
  },
  {
   "cell_type": "code",
   "execution_count": 166,
   "metadata": {
    "collapsed": true
   },
   "outputs": [],
   "source": [
    "def promedios_mensuales(DT, RAW):\n",
    "    month = []\n",
    "    month_std = []\n",
    "    month_inteval = []\n",
    "    month_inteval_std = []\n",
    "    for h in range(6, 24):\n",
    "        mean_mm, std_mm, mean_mm_intv, std_mm_intv = promedios_mesuales_hora(h, DT, RAW)\n",
    "        month.append(mean_mm)\n",
    "        month_std.append(std_mm)\n",
    "        month_inteval.append(mean_mm_intv)\n",
    "        month_inteval_std.append(std_mm_intv)\n",
    "        \n",
    "    month = np.array(month)\n",
    "    month_std = np.array(month_std)\n",
    "    month_inteval = np.array(month_inteval)\n",
    "    month_inteval_std = np.array(month_inteval_std)\n",
    "        \n",
    "    return  [month, month_std, month_inteval, month_inteval_std]"
   ]
  },
  {
   "cell_type": "code",
   "execution_count": 167,
   "metadata": {
    "collapsed": false
   },
   "outputs": [],
   "source": [
    "A = promedios_mensuales(mar_ceilo_dt, mar_ceilo_raw)"
   ]
  },
  {
   "cell_type": "code",
   "execution_count": 123,
   "metadata": {
    "collapsed": false
   },
   "outputs": [
    {
     "data": {
      "text/plain": [
       "<matplotlib.text.Text at 0x10c0284a8>"
      ]
     },
     "execution_count": 123,
     "metadata": {},
     "output_type": "execute_result"
    },
    {
     "data": {
      "image/png": "[encoded data removed]",
      "text/plain": [
       "<matplotlib.figure.Figure at 0x10f354dd8>"
      ]
     },
     "metadata": {},
     "output_type": "display_data"
    }
   ],
   "source": [
    "h_range= range(6,24)\n",
    "plt.figure(figsize=(8,6))\n",
    "#plt.plot(h_range, B)\n",
    "plt.fill_between(h_range, A[0] - A[1], A[0] + A[1], facecolor='#F0F8FF', alpha=1.0, edgecolor='none')\n",
    "plt.plot(h_range, A[0])\n",
    "plt.title('Promedios mensuales del ceilometro en marzo')\n",
    "plt.ylabel('Altura (m)')\n",
    "plt.xlabel('Hora (UTC)')"
   ]
  },
  {
   "cell_type": "code",
   "execution_count": 125,
   "metadata": {
    "collapsed": false
   },
   "outputs": [
    {
     "data": {
      "text/plain": [
       "<matplotlib.text.Text at 0x10f3befd0>"
      ]
     },
     "execution_count": 125,
     "metadata": {},
     "output_type": "execute_result"
    },
    {
     "data": {
      "image/png": "[encoded data removed]",
      "text/plain": [
       "<matplotlib.figure.Figure at 0x10f9f17f0>"
      ]
     },
     "metadata": {},
     "output_type": "display_data"
    }
   ],
   "source": [
    "h_range= range(6,24)\n",
    "plt.figure(figsize=(8,6))\n",
    "plt.plot(h_range, A[2], 'g')\n",
    "plt.fill_between(h_range, A[2] - A[3], A[2] + A[3], facecolor='#E6FDDF', alpha=1.0, edgecolor='none')\n",
    "#plt.plot(h_range, A)\n",
    "plt.title('Promedios mensuales del ceilometro en marzo intervalo [-30 min, 30 min]')\n",
    "plt.ylabel('Altura (m)')\n",
    "plt.xlabel('Hora (UTC)')"
   ]
  },
  {
   "cell_type": "markdown",
   "metadata": {},
   "source": [
    "## Ceilometro diciembre"
   ]
  },
  {
   "cell_type": "code",
   "execution_count": 62,
   "metadata": {
    "collapsed": true
   },
   "outputs": [],
   "source": [
    "dic_dt, dic_raw, dic_filt = blt.read_celiomentro_mes(\"/Users/claudiopierard/WRF/Datos/ceilometro/2015_utc/dic_2015_utc.dat\") "
   ]
  },
  {
   "cell_type": "code",
   "execution_count": 126,
   "metadata": {
    "collapsed": true
   },
   "outputs": [],
   "source": [
    "dic_ceilo_means = promedios_mensuales(dic_dt, dic_raw)"
   ]
  },
  {
   "cell_type": "code",
   "execution_count": 127,
   "metadata": {
    "collapsed": false
   },
   "outputs": [
    {
     "data": {
      "text/plain": [
       "<matplotlib.text.Text at 0x10fb472e8>"
      ]
     },
     "execution_count": 127,
     "metadata": {},
     "output_type": "execute_result"
    },
    {
     "data": {
      "image/png": "[encoded data removed]",
      "text/plain": [
       "<matplotlib.figure.Figure at 0x10fc74940>"
      ]
     },
     "metadata": {},
     "output_type": "display_data"
    }
   ],
   "source": [
    "h_range= range(6,24)\n",
    "plt.figure(figsize=(8,6))\n",
    "plt.fill_between(h_range, dic_ceilo_means[0] - dic_ceilo_means[1], dic_ceilo_means[0] + dic_ceilo_means[1], facecolor='#F0F8FF', alpha=1.0, edgecolor='none')\n",
    "plt.plot(h_range, dic_ceilo_means[0])\n",
    "plt.title('Promedios mensuales del ceilometro en diciembre')\n",
    "plt.ylabel('Altura (m)')\n",
    "plt.xlabel('Hora (UTC)')"
   ]
  },
  {
   "cell_type": "code",
   "execution_count": 128,
   "metadata": {
    "collapsed": false
   },
   "outputs": [
    {
     "data": {
      "text/plain": [
       "<matplotlib.text.Text at 0x10fb41ef0>"
      ]
     },
     "execution_count": 128,
     "metadata": {},
     "output_type": "execute_result"
    },
    {
     "data": {
      "image/png": "[encoded data removed]",
      "text/plain": [
       "<matplotlib.figure.Figure at 0x10fdcb1d0>"
      ]
     },
     "metadata": {},
     "output_type": "display_data"
    }
   ],
   "source": [
    "h_range= range(6,24)\n",
    "plt.figure(figsize=(8,6))\n",
    "plt.fill_between(h_range, dic_ceilo_means[2] - dic_ceilo_means[3], dic_ceilo_means[2] + dic_ceilo_means[3], facecolor='#E6FDDF', alpha=1.0, edgecolor='none')\n",
    "plt.plot(h_range, dic_ceilo_means[2], 'g')\n",
    "plt.title('Promedios mensuales del ceilometro en diciembre')\n",
    "plt.ylabel('Altura (m)')\n",
    "plt.xlabel('Hora (UTC)')"
   ]
  },
  {
   "cell_type": "markdown",
   "metadata": {
    "collapsed": true
   },
   "source": [
    "## Promdios WRF"
   ]
  },
  {
   "cell_type": "code",
   "execution_count": 129,
   "metadata": {
    "collapsed": true
   },
   "outputs": [],
   "source": [
    "file_dic_24 = sio.loadmat('/Users/claudiopierard/WRF/Datos/WRF/dic/12_24hrs_D2.mat')\n",
    "file_dic_48 = sio.loadmat('/Users/claudiopierard/WRF/Datos/WRF/dic/12_48hrs_D2.mat')"
   ]
  },
  {
   "cell_type": "code",
   "execution_count": 130,
   "metadata": {
    "collapsed": false
   },
   "outputs": [],
   "source": [
    "dic_24 = blt.import_var_mat(file_dic_24, 'Atmos')\n",
    "dic_48 = blt.import_var_mat(file_dic_48, 'Atmos')"
   ]
  },
  {
   "cell_type": "code",
   "execution_count": 131,
   "metadata": {
    "collapsed": false
   },
   "outputs": [
    {
     "data": {
      "text/plain": [
       "(3, 3, 24, 30)"
      ]
     },
     "execution_count": 131,
     "metadata": {},
     "output_type": "execute_result"
    }
   ],
   "source": [
    "dic_24['PBLH'].shape"
   ]
  },
  {
   "cell_type": "code",
   "execution_count": 132,
   "metadata": {
    "collapsed": false
   },
   "outputs": [
    {
     "data": {
      "text/plain": [
       "30"
      ]
     },
     "execution_count": 132,
     "metadata": {},
     "output_type": "execute_result"
    }
   ],
   "source": [
    "len(dic_24['PBLH'][0, 0, 0, :])"
   ]
  },
  {
   "cell_type": "code",
   "execution_count": 135,
   "metadata": {
    "collapsed": true
   },
   "outputs": [],
   "source": [
    "def promedios_mensuales_wrf(mat_file):\n",
    "    mes = []\n",
    "    mes_std = []\n",
    "    mes_spc = []\n",
    "    mes_spc_std = []\n",
    "    \n",
    "    for h in range(6, 24):\n",
    "        \n",
    "        h_mean = np.mean(mat_file['PBLH'][1,1, h, :])\n",
    "        h_std = np.std(mat_file['PBLH'][1,1, h, :])\n",
    "        mes.append(h_mean)\n",
    "        mes_std.append(h_std)\n",
    "        \n",
    "        mean_spc_days = []\n",
    "        std_spc_days = []\n",
    "        \n",
    "        for day in range(0,len(mat_file['PBLH'][0,0,0,:])):\n",
    "            \n",
    "            h_spc_mean = np.mean(mat_file['PBLH'][:,:, h, day])\n",
    "            h_spc_std = np.std(mat_file['PBLH'][:,:, h, day])\n",
    "            mean_spc_days.append(h_spc_mean)\n",
    "            std_spc_days.append(h_spc_std)\n",
    "        \n",
    "        mes_spc.append(np.mean(mean_spc_days))\n",
    "        mes_spc_std.append(np.std(std_spc_days))\n",
    "        \n",
    "    mes = np.array(mes)\n",
    "    mes_std = np.array(mes_std)\n",
    "    mes_spc = np.array(mes_spc)\n",
    "    mes_spc_std = np.array(mes_spc_std)\n",
    "        \n",
    "    return  [mes, mes_std, mes_spc , mes_spc_std]"
   ]
  },
  {
   "cell_type": "code",
   "execution_count": 137,
   "metadata": {
    "collapsed": true
   },
   "outputs": [],
   "source": [
    "dic_wrf_mean = promedios_mensuales_wrf(dic_24)"
   ]
  },
  {
   "cell_type": "code",
   "execution_count": 138,
   "metadata": {
    "collapsed": false
   },
   "outputs": [
    {
     "data": {
      "text/plain": [
       "<matplotlib.text.Text at 0x10b68f5c0>"
      ]
     },
     "execution_count": 138,
     "metadata": {},
     "output_type": "execute_result"
    },
    {
     "data": {
      "image/png": "[encoded data removed]",
      "text/plain": [
       "<matplotlib.figure.Figure at 0x110028b70>"
      ]
     },
     "metadata": {},
     "output_type": "display_data"
    }
   ],
   "source": [
    "h_range= range(6,24)\n",
    "plt.figure(figsize=(8,6))\n",
    "plt.fill_between(h_range, dic_wrf_mean[0] - dic_wrf_mean[1], dic_wrf_mean[0] + dic_wrf_mean[1], facecolor='#F0F8FF', alpha=1.0, edgecolor='none')\n",
    "plt.plot(h_range, dic_wrf_mean[0])\n",
    "plt.title('Promedios mensuales del PBLH en diciembre')\n",
    "plt.ylabel('Altura (m)')\n",
    "plt.xlabel('Hora (UTC)')"
   ]
  },
  {
   "cell_type": "code",
   "execution_count": 139,
   "metadata": {
    "collapsed": false
   },
   "outputs": [
    {
     "data": {
      "text/plain": [
       "<matplotlib.text.Text at 0x110051cc0>"
      ]
     },
     "execution_count": 139,
     "metadata": {},
     "output_type": "execute_result"
    },
    {
     "data": {
      "image/png": "[encoded data removed]",
      "text/plain": [
       "<matplotlib.figure.Figure at 0x110050908>"
      ]
     },
     "metadata": {},
     "output_type": "display_data"
    }
   ],
   "source": [
    "h_range= range(6,24)\n",
    "plt.figure(figsize=(8,6))\n",
    "plt.fill_between(h_range, dic_wrf_mean[2] - dic_wrf_mean[3], dic_wrf_mean[2] + dic_wrf_mean[3], facecolor='#E6FDDF', alpha=1.0, edgecolor='none')\n",
    "plt.plot(h_range, dic_wrf_mean[2], 'g')\n",
    "plt.title('Promedios mensuales y espaciales del PBLH en diciembre')\n",
    "plt.ylabel('Altura (m)')\n",
    "plt.xlabel('Hora (UTC)')"
   ]
  },
  {
   "cell_type": "markdown",
   "metadata": {},
   "source": [
    "# Exportar datos a archivo `.cei`"
   ]
  },
  {
   "cell_type": "code",
   "execution_count": 141,
   "metadata": {
    "collapsed": true
   },
   "outputs": [],
   "source": [
    "dic_ceilo_means = promedios_mensuales(dic_dt, dic_raw)\n",
    "dic_wrf_means_24 = promedios_mensuales_wrf(dic_24)\n",
    "dic_wrf_means_48 = promedios_mensuales_wrf(dic_48)"
   ]
  },
  {
   "cell_type": "code",
   "execution_count": 176,
   "metadata": {
    "collapsed": true
   },
   "outputs": [],
   "source": [
    "def exportfile(name, ceilo, wrf_24, wrf_48):\n",
    "    Arr = np.zeros((12, 18))\n",
    "    Arr[0,:] = ceilo[0]\n",
    "    Arr[1,:] = ceilo[1]\n",
    "    Arr[2,:] = ceilo[2]\n",
    "    Arr[3,:] = ceilo[3]\n",
    "    Arr[4,:] = wrf_24[0]\n",
    "    Arr[5,:] = wrf_24[1]\n",
    "    Arr[6,:] = wrf_24[2]\n",
    "    Arr[7,:] = wrf_24[3]\n",
    "    Arr[8,:] = wrf_48[0]\n",
    "    Arr[9,:] = wrf_48[1]\n",
    "    Arr[10,:] = wrf_48[2]\n",
    "    Arr[11,:] = wrf_48[3]\n",
    "    \n",
    "    np.savetxt(name, Arr.T, fmt=\"%10.3f\") \n",
    "    return Arr.T"
   ]
  },
  {
   "cell_type": "code",
   "execution_count": 177,
   "metadata": {
    "collapsed": false
   },
   "outputs": [
    {
     "data": {
      "text/plain": [
       "array([[ 1002.30769231,   529.70461792,  1052.77472527,   234.87480431,\n",
       "          124.46849442,   133.71479654,   120.06542602,    21.2152331 ,\n",
       "          165.73054434,   153.62463201,   162.6369715 ,    27.35403684],\n",
       "       [  774.80769231,   404.68525464,   801.95054945,   195.22365545,\n",
       "          105.90583426,   123.30121464,   106.71603468,    28.10632039,\n",
       "          148.07511851,   159.29325526,   151.68598547,    27.73587679],\n",
       "       [  701.92307692,   370.53256091,   667.93956044,   187.04223185,\n",
       "          103.68065573,   130.95918836,   107.00989284,    34.47358005,\n",
       "          151.47593886,   170.32654448,   154.6267181 ,    29.77468631],\n",
       "       [  653.07692308,   402.80286485,   675.85164835,   189.44011305,\n",
       "          118.16546987,   154.86676223,   112.2562855 ,    32.58894246,\n",
       "          159.73668378,   174.64042496,   155.31499942,    34.62506076],\n",
       "       [  612.30769231,   389.88467419,   658.84615385,   158.65403847,\n",
       "          113.94307391,   155.29194333,   112.13162343,    36.50169763,\n",
       "          157.70767129,   181.95260233,   150.08934114,    29.28179864],\n",
       "       [  640.19230769,   361.6641046 ,   603.32417582,   126.70521242,\n",
       "          116.30632286,   143.61974756,   113.03332258,    32.98191416,\n",
       "          151.76558558,   178.44379877,   145.77665424,    32.27244734],\n",
       "       [  565.57692308,   271.64855308,   625.65934066,   119.26130028,\n",
       "          110.81907908,   131.32974773,   104.02214197,    40.44453881,\n",
       "          170.44295235,   197.82114689,   153.11611385,    43.16857246],\n",
       "       [  634.42307692,   371.66032601,   617.71978022,   156.89295349,\n",
       "           97.18321431,   114.03009905,    96.0380234 ,    42.88002721,\n",
       "          164.71436691,   184.91047421,   151.22099624,    42.1841945 ],\n",
       "       [  658.07692308,   430.00017201,   636.78571429,   142.9732678 ,\n",
       "          117.6752917 ,   132.34073539,   110.7002018 ,    35.64693755,\n",
       "          167.29696433,   181.68636548,   155.45501873,    39.89280017],\n",
       "       [  800.        ,   515.27438546,   776.56593407,   223.50496694,\n",
       "          232.21619218,   115.10383431,   220.66738778,    25.46577868,\n",
       "          302.68337733,   157.7282344 ,   290.28918599,    33.75726018],\n",
       "       [  802.88461538,   626.2067935 ,   801.26373626,   257.19166599,\n",
       "          361.85230497,   125.47403573,   356.05257309,    26.81976226,\n",
       "          431.10716756,   127.04298159,   422.7269889 ,    29.21586516],\n",
       "       [ 1014.42307692,   563.84041476,  1005.35714286,   280.69302458,\n",
       "          497.15100301,   118.57450379,   495.59683267,    23.4250401 ,\n",
       "          573.05448201,   132.45283639,   565.30565095,    28.27985062],\n",
       "       [ 1541.53846154,   538.54642188,  1520.13736264,   303.64103277,\n",
       "          661.04139201,   179.47129011,   664.69283199,    28.66110329,\n",
       "          764.76518555,   180.56630042,   750.56135243,    36.88231279],\n",
       "       [ 1874.80769231,   639.74826896,  1908.65384615,   288.07262169,\n",
       "          900.09931132,   278.21657268,   891.04298661,    35.95440659,\n",
       "          984.28625081,   253.8136563 ,   975.47472376,    46.21346311],\n",
       "       [ 2320.        ,   530.75055709,  2262.28021978,   290.68209472,\n",
       "         1155.04835612,   375.09593006,  1130.6216165 ,    50.53936446,\n",
       "         1258.89570923,   356.50157531,  1230.65210752,    55.53129275],\n",
       "       [ 2389.42307692,   555.14261321,  2423.65384615,   253.57854332,\n",
       "         1340.23927002,   420.39840898,  1305.74141518,    66.77118176,\n",
       "         1500.57997843,   388.1597785 ,  1449.88426548,    95.76676733],\n",
       "       [ 2444.42307692,   494.07903238,  2438.9010989 ,   229.31072353,\n",
       "         1420.73598836,   462.06698819,  1382.49518207,    73.41928873,\n",
       "         1562.8062561 ,   400.87025294,  1498.79902129,    81.32824276],\n",
       "       [ 2303.65384615,   530.86750066,  2354.78021978,   260.06828516,\n",
       "         1367.36635132,   500.74039337,  1291.20744279,    94.3018714 ,\n",
       "         1376.91216431,   441.76314687,  1336.2113019 ,   106.99093785]])"
      ]
     },
     "execution_count": 177,
     "metadata": {},
     "output_type": "execute_result"
    }
   ],
   "source": [
    "exportfile('dic_means.dat', dic_ceilo_means, dic_wrf_means_24, dic_wrf_means_48)"
   ]
  },
  {
   "cell_type": "markdown",
   "metadata": {},
   "source": [
    "## Automatización"
   ]
  },
  {
   "cell_type": "code",
   "execution_count": 155,
   "metadata": {
    "collapsed": true
   },
   "outputs": [],
   "source": [
    "path2ceilo = \"/Users/claudiopierard/WRF/Datos/ceilometro/2015_utc/\""
   ]
  },
  {
   "cell_type": "code",
   "execution_count": 156,
   "metadata": {
    "collapsed": true
   },
   "outputs": [],
   "source": [
    "path2wrf = \"/Users/claudiopierard/WRF/Datos/WRF/\""
   ]
  },
  {
   "cell_type": "code",
   "execution_count": 157,
   "metadata": {
    "collapsed": true
   },
   "outputs": [],
   "source": [
    "import os\n",
    "import sys"
   ]
  },
  {
   "cell_type": "code",
   "execution_count": 165,
   "metadata": {
    "collapsed": true
   },
   "outputs": [],
   "source": [
    "mess = {'jan': '01', 'feb': '02', 'mar': '03', 'apr': '04', 'may': '05', 'jun': '06', \n",
    "          'jul': '07', 'aug': '08', 'sep': '09', 'oct': '10', 'nov': '11', 'dic': '12'}"
   ]
  },
  {
   "cell_type": "code",
   "execution_count": 164,
   "metadata": {
    "collapsed": false
   },
   "outputs": [
    {
     "data": {
      "text/plain": [
       "'12'"
      ]
     },
     "execution_count": 164,
     "metadata": {},
     "output_type": "execute_result"
    }
   ],
   "source": [
    "mess['dic']"
   ]
  },
  {
   "cell_type": "code",
   "execution_count": null,
   "metadata": {
    "collapsed": true
   },
   "outputs": [],
   "source": [
    "def promedios_mensuales(DT, RAW):\n",
    "    mes = []\n",
    "    mes_std = []\n",
    "    mes_inteval = []\n",
    "    mes_inteval_std = []\n",
    "    for h in range(6, 24):\n",
    "        mean_mm, std_mm, mean_mm_intv, std_mm_intv = promedios_mesuales_hora(h, DT, RAW)\n",
    "        mes.append(mean_mm)\n",
    "        mes_std.append(std_mm)\n",
    "        mes_inteval.append(mean_mm_intv)\n",
    "        mes_inteval_std.append(std_mm_intv)\n",
    "\n",
    "        mes = np.array(mes)\n",
    "        mes_std = np.array(mes_std)\n",
    "        mes_inteval = np.array(mes_inteval)\n",
    "        mes_inteval_std = np.array(mes_inteval_std)\n",
    "\n",
    "    return  [mes, mes_std, mes_inteval, mes_inteval_std]"
   ]
  }
 ],
 "metadata": {
  "kernelspec": {
   "display_name": "Python 3",
   "language": "python",
   "name": "python3"
  },
  "language_info": {
   "codemirror_mode": {
    "name": "ipython",
    "version": 3
   },
   "file_extension": ".py",
   "mimetype": "text/x-python",
   "name": "python",
   "nbconvert_exporter": "python",
   "pygments_lexer": "ipython3",
   "version": "3.5.0"
  }
 },
 "nbformat": 4,
 "nbformat_minor": 2
}
