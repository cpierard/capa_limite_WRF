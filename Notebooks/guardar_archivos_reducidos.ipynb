{
 "cells": [
  {
   "cell_type": "code",
   "execution_count": 20,
   "metadata": {
    "collapsed": false
   },
   "outputs": [],
   "source": [
    "import numpy as np\n",
    "from netCDF4 import Dataset as nc\n",
    "import BoundaryLayerToolbox as blt"
   ]
  },
  {
   "cell_type": "code",
   "execution_count": 33,
   "metadata": {
    "collapsed": true
   },
   "outputs": [],
   "source": [
    "file_name = 'wrfout_d01_2012-05-30_00:00:00.nc'"
   ]
  },
  {
   "cell_type": "code",
   "execution_count": 4,
   "metadata": {
    "collapsed": false
   },
   "outputs": [],
   "source": [
    "file = nc('wrfout_d01_2012-05-30_00:00:00.nc', 'r')"
   ]
  },
  {
   "cell_type": "code",
   "execution_count": 34,
   "metadata": {
    "collapsed": false
   },
   "outputs": [
    {
     "name": "stdout",
     "output_type": "stream",
     "text": [
      "Time\n",
      "DateStrLen\n",
      "west_east\n",
      "south_north\n",
      "bottom_top\n",
      "bottom_top_stag\n",
      "soil_layers_stag\n",
      "west_east_stag\n",
      "south_north_stag\n"
     ]
    }
   ],
   "source": [
    "for i in file.dimensions:\n",
    "    print(i)"
   ]
  },
  {
   "cell_type": "code",
   "execution_count": 41,
   "metadata": {
    "collapsed": false
   },
   "outputs": [],
   "source": [
    "time = file.dimensions['Time']"
   ]
  },
  {
   "cell_type": "code",
   "execution_count": 45,
   "metadata": {
    "collapsed": false
   },
   "outputs": [],
   "source": [
    "date = file.START_DATE"
   ]
  },
  {
   "cell_type": "code",
   "execution_count": 43,
   "metadata": {
    "collapsed": false
   },
   "outputs": [
    {
     "ename": "TypeError",
     "evalue": "'netCDF4._netCDF4.Dimension' object does not support indexing",
     "output_type": "error",
     "traceback": [
      "\u001b[0;31m---------------------------------------------------------------------------\u001b[0m",
      "\u001b[0;31mTypeError\u001b[0m                                 Traceback (most recent call last)",
      "\u001b[0;32m<ipython-input-43-0cc750540ec1>\u001b[0m in \u001b[0;36m<module>\u001b[0;34m()\u001b[0m\n\u001b[0;32m----> 1\u001b[0;31m \u001b[0mtime\u001b[0m\u001b[0;34m[\u001b[0m\u001b[0;36m0\u001b[0m\u001b[0;34m]\u001b[0m\u001b[0;34m\u001b[0m\u001b[0m\n\u001b[0m",
      "\u001b[0;31mTypeError\u001b[0m: 'netCDF4._netCDF4.Dimension' object does not support indexing"
     ]
    }
   ],
   "source": [
    "time[0]"
   ]
  },
  {
   "cell_type": "code",
   "execution_count": 5,
   "metadata": {
    "collapsed": false
   },
   "outputs": [
    {
     "name": "stdout",
     "output_type": "stream",
     "text": [
      "Times\n",
      "XLAT\n",
      "XLONG\n",
      "LU_INDEX\n",
      "ZNU\n",
      "ZNW\n",
      "ZS\n",
      "DZS\n",
      "VAR_SSO\n",
      "U\n",
      "V\n",
      "W\n",
      "PH\n",
      "PHB\n",
      "T\n",
      "HFX_FORCE\n",
      "LH_FORCE\n",
      "TSK_FORCE\n",
      "HFX_FORCE_TEND\n",
      "LH_FORCE_TEND\n",
      "TSK_FORCE_TEND\n",
      "MU\n",
      "MUB\n",
      "NEST_POS\n",
      "P\n",
      "PB\n",
      "FNM\n",
      "FNP\n",
      "RDNW\n",
      "RDN\n",
      "DNW\n",
      "DN\n",
      "CFN\n",
      "CFN1\n",
      "THIS_IS_AN_IDEAL_RUN\n",
      "P_HYD\n",
      "Q2\n",
      "T2\n",
      "TH2\n",
      "PSFC\n",
      "U10\n",
      "V10\n",
      "RDX\n",
      "RDY\n",
      "RESM\n",
      "ZETATOP\n",
      "CF1\n",
      "CF2\n",
      "CF3\n",
      "ITIMESTEP\n",
      "XTIME\n",
      "QVAPOR\n",
      "QCLOUD\n",
      "QRAIN\n",
      "QICE\n",
      "QSNOW\n",
      "QGRAUP\n",
      "QHAIL\n",
      "QNCLOUD\n",
      "QNRAIN\n",
      "QNICE\n",
      "QNSNOW\n",
      "QNGRAUPEL\n",
      "QNHAIL\n",
      "SHDMAX\n",
      "SHDMIN\n",
      "SNOALB\n",
      "TSLB\n",
      "SMOIS\n",
      "SH2O\n",
      "SMCREL\n",
      "SEAICE\n",
      "XICEM\n",
      "SFROFF\n",
      "UDROFF\n",
      "IVGTYP\n",
      "ISLTYP\n",
      "VEGFRA\n",
      "GRDFLX\n",
      "ACGRDFLX\n",
      "ACSNOM\n",
      "SNOW\n",
      "SNOWH\n",
      "CANWAT\n",
      "SSTSK\n",
      "COSZEN\n",
      "LAI\n",
      "VAR\n",
      "MAPFAC_M\n",
      "MAPFAC_U\n",
      "MAPFAC_V\n",
      "MAPFAC_MX\n",
      "MAPFAC_MY\n",
      "MAPFAC_UX\n",
      "MAPFAC_UY\n",
      "MAPFAC_VX\n",
      "MF_VX_INV\n",
      "MAPFAC_VY\n",
      "F\n",
      "E\n",
      "SINALPHA\n",
      "COSALPHA\n",
      "HGT\n",
      "TSK\n",
      "P_TOP\n",
      "T00\n",
      "P00\n",
      "TLP\n",
      "TISO\n",
      "TLP_STRAT\n",
      "P_STRAT\n",
      "MAX_MSTFX\n",
      "MAX_MSTFY\n",
      "RAINC\n",
      "RAINSH\n",
      "RAINNC\n",
      "SNOWNC\n",
      "GRAUPELNC\n",
      "HAILNC\n",
      "REFL_10CM\n",
      "CLDFRA\n",
      "SWDOWN\n",
      "GLW\n",
      "SWNORM\n",
      "OLR\n",
      "XLAT_U\n",
      "XLONG_U\n",
      "XLAT_V\n",
      "XLONG_V\n",
      "ALBEDO\n",
      "CLAT\n",
      "ALBBCK\n",
      "EMISS\n",
      "NOAHRES\n",
      "TMN\n",
      "XLAND\n",
      "UST\n",
      "PBLH\n",
      "HFX\n",
      "QFX\n",
      "LH\n",
      "ACHFX\n",
      "ACLHF\n",
      "SNOWC\n",
      "SR\n",
      "SAVE_TOPO_FROM_REAL\n",
      "REFD_MAX\n",
      "ISEEDARR_RAND_PERTURB\n",
      "ISEEDARR_SPPT\n",
      "ISEEDARR_SKEBS\n",
      "LANDMASK\n",
      "LAKEMASK\n",
      "SST\n",
      "SST_INPUT\n"
     ]
    }
   ],
   "source": [
    "for i in file.variables:\n",
    "    print(i)"
   ]
  },
  {
   "cell_type": "markdown",
   "metadata": {},
   "source": [
    "## pbhl.wrf"
   ]
  },
  {
   "cell_type": "code",
   "execution_count": 22,
   "metadata": {
    "collapsed": false
   },
   "outputs": [],
   "source": [
    "pblh_wrf = file.variables['PBLH']\n",
    "xlong = file.variables['XLONG']\n",
    "xlat = file.variables['XLAT']"
   ]
  },
  {
   "cell_type": "code",
   "execution_count": 10,
   "metadata": {
    "collapsed": false
   },
   "outputs": [
    {
     "data": {
      "text/plain": [
       "(97, 19)"
      ]
     },
     "execution_count": 10,
     "metadata": {},
     "output_type": "execute_result"
    }
   ],
   "source": [
    "file.variables['Times'].shape"
   ]
  },
  {
   "cell_type": "code",
   "execution_count": 8,
   "metadata": {
    "collapsed": false
   },
   "outputs": [
    {
     "data": {
      "text/plain": [
       "(97, 29, 29)"
      ]
     },
     "execution_count": 8,
     "metadata": {},
     "output_type": "execute_result"
    }
   ],
   "source": [
    "pblh_wrf.shape"
   ]
  },
  {
   "cell_type": "code",
   "execution_count": 15,
   "metadata": {
    "collapsed": false
   },
   "outputs": [
    {
     "data": {
      "text/plain": [
       "numpy.ndarray"
      ]
     },
     "execution_count": 15,
     "metadata": {},
     "output_type": "execute_result"
    }
   ],
   "source": [
    "type(pblh_wrf[:,:,:])"
   ]
  },
  {
   "cell_type": "code",
   "execution_count": 16,
   "metadata": {
    "collapsed": false
   },
   "outputs": [
    {
     "ename": "AttributeError",
     "evalue": "module 'numpy' has no attribute 'writetxt'",
     "output_type": "error",
     "traceback": [
      "\u001b[0;31m---------------------------------------------------------------------------\u001b[0m",
      "\u001b[0;31mAttributeError\u001b[0m                            Traceback (most recent call last)",
      "\u001b[0;32m<ipython-input-16-9d8e59a8b3ce>\u001b[0m in \u001b[0;36m<module>\u001b[0;34m()\u001b[0m\n\u001b[0;32m----> 1\u001b[0;31m \u001b[0mnp\u001b[0m\u001b[0;34m.\u001b[0m\u001b[0mwritetxt\u001b[0m\u001b[0;34m(\u001b[0m\u001b[0;34m'pblh.wrf'\u001b[0m\u001b[0;34m,\u001b[0m \u001b[0mpblh_wrf\u001b[0m\u001b[0;34m[\u001b[0m\u001b[0;34m:\u001b[0m\u001b[0;34m,\u001b[0m\u001b[0;34m:\u001b[0m\u001b[0;34m,\u001b[0m\u001b[0;34m:\u001b[0m\u001b[0;34m]\u001b[0m \u001b[0;34m,\u001b[0m \u001b[0mfmt\u001b[0m\u001b[0;34m=\u001b[0m\u001b[0;34m'%s'\u001b[0m\u001b[0;34m)\u001b[0m\u001b[0;34m\u001b[0m\u001b[0m\n\u001b[0m",
      "\u001b[0;31mAttributeError\u001b[0m: module 'numpy' has no attribute 'writetxt'"
     ]
    }
   ],
   "source": [
    "np.writetxt('pblh.wrf', pblh_wrf[:,:,:] , fmt='%s')"
   ]
  },
  {
   "cell_type": "code",
   "execution_count": 18,
   "metadata": {
    "collapsed": true
   },
   "outputs": [],
   "source": [
    "np.savetxt('pblh.wrf', pblh_wrf[:,:,:] , fmt='%s')"
   ]
  },
  {
   "cell_type": "code",
   "execution_count": 17,
   "metadata": {
    "collapsed": true
   },
   "outputs": [],
   "source": [
    "with open('pblh.wrf', 'a') as out:\n",
    "    out.write( + '\\n')"
   ]
  },
  {
   "cell_type": "code",
   "execution_count": 21,
   "metadata": {
    "collapsed": true
   },
   "outputs": [],
   "source": [
    "cca_lat, cca_long = 19.326180, -99.175842"
   ]
  },
  {
   "cell_type": "code",
   "execution_count": 24,
   "metadata": {
    "collapsed": false
   },
   "outputs": [],
   "source": [
    "cca_nx, cca_ny = blt.near_coord(xlong, xlat, cca_long, cca_lat)"
   ]
  },
  {
   "cell_type": "code",
   "execution_count": 30,
   "metadata": {
    "collapsed": false
   },
   "outputs": [],
   "source": [
    "cca_pblh = pblh_wrf[:, cca_nx, cca_ny]"
   ]
  },
  {
   "cell_type": "code",
   "execution_count": 31,
   "metadata": {
    "collapsed": true
   },
   "outputs": [],
   "source": [
    "t_range = range(0, len(cca_pblh))"
   ]
  },
  {
   "cell_type": "code",
   "execution_count": 32,
   "metadata": {
    "collapsed": false
   },
   "outputs": [
    {
     "data": {
      "text/plain": [
       "range(0, 97)"
      ]
     },
     "execution_count": 32,
     "metadata": {},
     "output_type": "execute_result"
    }
   ],
   "source": [
    "t_range"
   ]
  },
  {
   "cell_type": "code",
   "execution_count": null,
   "metadata": {
    "collapsed": true
   },
   "outputs": [],
   "source": [
    "np.savetxt"
   ]
  },
  {
   "cell_type": "code",
   "execution_count": 84,
   "metadata": {
    "collapsed": false
   },
   "outputs": [],
   "source": [
    "np.savetxt('pblh.wrf', cca_pblh, fmt='%6f')"
   ]
  },
  {
   "cell_type": "code",
   "execution_count": 85,
   "metadata": {
    "collapsed": false
   },
   "outputs": [],
   "source": [
    "with open('pblh.wrf', 'w') as out:\n",
    "    #out.writelines(cca_pblh + '\\n')\n",
    "    for i in t_range:\n",
    "        out.writelines(date[0:10]+ ' ' + str(t_range[i])+ ' ' + str(cca_pblh[i]) + '\\n')"
   ]
  },
  {
   "cell_type": "code",
   "execution_count": 105,
   "metadata": {
    "collapsed": false
   },
   "outputs": [
    {
     "ename": "TypeError",
     "evalue": "integer argument expected, got 'str'",
     "output_type": "error",
     "traceback": [
      "\u001b[0;31m---------------------------------------------------------------------------\u001b[0m",
      "\u001b[0;31mTypeError\u001b[0m                                 Traceback (most recent call last)",
      "\u001b[0;32m<ipython-input-105-03cf52771b82>\u001b[0m in \u001b[0;36m<module>\u001b[0;34m()\u001b[0m\n\u001b[1;32m      1\u001b[0m \u001b[0mf\u001b[0m \u001b[0;34m=\u001b[0m  \u001b[0mopen\u001b[0m\u001b[0;34m(\u001b[0m\u001b[0;34m'pblh.wrf'\u001b[0m\u001b[0;34m)\u001b[0m\u001b[0;34m\u001b[0m\u001b[0m\n\u001b[0;32m----> 2\u001b[0;31m \u001b[0mB\u001b[0m \u001b[0;34m=\u001b[0m \u001b[0mf\u001b[0m\u001b[0;34m.\u001b[0m\u001b[0mreadlines\u001b[0m\u001b[0;34m(\u001b[0m\u001b[0;34m'\\s'\u001b[0m\u001b[0;34m)\u001b[0m\u001b[0;34m\u001b[0m\u001b[0m\n\u001b[0m",
      "\u001b[0;31mTypeError\u001b[0m: integer argument expected, got 'str'"
     ]
    }
   ],
   "source": [
    "f =  open('pblh.wrf')\n",
    "B = f.readlines('\\s')"
   ]
  },
  {
   "cell_type": "code",
   "execution_count": 104,
   "metadata": {
    "collapsed": false
   },
   "outputs": [
    {
     "data": {
      "text/plain": [
       "['2012-05-30 0 0.0\\n',\n",
       " '2012-05-30 1 696.626\\n',\n",
       " '2012-05-30 2 473.373\\n',\n",
       " '2012-05-30 3 343.158\\n',\n",
       " '2012-05-30 4 297.888\\n',\n",
       " '2012-05-30 5 231.567\\n',\n",
       " '2012-05-30 6 166.764\\n',\n",
       " '2012-05-30 7 59.544\\n',\n",
       " '2012-05-30 8 42.8454\\n',\n",
       " '2012-05-30 9 60.2459\\n',\n",
       " '2012-05-30 10 67.2248\\n',\n",
       " '2012-05-30 11 53.8789\\n',\n",
       " '2012-05-30 12 41.7073\\n',\n",
       " '2012-05-30 13 49.9662\\n',\n",
       " '2012-05-30 14 195.133\\n',\n",
       " '2012-05-30 15 378.749\\n',\n",
       " '2012-05-30 16 536.322\\n',\n",
       " '2012-05-30 17 666.901\\n',\n",
       " '2012-05-30 18 817.296\\n',\n",
       " '2012-05-30 19 1014.67\\n',\n",
       " '2012-05-30 20 1402.83\\n',\n",
       " '2012-05-30 21 2043.94\\n',\n",
       " '2012-05-30 22 2096.52\\n',\n",
       " '2012-05-30 23 1927.04\\n',\n",
       " '2012-05-30 24 1523.61\\n',\n",
       " '2012-05-30 25 37.8866\\n',\n",
       " '2012-05-30 26 16.2278\\n',\n",
       " '2012-05-30 27 482.57\\n',\n",
       " '2012-05-30 28 277.327\\n',\n",
       " '2012-05-30 29 209.673\\n',\n",
       " '2012-05-30 30 113.392\\n',\n",
       " '2012-05-30 31 10.3771\\n',\n",
       " '2012-05-30 32 10.3749\\n',\n",
       " '2012-05-30 33 38.3041\\n',\n",
       " '2012-05-30 34 50.047\\n',\n",
       " '2012-05-30 35 48.1972\\n',\n",
       " '2012-05-30 36 40.1274\\n',\n",
       " '2012-05-30 37 45.1965\\n',\n",
       " '2012-05-30 38 129.939\\n',\n",
       " '2012-05-30 39 299.8\\n',\n",
       " '2012-05-30 40 583.676\\n',\n",
       " '2012-05-30 41 844.082\\n',\n",
       " '2012-05-30 42 1108.71\\n',\n",
       " '2012-05-30 43 1627.22\\n',\n",
       " '2012-05-30 44 2332.97\\n',\n",
       " '2012-05-30 45 2919.07\\n',\n",
       " '2012-05-30 46 2972.93\\n',\n",
       " '2012-05-30 47 2806.65\\n',\n",
       " '2012-05-30 48 2296.93\\n',\n",
       " '2012-05-30 49 208.816\\n',\n",
       " '2012-05-30 50 27.0485\\n',\n",
       " '2012-05-30 51 15.8903\\n',\n",
       " '2012-05-30 52 52.5135\\n',\n",
       " '2012-05-30 53 53.4144\\n',\n",
       " '2012-05-30 54 76.3455\\n',\n",
       " '2012-05-30 55 75.873\\n',\n",
       " '2012-05-30 56 50.7939\\n',\n",
       " '2012-05-30 57 42.5157\\n',\n",
       " '2012-05-30 58 48.1671\\n',\n",
       " '2012-05-30 59 39.4276\\n',\n",
       " '2012-05-30 60 45.6374\\n',\n",
       " '2012-05-30 61 16.0779\\n',\n",
       " '2012-05-30 62 246.89\\n',\n",
       " '2012-05-30 63 432.235\\n',\n",
       " '2012-05-30 64 664.54\\n',\n",
       " '2012-05-30 65 890.286\\n',\n",
       " '2012-05-30 66 1227.95\\n',\n",
       " '2012-05-30 67 1798.48\\n',\n",
       " '2012-05-30 68 2118.33\\n',\n",
       " '2012-05-30 69 2309.28\\n',\n",
       " '2012-05-30 70 1627.31\\n',\n",
       " '2012-05-30 71 740.655\\n',\n",
       " '2012-05-30 72 389.13\\n',\n",
       " '2012-05-30 73 302.289\\n',\n",
       " '2012-05-30 74 382.231\\n',\n",
       " '2012-05-30 75 325.891\\n',\n",
       " '2012-05-30 76 258.316\\n',\n",
       " '2012-05-30 77 291.946\\n',\n",
       " '2012-05-30 78 42.8796\\n',\n",
       " '2012-05-30 79 61.7628\\n',\n",
       " '2012-05-30 80 85.6644\\n',\n",
       " '2012-05-30 81 31.1656\\n',\n",
       " '2012-05-30 82 13.8905\\n',\n",
       " '2012-05-30 83 76.9655\\n',\n",
       " '2012-05-30 84 33.2528\\n',\n",
       " '2012-05-30 85 17.1532\\n',\n",
       " '2012-05-30 86 256.258\\n',\n",
       " '2012-05-30 87 404.524\\n',\n",
       " '2012-05-30 88 594.901\\n',\n",
       " '2012-05-30 89 964.75\\n',\n",
       " '2012-05-30 90 1423.21\\n',\n",
       " '2012-05-30 91 1887.97\\n',\n",
       " '2012-05-30 92 2221.37\\n',\n",
       " '2012-05-30 93 2322.58\\n',\n",
       " '2012-05-30 94 1687.03\\n',\n",
       " '2012-05-30 95 1099.38\\n',\n",
       " '2012-05-30 96 359.865\\n']"
      ]
     },
     "execution_count": 104,
     "metadata": {},
     "output_type": "execute_result"
    }
   ],
   "source": [
    "B"
   ]
  },
  {
   "cell_type": "code",
   "execution_count": 83,
   "metadata": {
    "collapsed": false
   },
   "outputs": [
    {
     "ename": "ValueError",
     "evalue": "could not convert string to float: b'2012-05-30'",
     "output_type": "error",
     "traceback": [
      "\u001b[0;31m---------------------------------------------------------------------------\u001b[0m",
      "\u001b[0;31mValueError\u001b[0m                                Traceback (most recent call last)",
      "\u001b[0;32m<ipython-input-83-6d3b46850aa9>\u001b[0m in \u001b[0;36m<module>\u001b[0;34m()\u001b[0m\n\u001b[0;32m----> 1\u001b[0;31m \u001b[0mnp\u001b[0m\u001b[0;34m.\u001b[0m\u001b[0mloadtxt\u001b[0m\u001b[0;34m(\u001b[0m\u001b[0;34m'pblh.wrf'\u001b[0m\u001b[0;34m)\u001b[0m\u001b[0;34m\u001b[0m\u001b[0m\n\u001b[0m",
      "\u001b[0;32m/Library/Frameworks/Python.framework/Versions/3.5/lib/python3.5/site-packages/numpy/lib/npyio.py\u001b[0m in \u001b[0;36mloadtxt\u001b[0;34m(fname, dtype, comments, delimiter, converters, skiprows, usecols, unpack, ndmin)\u001b[0m\n\u001b[1;32m    928\u001b[0m \u001b[0;34m\u001b[0m\u001b[0m\n\u001b[1;32m    929\u001b[0m             \u001b[0;31m# Convert each value according to its column and store\u001b[0m\u001b[0;34m\u001b[0m\u001b[0;34m\u001b[0m\u001b[0m\n\u001b[0;32m--> 930\u001b[0;31m             \u001b[0mitems\u001b[0m \u001b[0;34m=\u001b[0m \u001b[0;34m[\u001b[0m\u001b[0mconv\u001b[0m\u001b[0;34m(\u001b[0m\u001b[0mval\u001b[0m\u001b[0;34m)\u001b[0m \u001b[0;32mfor\u001b[0m \u001b[0;34m(\u001b[0m\u001b[0mconv\u001b[0m\u001b[0;34m,\u001b[0m \u001b[0mval\u001b[0m\u001b[0;34m)\u001b[0m \u001b[0;32min\u001b[0m \u001b[0mzip\u001b[0m\u001b[0;34m(\u001b[0m\u001b[0mconverters\u001b[0m\u001b[0;34m,\u001b[0m \u001b[0mvals\u001b[0m\u001b[0;34m)\u001b[0m\u001b[0;34m]\u001b[0m\u001b[0;34m\u001b[0m\u001b[0m\n\u001b[0m\u001b[1;32m    931\u001b[0m             \u001b[0;31m# Then pack it according to the dtype's nesting\u001b[0m\u001b[0;34m\u001b[0m\u001b[0;34m\u001b[0m\u001b[0m\n\u001b[1;32m    932\u001b[0m             \u001b[0mitems\u001b[0m \u001b[0;34m=\u001b[0m \u001b[0mpack_items\u001b[0m\u001b[0;34m(\u001b[0m\u001b[0mitems\u001b[0m\u001b[0;34m,\u001b[0m \u001b[0mpacking\u001b[0m\u001b[0;34m)\u001b[0m\u001b[0;34m\u001b[0m\u001b[0m\n",
      "\u001b[0;32m/Library/Frameworks/Python.framework/Versions/3.5/lib/python3.5/site-packages/numpy/lib/npyio.py\u001b[0m in \u001b[0;36m<listcomp>\u001b[0;34m(.0)\u001b[0m\n\u001b[1;32m    928\u001b[0m \u001b[0;34m\u001b[0m\u001b[0m\n\u001b[1;32m    929\u001b[0m             \u001b[0;31m# Convert each value according to its column and store\u001b[0m\u001b[0;34m\u001b[0m\u001b[0;34m\u001b[0m\u001b[0m\n\u001b[0;32m--> 930\u001b[0;31m             \u001b[0mitems\u001b[0m \u001b[0;34m=\u001b[0m \u001b[0;34m[\u001b[0m\u001b[0mconv\u001b[0m\u001b[0;34m(\u001b[0m\u001b[0mval\u001b[0m\u001b[0;34m)\u001b[0m \u001b[0;32mfor\u001b[0m \u001b[0;34m(\u001b[0m\u001b[0mconv\u001b[0m\u001b[0;34m,\u001b[0m \u001b[0mval\u001b[0m\u001b[0;34m)\u001b[0m \u001b[0;32min\u001b[0m \u001b[0mzip\u001b[0m\u001b[0;34m(\u001b[0m\u001b[0mconverters\u001b[0m\u001b[0;34m,\u001b[0m \u001b[0mvals\u001b[0m\u001b[0;34m)\u001b[0m\u001b[0;34m]\u001b[0m\u001b[0;34m\u001b[0m\u001b[0m\n\u001b[0m\u001b[1;32m    931\u001b[0m             \u001b[0;31m# Then pack it according to the dtype's nesting\u001b[0m\u001b[0;34m\u001b[0m\u001b[0;34m\u001b[0m\u001b[0m\n\u001b[1;32m    932\u001b[0m             \u001b[0mitems\u001b[0m \u001b[0;34m=\u001b[0m \u001b[0mpack_items\u001b[0m\u001b[0;34m(\u001b[0m\u001b[0mitems\u001b[0m\u001b[0;34m,\u001b[0m \u001b[0mpacking\u001b[0m\u001b[0;34m)\u001b[0m\u001b[0;34m\u001b[0m\u001b[0m\n",
      "\u001b[0;32m/Library/Frameworks/Python.framework/Versions/3.5/lib/python3.5/site-packages/numpy/lib/npyio.py\u001b[0m in \u001b[0;36mfloatconv\u001b[0;34m(x)\u001b[0m\n\u001b[1;32m    657\u001b[0m         \u001b[0;32mif\u001b[0m \u001b[0;34mb'0x'\u001b[0m \u001b[0;32min\u001b[0m \u001b[0mx\u001b[0m\u001b[0;34m:\u001b[0m\u001b[0;34m\u001b[0m\u001b[0m\n\u001b[1;32m    658\u001b[0m             \u001b[0;32mreturn\u001b[0m \u001b[0mfloat\u001b[0m\u001b[0;34m.\u001b[0m\u001b[0mfromhex\u001b[0m\u001b[0;34m(\u001b[0m\u001b[0masstr\u001b[0m\u001b[0;34m(\u001b[0m\u001b[0mx\u001b[0m\u001b[0;34m)\u001b[0m\u001b[0;34m)\u001b[0m\u001b[0;34m\u001b[0m\u001b[0m\n\u001b[0;32m--> 659\u001b[0;31m         \u001b[0;32mreturn\u001b[0m \u001b[0mfloat\u001b[0m\u001b[0;34m(\u001b[0m\u001b[0mx\u001b[0m\u001b[0;34m)\u001b[0m\u001b[0;34m\u001b[0m\u001b[0m\n\u001b[0m\u001b[1;32m    660\u001b[0m \u001b[0;34m\u001b[0m\u001b[0m\n\u001b[1;32m    661\u001b[0m     \u001b[0mtyp\u001b[0m \u001b[0;34m=\u001b[0m \u001b[0mdtype\u001b[0m\u001b[0;34m.\u001b[0m\u001b[0mtype\u001b[0m\u001b[0;34m\u001b[0m\u001b[0m\n",
      "\u001b[0;31mValueError\u001b[0m: could not convert string to float: b'2012-05-30'"
     ]
    }
   ],
   "source": [
    "np.loadtxt('pblh.wrf')"
   ]
  },
  {
   "cell_type": "code",
   "execution_count": 79,
   "metadata": {
    "collapsed": false
   },
   "outputs": [
    {
     "data": {
      "text/plain": [
       "'2012-05-30'"
      ]
     },
     "execution_count": 79,
     "metadata": {},
     "output_type": "execute_result"
    }
   ],
   "source": [
    "date[0:10]"
   ]
  },
  {
   "cell_type": "code",
   "execution_count": 53,
   "metadata": {
    "collapsed": false
   },
   "outputs": [
    {
     "data": {
      "text/plain": [
       "'8'"
      ]
     },
     "execution_count": 53,
     "metadata": {},
     "output_type": "execute_result"
    }
   ],
   "source": [
    "str(t_range[8])"
   ]
  },
  {
   "cell_type": "code",
   "execution_count": 56,
   "metadata": {
    "collapsed": false
   },
   "outputs": [
    {
     "data": {
      "text/plain": [
       "'166.764'"
      ]
     },
     "execution_count": 56,
     "metadata": {},
     "output_type": "execute_result"
    }
   ],
   "source": [
    "str(cca_pblh[6])"
   ]
  },
  {
   "cell_type": "code",
   "execution_count": 67,
   "metadata": {
    "collapsed": false
   },
   "outputs": [
    {
     "data": {
      "text/plain": [
       "97"
      ]
     },
     "execution_count": 67,
     "metadata": {},
     "output_type": "execute_result"
    }
   ],
   "source": [
    "len(cca_pblh)"
   ]
  },
  {
   "cell_type": "code",
   "execution_count": 71,
   "metadata": {
    "collapsed": false
   },
   "outputs": [],
   "source": [
    "A = np.zeros(shape=(97,3))"
   ]
  },
  {
   "cell_type": "code",
   "execution_count": 73,
   "metadata": {
    "collapsed": false
   },
   "outputs": [],
   "source": [
    "A[:, 2] = cca_pblh"
   ]
  },
  {
   "cell_type": "code",
   "execution_count": null,
   "metadata": {
    "collapsed": true
   },
   "outputs": [],
   "source": []
  },
  {
   "cell_type": "code",
   "execution_count": null,
   "metadata": {
    "collapsed": true
   },
   "outputs": [],
   "source": [
    "out.writelines"
   ]
  },
  {
   "cell_type": "code",
   "execution_count": 75,
   "metadata": {
    "collapsed": false
   },
   "outputs": [
    {
     "ename": "ValueError",
     "evalue": "could not convert string to float: 'hla'",
     "output_type": "error",
     "traceback": [
      "\u001b[0;31m---------------------------------------------------------------------------\u001b[0m",
      "\u001b[0;31mValueError\u001b[0m                                Traceback (most recent call last)",
      "\u001b[0;32m<ipython-input-75-50513f2e7770>\u001b[0m in \u001b[0;36m<module>\u001b[0;34m()\u001b[0m\n\u001b[0;32m----> 1\u001b[0;31m \u001b[0mA\u001b[0m\u001b[0;34m[\u001b[0m\u001b[0;34m:\u001b[0m\u001b[0;34m,\u001b[0m\u001b[0;36m0\u001b[0m\u001b[0;34m]\u001b[0m \u001b[0;34m=\u001b[0m \u001b[0;34m\"hla\"\u001b[0m\u001b[0;34m\u001b[0m\u001b[0m\n\u001b[0m",
      "\u001b[0;31mValueError\u001b[0m: could not convert string to float: 'hla'"
     ]
    }
   ],
   "source": [
    "A[:,0] = "
   ]
  },
  {
   "cell_type": "code",
   "execution_count": null,
   "metadata": {
    "collapsed": true
   },
   "outputs": [],
   "source": []
  }
 ],
 "metadata": {
  "kernelspec": {
   "display_name": "Python 3",
   "language": "python",
   "name": "python3"
  },
  "language_info": {
   "codemirror_mode": {
    "name": "ipython",
    "version": 3
   },
   "file_extension": ".py",
   "mimetype": "text/x-python",
   "name": "python",
   "nbconvert_exporter": "python",
   "pygments_lexer": "ipython3",
   "version": "3.5.0"
  }
 },
 "nbformat": 4,
 "nbformat_minor": 2
}
