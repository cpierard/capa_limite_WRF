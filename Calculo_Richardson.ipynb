{
 "cells": [
  {
   "cell_type": "code",
   "execution_count": 1,
   "metadata": {
    "collapsed": true
   },
   "outputs": [],
   "source": [
    "from netCDF4 import Dataset\n",
    "import numpy as np\n",
    "import matplotlib.pyplot as plt\n",
    "import scipy.interpolate as interpolate\n",
    "import time\n",
    "%matplotlib inline"
   ]
  },
  {
   "cell_type": "markdown",
   "metadata": {},
   "source": [
    "### Extraer datos de la salida de WRF"
   ]
  },
  {
   "cell_type": "code",
   "execution_count": 2,
   "metadata": {
    "collapsed": true
   },
   "outputs": [],
   "source": [
    "file = 'wrfout_d01_2012-05-30_00:00:00.nc'"
   ]
  },
  {
   "cell_type": "code",
   "execution_count": 3,
   "metadata": {
    "collapsed": true
   },
   "outputs": [],
   "source": [
    "nc = Dataset(file, 'r')"
   ]
  },
  {
   "cell_type": "code",
   "execution_count": 4,
   "metadata": {
    "collapsed": false
   },
   "outputs": [
    {
     "name": "stdout",
     "output_type": "stream",
     "text": [
      "Times (97, 19)\n",
      "XLAT (97, 29, 29)\n",
      "XLONG (97, 29, 29)\n",
      "LU_INDEX (97, 29, 29)\n",
      "ZNU (97, 59)\n",
      "ZNW (97, 60)\n",
      "ZS (97, 4)\n",
      "DZS (97, 4)\n",
      "VAR_SSO (97, 29, 29)\n",
      "U (97, 59, 29, 30)\n",
      "V (97, 59, 30, 29)\n",
      "W (97, 60, 29, 29)\n",
      "PH (97, 60, 29, 29)\n",
      "PHB (97, 60, 29, 29)\n",
      "T (97, 59, 29, 29)\n",
      "HFX_FORCE (97,)\n",
      "LH_FORCE (97,)\n",
      "TSK_FORCE (97,)\n",
      "HFX_FORCE_TEND (97,)\n",
      "LH_FORCE_TEND (97,)\n",
      "TSK_FORCE_TEND (97,)\n",
      "MU (97, 29, 29)\n",
      "MUB (97, 29, 29)\n",
      "NEST_POS (97, 29, 29)\n",
      "P (97, 59, 29, 29)\n",
      "PB (97, 59, 29, 29)\n",
      "FNM (97, 59)\n",
      "FNP (97, 59)\n",
      "RDNW (97, 59)\n",
      "RDN (97, 59)\n",
      "DNW (97, 59)\n",
      "DN (97, 59)\n",
      "CFN (97,)\n",
      "CFN1 (97,)\n",
      "THIS_IS_AN_IDEAL_RUN (97,)\n",
      "P_HYD (97, 59, 29, 29)\n",
      "Q2 (97, 29, 29)\n",
      "T2 (97, 29, 29)\n",
      "TH2 (97, 29, 29)\n",
      "PSFC (97, 29, 29)\n",
      "U10 (97, 29, 29)\n",
      "V10 (97, 29, 29)\n",
      "RDX (97,)\n",
      "RDY (97,)\n",
      "RESM (97,)\n",
      "ZETATOP (97,)\n",
      "CF1 (97,)\n",
      "CF2 (97,)\n",
      "CF3 (97,)\n",
      "ITIMESTEP (97,)\n",
      "XTIME (97,)\n",
      "QVAPOR (97, 59, 29, 29)\n",
      "QCLOUD (97, 59, 29, 29)\n",
      "QRAIN (97, 59, 29, 29)\n",
      "QICE (97, 59, 29, 29)\n",
      "QSNOW (97, 59, 29, 29)\n",
      "QGRAUP (97, 59, 29, 29)\n",
      "QHAIL (97, 59, 29, 29)\n",
      "QNCLOUD (97, 59, 29, 29)\n",
      "QNRAIN (97, 59, 29, 29)\n",
      "QNICE (97, 59, 29, 29)\n",
      "QNSNOW (97, 59, 29, 29)\n",
      "QNGRAUPEL (97, 59, 29, 29)\n",
      "QNHAIL (97, 59, 29, 29)\n",
      "SHDMAX (97, 29, 29)\n",
      "SHDMIN (97, 29, 29)\n",
      "SNOALB (97, 29, 29)\n",
      "TSLB (97, 4, 29, 29)\n",
      "SMOIS (97, 4, 29, 29)\n",
      "SH2O (97, 4, 29, 29)\n",
      "SMCREL (97, 4, 29, 29)\n",
      "SEAICE (97, 29, 29)\n",
      "XICEM (97, 29, 29)\n",
      "SFROFF (97, 29, 29)\n",
      "UDROFF (97, 29, 29)\n",
      "IVGTYP (97, 29, 29)\n",
      "ISLTYP (97, 29, 29)\n",
      "VEGFRA (97, 29, 29)\n",
      "GRDFLX (97, 29, 29)\n",
      "ACGRDFLX (97, 29, 29)\n",
      "ACSNOM (97, 29, 29)\n",
      "SNOW (97, 29, 29)\n",
      "SNOWH (97, 29, 29)\n",
      "CANWAT (97, 29, 29)\n",
      "SSTSK (97, 29, 29)\n",
      "COSZEN (97, 29, 29)\n",
      "LAI (97, 29, 29)\n",
      "VAR (97, 29, 29)\n",
      "MAPFAC_M (97, 29, 29)\n",
      "MAPFAC_U (97, 29, 30)\n",
      "MAPFAC_V (97, 30, 29)\n",
      "MAPFAC_MX (97, 29, 29)\n",
      "MAPFAC_MY (97, 29, 29)\n",
      "MAPFAC_UX (97, 29, 30)\n",
      "MAPFAC_UY (97, 29, 30)\n",
      "MAPFAC_VX (97, 30, 29)\n",
      "MF_VX_INV (97, 30, 29)\n",
      "MAPFAC_VY (97, 30, 29)\n",
      "F (97, 29, 29)\n",
      "E (97, 29, 29)\n",
      "SINALPHA (97, 29, 29)\n",
      "COSALPHA (97, 29, 29)\n",
      "HGT (97, 29, 29)\n",
      "TSK (97, 29, 29)\n",
      "P_TOP (97,)\n",
      "T00 (97,)\n",
      "P00 (97,)\n",
      "TLP (97,)\n",
      "TISO (97,)\n",
      "TLP_STRAT (97,)\n",
      "P_STRAT (97,)\n",
      "MAX_MSTFX (97,)\n",
      "MAX_MSTFY (97,)\n",
      "RAINC (97, 29, 29)\n",
      "RAINSH (97, 29, 29)\n",
      "RAINNC (97, 29, 29)\n",
      "SNOWNC (97, 29, 29)\n",
      "GRAUPELNC (97, 29, 29)\n",
      "HAILNC (97, 29, 29)\n",
      "REFL_10CM (97, 59, 29, 29)\n",
      "CLDFRA (97, 59, 29, 29)\n",
      "SWDOWN (97, 29, 29)\n",
      "GLW (97, 29, 29)\n",
      "SWNORM (97, 29, 29)\n",
      "OLR (97, 29, 29)\n",
      "XLAT_U (97, 29, 30)\n",
      "XLONG_U (97, 29, 30)\n",
      "XLAT_V (97, 30, 29)\n",
      "XLONG_V (97, 30, 29)\n",
      "ALBEDO (97, 29, 29)\n",
      "CLAT (97, 29, 29)\n",
      "ALBBCK (97, 29, 29)\n",
      "EMISS (97, 29, 29)\n",
      "NOAHRES (97, 29, 29)\n",
      "TMN (97, 29, 29)\n",
      "XLAND (97, 29, 29)\n",
      "UST (97, 29, 29)\n",
      "PBLH (97, 29, 29)\n",
      "HFX (97, 29, 29)\n",
      "QFX (97, 29, 29)\n",
      "LH (97, 29, 29)\n",
      "ACHFX (97, 29, 29)\n",
      "ACLHF (97, 29, 29)\n",
      "SNOWC (97, 29, 29)\n",
      "SR (97, 29, 29)\n",
      "SAVE_TOPO_FROM_REAL (97,)\n",
      "REFD_MAX (97, 29, 29)\n",
      "ISEEDARR_RAND_PERTURB (97, 59)\n",
      "ISEEDARR_SPPT (97, 59)\n",
      "ISEEDARR_SKEBS (97, 59)\n",
      "LANDMASK (97, 29, 29)\n",
      "LAKEMASK (97, 29, 29)\n",
      "SST (97, 29, 29)\n",
      "SST_INPUT (97, 29, 29)\n"
     ]
    }
   ],
   "source": [
    "for i in nc.variables:\n",
    "    print(i, nc.variables[i].shape)"
   ]
  },
  {
   "cell_type": "code",
   "execution_count": 5,
   "metadata": {
    "collapsed": false
   },
   "outputs": [
    {
     "name": "stdout",
     "output_type": "stream",
     "text": [
      "Time <class 'netCDF4._netCDF4.Dimension'> (unlimited): name = 'Time', size = 97\n",
      "\n",
      "DateStrLen <class 'netCDF4._netCDF4.Dimension'>: name = 'DateStrLen', size = 19\n",
      "\n",
      "west_east <class 'netCDF4._netCDF4.Dimension'>: name = 'west_east', size = 29\n",
      "\n",
      "south_north <class 'netCDF4._netCDF4.Dimension'>: name = 'south_north', size = 29\n",
      "\n",
      "bottom_top <class 'netCDF4._netCDF4.Dimension'>: name = 'bottom_top', size = 59\n",
      "\n",
      "bottom_top_stag <class 'netCDF4._netCDF4.Dimension'>: name = 'bottom_top_stag', size = 60\n",
      "\n",
      "soil_layers_stag <class 'netCDF4._netCDF4.Dimension'>: name = 'soil_layers_stag', size = 4\n",
      "\n",
      "west_east_stag <class 'netCDF4._netCDF4.Dimension'>: name = 'west_east_stag', size = 30\n",
      "\n",
      "south_north_stag <class 'netCDF4._netCDF4.Dimension'>: name = 'south_north_stag', size = 30\n",
      "\n"
     ]
    }
   ],
   "source": [
    "for dim in nc.dimensions:\n",
    "    print(dim, nc.dimensions[dim])"
   ]
  },
  {
   "cell_type": "markdown",
   "metadata": {},
   "source": [
    "## Extraigo variables que se van a usar"
   ]
  },
  {
   "cell_type": "code",
   "execution_count": 6,
   "metadata": {
    "collapsed": true
   },
   "outputs": [],
   "source": [
    "g = 9.8\n",
    "T = nc.variables['T']\n",
    "u = nc.variables['U']\n",
    "v = nc.variables['V']\n",
    "T2 = nc.variables['T2']\n",
    "PH = nc.variables['PH']\n",
    "PHB = nc.variables['PHB']"
   ]
  },
  {
   "cell_type": "code",
   "execution_count": 7,
   "metadata": {
    "collapsed": true
   },
   "outputs": [],
   "source": [
    "xlat = nc.variables['XLAT']\n",
    "xlong = nc.variables['XLONG']\n",
    "\n",
    "xlat_u = nc.variables['XLAT_U']\n",
    "xlong_u = nc.variables['XLONG_U']\n",
    "\n",
    "xlat_v = nc.variables['XLAT_V']\n",
    "xlong_v = nc.variables['XLONG_V']\n"
   ]
  },
  {
   "cell_type": "markdown",
   "metadata": {},
   "source": [
    "## Interpolación de velocidades"
   ]
  },
  {
   "cell_type": "code",
   "execution_count": 8,
   "metadata": {
    "collapsed": true
   },
   "outputs": [],
   "source": [
    "'''\n",
    "\n",
    "    `XLON`, `XLAT`, ...  van con su dimensión temporal. \n",
    "    `U` no va con su dimensión temporal, sólo las dimensiones espaciales correspondientes a un tiempo.\n",
    "    `ej: U[1, :, :, :]`\n",
    "\n",
    "'''\n",
    "\n",
    "\n",
    "def interpolate_velocity(XLONG, XLAT, XLONG_U, XLAT_U, U, u = True, Kind = 'linear'):\n",
    "    \n",
    "    x_old = XLONG_U[0, 1, :]\n",
    "    y_old = XLAT_U[0, :, 1]\n",
    "    x_new = XLONG[0, 1, :]\n",
    "    y_new = XLAT[0, :, 1]\n",
    "    \n",
    "    if u == True:\n",
    "        u_shape = (U.shape[0], U.shape[1], U.shape[2]-1)\n",
    "    \n",
    "    else:\n",
    "        u_shape = (U.shape[0], U.shape[1] - 1, U.shape[2])\n",
    "    \n",
    "    \n",
    "    U_out = np.zeros(u_shape, dtype='float32')\n",
    "    #U_out = np.zeros(u_shape, dtype='float32')\n",
    "    \n",
    "    for h in range(0, U.shape[0]):\n",
    "        \n",
    "        f = interpolate.interp2d(x_old, y_old, U[h, :, :], kind = Kind)\n",
    "        U_out[h, :, :] = f(x_new, y_new)\n",
    "\n",
    "    return U_out"
   ]
  },
  {
   "cell_type": "code",
   "execution_count": 9,
   "metadata": {
    "collapsed": true
   },
   "outputs": [],
   "source": [
    "u_interpol = interpolate_velocity(xlong, xlat, xlong_u, xlat_u, u[0,:, :, :])"
   ]
  },
  {
   "cell_type": "code",
   "execution_count": 10,
   "metadata": {
    "collapsed": false
   },
   "outputs": [
    {
     "data": {
      "text/plain": [
       "(59, 29, 29)"
      ]
     },
     "execution_count": 10,
     "metadata": {},
     "output_type": "execute_result"
    }
   ],
   "source": [
    "u_interpol.shape"
   ]
  },
  {
   "cell_type": "code",
   "execution_count": 11,
   "metadata": {
    "collapsed": false
   },
   "outputs": [
    {
     "data": {
      "text/plain": [
       "<matplotlib.text.Text at 0x10df4d630>"
      ]
     },
     "execution_count": 11,
     "metadata": {},
     "output_type": "execute_result"
    },
    {
     "data": {
      "image/png": "[encoded data removed]",
      "text/plain": [
       "<matplotlib.figure.Figure at 0x10de135f8>"
      ]
     },
     "metadata": {},
     "output_type": "display_data"
    }
   ],
   "source": [
    "h = 57 # altura o número de capa\n",
    "\n",
    "fig = plt.figure(figsize=(11,8))\n",
    "ax1 = fig.add_subplot(221)\n",
    "ax1.pcolor(u[0, h, :, :])\n",
    "plt.title(\"u salida WRF\")\n",
    "\n",
    "ax2 = fig.add_subplot(222)\n",
    "ax2.pcolor(u_interpol[h, :, :])\n",
    "#ax2.title(title = 'u interpolado')\n",
    "plt.title('u interpolado')"
   ]
  },
  {
   "cell_type": "markdown",
   "metadata": {},
   "source": [
    "### Ahora para v"
   ]
  },
  {
   "cell_type": "code",
   "execution_count": 12,
   "metadata": {
    "collapsed": true
   },
   "outputs": [],
   "source": [
    "v_interpol = interpolate_velocity(xlong, xlat, xlong_v, xlat_v, v[0,:,:,:], u = False)"
   ]
  },
  {
   "cell_type": "code",
   "execution_count": 14,
   "metadata": {
    "collapsed": false
   },
   "outputs": [
    {
     "name": "stdout",
     "output_type": "stream",
     "text": [
      "0.011115074157714844 seg\n"
     ]
    }
   ],
   "source": [
    "start = time.time()\n",
    "\n",
    "interpolate_velocity(xlong, xlat, xlong_v, xlat_v, v[0,:,:,:], u = False)\n",
    "\n",
    "end = time.time()\n",
    "print(end - start, 'seg')"
   ]
  },
  {
   "cell_type": "code",
   "execution_count": 15,
   "metadata": {
    "collapsed": false
   },
   "outputs": [
    {
     "data": {
      "text/plain": [
       "<matplotlib.text.Text at 0x10e5ced30>"
      ]
     },
     "execution_count": 15,
     "metadata": {},
     "output_type": "execute_result"
    },
    {
     "data": {
      "image/png": "[encoded data removed]",
      "text/plain": [
       "<matplotlib.figure.Figure at 0x10e44b5c0>"
      ]
     },
     "metadata": {},
     "output_type": "display_data"
    }
   ],
   "source": [
    "h = 0 # altura o número de capa\n",
    "\n",
    "fig = plt.figure(figsize=(11,8))\n",
    "ax1 = fig.add_subplot(221)\n",
    "ax1.pcolor(v[0, h, :, :])\n",
    "#Cs = plt.contour(relieve[1, :, :], colors= 'k')\n",
    "#plt.clabel(Cs, fontsize = 8)\n",
    "plt.title(\"v salida WRF\")\n",
    "\n",
    "\n",
    "ax2 = fig.add_subplot(222)\n",
    "ax2.pcolor(v_interpol[h, :, :])\n",
    "#Cs = plt.contour(relieve[1, :, :], colors= 'k')\n",
    "#plt.clabel(Cs, fontsize = 8)\n",
    "plt.title('v interpolado')"
   ]
  },
  {
   "cell_type": "markdown",
   "metadata": {},
   "source": [
    "## Compute height\n",
    "\n",
    "Según el [manual de usuario de WRF](http://mailman.ucar.edu/pipermail/wrf-users/2011/002437.html) muchas variables de salida del WRF se encuentran en medio de la rejilla vertical, es por eso que cuando se calcula la altura usando las variables `PH` y `PHB`, se obtiene un valor extra en la componente vertical que no tienen  las otras variables  como las velocidades `U` y `V`. Esto se debe a que algunas variables se encuentran en medio de la malla vertical.\n",
    "\n",
    "Lo que sugieren en el manual de usuario es promediar la altura de la capa de arriba con la altura de la capa de abajo, para abotener la altura en medio de la malla vertical, es decir:\n",
    "\n",
    "`z = ((PH(n)+PHB(n)) + (PH(n+1) + PHB(n+1))) / 9.8`\n",
    "\n"
   ]
  },
  {
   "cell_type": "code",
   "execution_count": 16,
   "metadata": {
    "collapsed": true
   },
   "outputs": [],
   "source": [
    "'''\n",
    "    compute_height(PH, PHB)\n",
    "    \n",
    "    PH y PHB deben ser prporcionados como una matriz de tres dimensiones es decir hay especificar su variable temporal. \n",
    "    Por ejemplo: Para el tiempo t = 0, se debe introducir PH[0, :, :, :] y PHB[0, :, :, :].\n",
    "'''\n",
    "\n",
    "def compute_height(PH, PBH):\n",
    "    \n",
    "    g = 9.8\n",
    "    z_shape = (PH.shape[0]-1, PH.shape[1], PH.shape[2])\n",
    "    Z = np.zeros(z_shape, dtype='float32')\n",
    "    \n",
    "    \n",
    "    for h in range(0, PH.shape[0]-1):\n",
    "        \n",
    "        Z[h, :, :] = ((PH[h, :, :] + PBH[h, :, :]) + (PH[h+1, :, :] + PBH[h+1, :, :]))/g\n",
    "        \n",
    "    return Z    "
   ]
  },
  {
   "cell_type": "code",
   "execution_count": 17,
   "metadata": {
    "collapsed": true
   },
   "outputs": [],
   "source": [
    "Z = compute_height(PH[0, :, :, :], PHB[0, :, :, :])"
   ]
  },
  {
   "cell_type": "code",
   "execution_count": 19,
   "metadata": {
    "collapsed": false
   },
   "outputs": [
    {
     "data": {
      "text/plain": [
       "(59, 29, 29)"
      ]
     },
     "execution_count": 19,
     "metadata": {},
     "output_type": "execute_result"
    }
   ],
   "source": [
    "Z.shape"
   ]
  },
  {
   "cell_type": "code",
   "execution_count": 18,
   "metadata": {
    "collapsed": false
   },
   "outputs": [
    {
     "data": {
      "text/plain": [
       "(97, 60, 29, 29)"
      ]
     },
     "execution_count": 18,
     "metadata": {},
     "output_type": "execute_result"
    }
   ],
   "source": [
    "PH.shape"
   ]
  },
  {
   "cell_type": "code",
   "execution_count": 20,
   "metadata": {
    "collapsed": false
   },
   "outputs": [
    {
     "data": {
      "text/plain": [
       "(97, 59, 29, 30)"
      ]
     },
     "execution_count": 20,
     "metadata": {},
     "output_type": "execute_result"
    }
   ],
   "source": [
    "u.shape"
   ]
  },
  {
   "cell_type": "code",
   "execution_count": 55,
   "metadata": {
    "collapsed": false
   },
   "outputs": [],
   "source": [
    "z_range = range(0, len(Z[:, 20, 20]))"
   ]
  },
  {
   "cell_type": "code",
   "execution_count": 57,
   "metadata": {
    "collapsed": false
   },
   "outputs": [
    {
     "data": {
      "text/plain": [
       "<matplotlib.collections.PathCollection at 0x10ff048d0>"
      ]
     },
     "execution_count": 57,
     "metadata": {},
     "output_type": "execute_result"
    },
    {
     "data": {
      "image/png": "[encoded data removed]",
      "text/plain": [
       "<matplotlib.figure.Figure at 0x10ec4ca20>"
      ]
     },
     "metadata": {},
     "output_type": "display_data"
    }
   ],
   "source": [
    "plt.scatter(z_range, Z[:, 20, 20])"
   ]
  },
  {
   "cell_type": "code",
   "execution_count": 53,
   "metadata": {
    "collapsed": false
   },
   "outputs": [
    {
     "data": {
      "text/plain": [
       "array([   593.16021729,    638.22320557,    683.40740967,    728.70550537,\n",
       "          774.10290527,    819.59289551,    865.16729736,    910.82226562,\n",
       "          979.46984863,   1071.19885254,   1163.21960449,   1255.57019043,\n",
       "         1394.8503418 ,   1581.58581543,   1769.71496582,   2055.12402344,\n",
       "         2440.10229492,   2831.19335938,   3228.69799805,   3810.25585938,\n",
       "         4584.93457031,   5387.90820312,   6222.61621094,   7092.8203125 ,\n",
       "         8003.37060547,   8955.94335938,   9955.13574219,  11004.43652344,\n",
       "        12110.58691406,  13285.0234375 ,  14534.16699219,  15870.21679688,\n",
       "        17309.38671875,  18873.9375    ,  20535.08984375,  22225.7578125 ,\n",
       "        23919.01367188,  25610.73046875,  27309.9296875 ,  28997.08398438,\n",
       "        30640.28710938,  32241.12109375,  33814.24609375,  35376.29296875,\n",
       "        36956.59765625,  38574.8125    ,  40231.30859375,  41927.5390625 ,\n",
       "        43643.81640625,  45373.48828125,  47111.1015625 ,  48870.25390625,\n",
       "        50648.27734375,  52443.68359375,  54265.8671875 ,  56063.1171875 ,\n",
       "        57870.81640625,  59692.44921875,  61499.3359375 ], dtype=float32)"
      ]
     },
     "execution_count": 53,
     "metadata": {},
     "output_type": "execute_result"
    }
   ],
   "source": [
    "Z[:, 20, 20]"
   ]
  },
  {
   "cell_type": "markdown",
   "metadata": {},
   "source": [
    "## Número de Richardson\n",
    "\n",
    "Se usa el algoritmo para calcular Richardson que viene en el artículo de [S. Joffre](https://link.springer.com/article/10.1023%2FA%3A1018956525605?LI=true):\n",
    "\n",
    "$$Ri(z_{i+1}) = \\frac{g}{T_s} \\frac{(\\theta_{i+2} - \\theta_i)(z_{i+2} - z_i)}{(V_{i+2} - V_i)^2}.$$\n",
    "\n",
    "Si se cambian los índices se tiene:\n",
    "\n",
    "$$Ri(z_{i}) = \\frac{g}{T_s} \\frac{(\\theta_{i+1} - \\theta_{i-1})(z_{i+1} - z_{i-1})}{(V_{i+1} - V_{i-1})^2}.$$\n",
    "\n",
    "No se tienen valores del número de Richardson en la capa más baja y en la capa superior.\n"
   ]
  },
  {
   "cell_type": "code",
   "execution_count": 22,
   "metadata": {
    "collapsed": false
   },
   "outputs": [],
   "source": [
    "def compute_Richardson(T_s, θ, Z, u, v):\n",
    "    g = 9.8\n",
    "    Ri = np.zeros(Z.shape, dtype='float32')\n",
    "    \n",
    "    for i in range(1,len(θ)-2):\n",
    "        \n",
    "        Vu = np.sqrt(u[i+1]**2 + v[i+1]**2)\n",
    "        Vd = np.sqrt(u[i-1]**2 + v[i-1]**2)\n",
    "        \n",
    "        Ri[i] = g / T_s * ((θ[i+1] - θ[i-1])*(Z[i+1] - Z[i-1]))/(Vu - Vd)**2\n",
    "    \n",
    "    return Ri"
   ]
  },
  {
   "cell_type": "code",
   "execution_count": 63,
   "metadata": {
    "collapsed": false
   },
   "outputs": [
    {
     "name": "stdout",
     "output_type": "stream",
     "text": [
      "Latitud  20.6172\n",
      "Longitud -97.9258\n",
      "tiempo 0\n"
     ]
    }
   ],
   "source": [
    "nx = 20\n",
    "ny = nx\n",
    "t = 0\n",
    "print('Latitud ', xlat[t, nx, ny])\n",
    "print('Longitud', xlong[t, nx, ny])\n",
    "print('tiempo', 0)\n",
    "Ri = compute_Richardson(T2[t, nx, ny], T[t, :, nx, ny], Z[:, nx, ny], u_interpol[:, nx, ny], v_interpol[:, nx, ny])"
   ]
  },
  {
   "cell_type": "code",
   "execution_count": 64,
   "metadata": {
    "collapsed": true
   },
   "outputs": [],
   "source": [
    "time = nc.dimensions['Time']"
   ]
  },
  {
   "cell_type": "code",
   "execution_count": 84,
   "metadata": {
    "collapsed": false
   },
   "outputs": [
    {
     "data": {
      "text/plain": [
       "<matplotlib.text.Text at 0x1105c33c8>"
      ]
     },
     "execution_count": 84,
     "metadata": {},
     "output_type": "execute_result"
    },
    {
     "data": {
      "image/png": "[encoded data removed]",
      "text/plain": [
       "<matplotlib.figure.Figure at 0x1104675f8>"
      ]
     },
     "metadata": {},
     "output_type": "display_data"
    }
   ],
   "source": [
    "plt.figure(figsize=(10,6))\n",
    "plt.plot(Ri, Z[:, nx, ny])\n",
    "plt.xlabel(\"Ri\")\n",
    "plt.ylabel('Z')\n",
    "plt.title('Primer método. Lat ' + str(xlat[t, nx, ny]) + ', Lon ' + str(xlong[t, nx, ny]))"
   ]
  },
  {
   "cell_type": "markdown",
   "metadata": {},
   "source": [
    "**Observaciones:** Claramente algo está mal."
   ]
  },
  {
   "cell_type": "markdown",
   "metadata": {},
   "source": [
    "## Probando el segundo método\n",
    "\n",
    "El segundo método viene en el artículo de [Xueliang Feng](http://www.mdpi.com/2073-4433/6/9/1346/htm), donde se calcula el número de Richardson de la siguiente forma:\n",
    "\n",
    "$$Ri(z) = \\frac{g \\ (z -z_0)(\\theta(z) - \\theta_0)}{\\theta(z)(u(z)^2) + v(z)^2)}$$"
   ]
  },
  {
   "cell_type": "code",
   "execution_count": 66,
   "metadata": {
    "collapsed": false
   },
   "outputs": [
    {
     "data": {
      "text/plain": [
       "20"
      ]
     },
     "execution_count": 66,
     "metadata": {},
     "output_type": "execute_result"
    }
   ],
   "source": [
    "ny"
   ]
  },
  {
   "cell_type": "code",
   "execution_count": 70,
   "metadata": {
    "collapsed": false
   },
   "outputs": [
    {
     "data": {
      "text/plain": [
       "593.16022"
      ]
     },
     "execution_count": 70,
     "metadata": {},
     "output_type": "execute_result"
    }
   ],
   "source": [
    "Z[:, nx, ny][0]"
   ]
  },
  {
   "cell_type": "code",
   "execution_count": 71,
   "metadata": {
    "collapsed": false
   },
   "outputs": [
    {
     "data": {
      "text/plain": [
       "6.6882935"
      ]
     },
     "execution_count": 71,
     "metadata": {},
     "output_type": "execute_result"
    }
   ],
   "source": [
    "T[0,:, nx, ny][0]"
   ]
  },
  {
   "cell_type": "code",
   "execution_count": 74,
   "metadata": {
    "collapsed": false
   },
   "outputs": [
    {
     "data": {
      "text/plain": [
       "304.69315"
      ]
     },
     "execution_count": 74,
     "metadata": {},
     "output_type": "execute_result"
    }
   ],
   "source": [
    "T2[0, nx, ny]"
   ]
  },
  {
   "cell_type": "code",
   "execution_count": 78,
   "metadata": {
    "collapsed": true
   },
   "outputs": [],
   "source": [
    "def compute_Richardson_2(θ, Z, u, v):\n",
    "    g = 9.8\n",
    "    Ri = np.zeros(Z.shape, dtype='float32')\n",
    "    \n",
    "    for i in range(0,len(θ)-1):\n",
    "        \n",
    "        Ri[i] = (g*(θ[i] - θ[0])*(Z[i] - Z[0]))/(θ[i] * (u[i]**2 + v[i]**2))\n",
    "    \n",
    "    return Ri"
   ]
  },
  {
   "cell_type": "code",
   "execution_count": 92,
   "metadata": {
    "collapsed": false
   },
   "outputs": [
    {
     "name": "stdout",
     "output_type": "stream",
     "text": [
      "Latitud  20.6172\n",
      "Longitud -97.9258\n",
      "tiempo 0\n"
     ]
    }
   ],
   "source": [
    "nx = 20\n",
    "ny = nx\n",
    "t = 10\n",
    "print('Latitud ', xlat[t, nx, ny])\n",
    "print('Longitud', xlong[t, nx, ny])\n",
    "print('tiempo', 0)\n",
    "Ri2 = compute_Richardson_2(T[t, :, nx, ny], Z[:, nx, ny], u_interpol[:, nx, ny], v_interpol[:, nx, ny])"
   ]
  },
  {
   "cell_type": "code",
   "execution_count": 93,
   "metadata": {
    "collapsed": false
   },
   "outputs": [
    {
     "data": {
      "text/plain": [
       "<matplotlib.text.Text at 0x110d14e10>"
      ]
     },
     "execution_count": 93,
     "metadata": {},
     "output_type": "execute_result"
    },
    {
     "data": {
      "image/png": "[encoded data removed]",
      "text/plain": [
       "<matplotlib.figure.Figure at 0x110bc3cf8>"
      ]
     },
     "metadata": {},
     "output_type": "display_data"
    }
   ],
   "source": [
    "plt.figure(figsize=(10,6))\n",
    "plt.plot(Ri2, Z[:, nx, ny])\n",
    "plt.xlabel(\"Ri\")\n",
    "plt.ylabel('Z')\n",
    "plt.title('Segundo método. Lat ' + str(xlat[t, nx, ny]) + ', Lon ' + str(xlong[t, nx, ny]))"
   ]
  },
  {
   "cell_type": "code",
   "execution_count": 94,
   "metadata": {
    "collapsed": true
   },
   "outputs": [],
   "source": [
    "relieve = nc.variables['HGT']"
   ]
  },
  {
   "cell_type": "code",
   "execution_count": 102,
   "metadata": {
    "collapsed": false
   },
   "outputs": [
    {
     "data": {
      "text/plain": [
       "<matplotlib.collections.PathCollection at 0x112930278>"
      ]
     },
     "execution_count": 102,
     "metadata": {},
     "output_type": "execute_result"
    },
    {
     "data": {
      "image/png": "[encoded data removed]",
      "text/plain": [
       "<matplotlib.figure.Figure at 0x11273e048>"
      ]
     },
     "metadata": {},
     "output_type": "display_data"
    }
   ],
   "source": [
    "h = 20\n",
    "fig = plt.figure(figsize=(13,8))\n",
    "#Cs = plt.contour(relieve[1, :, :], colors= 'k')\n",
    "#plt.clabel(Cs, fontsize = 8)\n",
    "plt.pcolormesh(xlong[h, :, :], xlat[h, :, :], T[0,h, :, :])\n",
    "plt.colorbar()\n",
    "plt.scatter(xlong[h, nx, ny], xlat[h, nx, ny])"
   ]
  },
  {
   "cell_type": "code",
   "execution_count": null,
   "metadata": {
    "collapsed": true
   },
   "outputs": [],
   "source": []
  }
 ],
 "metadata": {
  "kernelspec": {
   "display_name": "Python 3",
   "language": "python",
   "name": "python3"
  },
  "language_info": {
   "codemirror_mode": {
    "name": "ipython",
    "version": 3
   },
   "file_extension": ".py",
   "mimetype": "text/x-python",
   "name": "python",
   "nbconvert_exporter": "python",
   "pygments_lexer": "ipython3",
   "version": "3.5.0"
  }
 },
 "nbformat": 4,
 "nbformat_minor": 2
}
