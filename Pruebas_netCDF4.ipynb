{
 "cells": [
  {
   "cell_type": "code",
   "execution_count": 39,
   "metadata": {
    "collapsed": true
   },
   "outputs": [],
   "source": [
    "from netCDF4 import Dataset\n",
    "import numpy as np\n",
    "import pymeteo.skewt as skewt\n",
    "import matplotlib.pyplot as plt\n",
    "%matplotlib inline"
   ]
  },
  {
   "cell_type": "code",
   "execution_count": 22,
   "metadata": {
    "collapsed": true
   },
   "outputs": [],
   "source": [
    "file = 'wrfout_d01_2012-05-30_00:00:00.nc'"
   ]
  },
  {
   "cell_type": "code",
   "execution_count": 23,
   "metadata": {
    "collapsed": true
   },
   "outputs": [],
   "source": [
    "nc = Dataset(file, 'r')"
   ]
  },
  {
   "cell_type": "code",
   "execution_count": null,
   "metadata": {
    "collapsed": true
   },
   "outputs": [],
   "source": [
    "lat = 19.2692\n",
    "lon = -99.7071\n",
    "time = 1\n",
    "outFile = 'test'\n",
    "skewt.plot_wrf(file,lat,lon,time,outFile)"
   ]
  },
  {
   "cell_type": "code",
   "execution_count": 6,
   "metadata": {
    "collapsed": false
   },
   "outputs": [
    {
     "name": "stdout",
     "output_type": "stream",
     "text": [
      "Times (97, 19)\n",
      "XLAT (97, 29, 29)\n",
      "XLONG (97, 29, 29)\n",
      "LU_INDEX (97, 29, 29)\n",
      "ZNU (97, 59)\n",
      "ZNW (97, 60)\n",
      "ZS (97, 4)\n",
      "DZS (97, 4)\n",
      "VAR_SSO (97, 29, 29)\n",
      "U (97, 59, 29, 30)\n",
      "V (97, 59, 30, 29)\n",
      "W (97, 60, 29, 29)\n",
      "PH (97, 60, 29, 29)\n",
      "PHB (97, 60, 29, 29)\n",
      "T (97, 59, 29, 29)\n",
      "HFX_FORCE (97,)\n",
      "LH_FORCE (97,)\n",
      "TSK_FORCE (97,)\n",
      "HFX_FORCE_TEND (97,)\n",
      "LH_FORCE_TEND (97,)\n",
      "TSK_FORCE_TEND (97,)\n",
      "MU (97, 29, 29)\n",
      "MUB (97, 29, 29)\n",
      "NEST_POS (97, 29, 29)\n",
      "P (97, 59, 29, 29)\n",
      "PB (97, 59, 29, 29)\n",
      "FNM (97, 59)\n",
      "FNP (97, 59)\n",
      "RDNW (97, 59)\n",
      "RDN (97, 59)\n",
      "DNW (97, 59)\n",
      "DN (97, 59)\n",
      "CFN (97,)\n",
      "CFN1 (97,)\n",
      "THIS_IS_AN_IDEAL_RUN (97,)\n",
      "P_HYD (97, 59, 29, 29)\n",
      "Q2 (97, 29, 29)\n",
      "T2 (97, 29, 29)\n",
      "TH2 (97, 29, 29)\n",
      "PSFC (97, 29, 29)\n",
      "U10 (97, 29, 29)\n",
      "V10 (97, 29, 29)\n",
      "RDX (97,)\n",
      "RDY (97,)\n",
      "RESM (97,)\n",
      "ZETATOP (97,)\n",
      "CF1 (97,)\n",
      "CF2 (97,)\n",
      "CF3 (97,)\n",
      "ITIMESTEP (97,)\n",
      "XTIME (97,)\n",
      "QVAPOR (97, 59, 29, 29)\n",
      "QCLOUD (97, 59, 29, 29)\n",
      "QRAIN (97, 59, 29, 29)\n",
      "QICE (97, 59, 29, 29)\n",
      "QSNOW (97, 59, 29, 29)\n",
      "QGRAUP (97, 59, 29, 29)\n",
      "QHAIL (97, 59, 29, 29)\n",
      "QNCLOUD (97, 59, 29, 29)\n",
      "QNRAIN (97, 59, 29, 29)\n",
      "QNICE (97, 59, 29, 29)\n",
      "QNSNOW (97, 59, 29, 29)\n",
      "QNGRAUPEL (97, 59, 29, 29)\n",
      "QNHAIL (97, 59, 29, 29)\n",
      "SHDMAX (97, 29, 29)\n",
      "SHDMIN (97, 29, 29)\n",
      "SNOALB (97, 29, 29)\n",
      "TSLB (97, 4, 29, 29)\n",
      "SMOIS (97, 4, 29, 29)\n",
      "SH2O (97, 4, 29, 29)\n",
      "SMCREL (97, 4, 29, 29)\n",
      "SEAICE (97, 29, 29)\n",
      "XICEM (97, 29, 29)\n",
      "SFROFF (97, 29, 29)\n",
      "UDROFF (97, 29, 29)\n",
      "IVGTYP (97, 29, 29)\n",
      "ISLTYP (97, 29, 29)\n",
      "VEGFRA (97, 29, 29)\n",
      "GRDFLX (97, 29, 29)\n",
      "ACGRDFLX (97, 29, 29)\n",
      "ACSNOM (97, 29, 29)\n",
      "SNOW (97, 29, 29)\n",
      "SNOWH (97, 29, 29)\n",
      "CANWAT (97, 29, 29)\n",
      "SSTSK (97, 29, 29)\n",
      "COSZEN (97, 29, 29)\n",
      "LAI (97, 29, 29)\n",
      "VAR (97, 29, 29)\n",
      "MAPFAC_M (97, 29, 29)\n",
      "MAPFAC_U (97, 29, 30)\n",
      "MAPFAC_V (97, 30, 29)\n",
      "MAPFAC_MX (97, 29, 29)\n",
      "MAPFAC_MY (97, 29, 29)\n",
      "MAPFAC_UX (97, 29, 30)\n",
      "MAPFAC_UY (97, 29, 30)\n",
      "MAPFAC_VX (97, 30, 29)\n",
      "MF_VX_INV (97, 30, 29)\n",
      "MAPFAC_VY (97, 30, 29)\n",
      "F (97, 29, 29)\n",
      "E (97, 29, 29)\n",
      "SINALPHA (97, 29, 29)\n",
      "COSALPHA (97, 29, 29)\n",
      "HGT (97, 29, 29)\n",
      "TSK (97, 29, 29)\n",
      "P_TOP (97,)\n",
      "T00 (97,)\n",
      "P00 (97,)\n",
      "TLP (97,)\n",
      "TISO (97,)\n",
      "TLP_STRAT (97,)\n",
      "P_STRAT (97,)\n",
      "MAX_MSTFX (97,)\n",
      "MAX_MSTFY (97,)\n",
      "RAINC (97, 29, 29)\n",
      "RAINSH (97, 29, 29)\n",
      "RAINNC (97, 29, 29)\n",
      "SNOWNC (97, 29, 29)\n",
      "GRAUPELNC (97, 29, 29)\n",
      "HAILNC (97, 29, 29)\n",
      "REFL_10CM (97, 59, 29, 29)\n",
      "CLDFRA (97, 59, 29, 29)\n",
      "SWDOWN (97, 29, 29)\n",
      "GLW (97, 29, 29)\n",
      "SWNORM (97, 29, 29)\n",
      "OLR (97, 29, 29)\n",
      "XLAT_U (97, 29, 30)\n",
      "XLONG_U (97, 29, 30)\n",
      "XLAT_V (97, 30, 29)\n",
      "XLONG_V (97, 30, 29)\n",
      "ALBEDO (97, 29, 29)\n",
      "CLAT (97, 29, 29)\n",
      "ALBBCK (97, 29, 29)\n",
      "EMISS (97, 29, 29)\n",
      "NOAHRES (97, 29, 29)\n",
      "TMN (97, 29, 29)\n",
      "XLAND (97, 29, 29)\n",
      "UST (97, 29, 29)\n",
      "PBLH (97, 29, 29)\n",
      "HFX (97, 29, 29)\n",
      "QFX (97, 29, 29)\n",
      "LH (97, 29, 29)\n",
      "ACHFX (97, 29, 29)\n",
      "ACLHF (97, 29, 29)\n",
      "SNOWC (97, 29, 29)\n",
      "SR (97, 29, 29)\n",
      "SAVE_TOPO_FROM_REAL (97,)\n",
      "REFD_MAX (97, 29, 29)\n",
      "ISEEDARR_RAND_PERTURB (97, 59)\n",
      "ISEEDARR_SPPT (97, 59)\n",
      "ISEEDARR_SKEBS (97, 59)\n",
      "LANDMASK (97, 29, 29)\n",
      "LAKEMASK (97, 29, 29)\n",
      "SST (97, 29, 29)\n",
      "SST_INPUT (97, 29, 29)\n"
     ]
    }
   ],
   "source": [
    "for i in nc.variables:\n",
    "    print(i, nc.variables[i].shape)"
   ]
  },
  {
   "cell_type": "code",
   "execution_count": 8,
   "metadata": {
    "collapsed": true
   },
   "outputs": [],
   "source": [
    "T = nc.variables['T']"
   ]
  },
  {
   "cell_type": "code",
   "execution_count": 14,
   "metadata": {
    "collapsed": true
   },
   "outputs": [],
   "source": [
    "xlong = nc.variables['XLONG']"
   ]
  },
  {
   "cell_type": "code",
   "execution_count": 15,
   "metadata": {
    "collapsed": true
   },
   "outputs": [],
   "source": [
    "xlat = nc.variables['XLAT']"
   ]
  },
  {
   "cell_type": "code",
   "execution_count": 17,
   "metadata": {
    "collapsed": false
   },
   "outputs": [
    {
     "data": {
      "text/plain": [
       "(97, 29, 29)"
      ]
     },
     "execution_count": 17,
     "metadata": {},
     "output_type": "execute_result"
    }
   ],
   "source": [
    "xlat.shape"
   ]
  },
  {
   "cell_type": "code",
   "execution_count": 18,
   "metadata": {
    "collapsed": false
   },
   "outputs": [
    {
     "data": {
      "text/plain": [
       "(97, 59, 29, 29)"
      ]
     },
     "execution_count": 18,
     "metadata": {},
     "output_type": "execute_result"
    }
   ],
   "source": [
    "T.shape"
   ]
  },
  {
   "cell_type": "code",
   "execution_count": 44,
   "metadata": {
    "collapsed": false
   },
   "outputs": [
    {
     "data": {
      "text/plain": [
       "(97, 59, 29, 29)"
      ]
     },
     "execution_count": 44,
     "metadata": {},
     "output_type": "execute_result"
    }
   ],
   "source": [
    "P = nc.variables['P']\n",
    "P.shape"
   ]
  },
  {
   "cell_type": "code",
   "execution_count": 41,
   "metadata": {
    "collapsed": false
   },
   "outputs": [
    {
     "data": {
      "text/plain": [
       "(59,)"
      ]
     },
     "execution_count": 41,
     "metadata": {},
     "output_type": "execute_result"
    }
   ],
   "source": [
    "T[3, :, 2, 2].shape"
   ]
  },
  {
   "cell_type": "code",
   "execution_count": 12,
   "metadata": {
    "collapsed": true
   },
   "outputs": [],
   "source": [
    "sst = nc.variables['SST']"
   ]
  },
  {
   "cell_type": "code",
   "execution_count": 16,
   "metadata": {
    "collapsed": false
   },
   "outputs": [
    {
     "name": "stdout",
     "output_type": "stream",
     "text": [
      "<class 'netCDF4._netCDF4.Variable'>\n",
      "float32 SST(Time, south_north, west_east)\n",
      "    FieldType: 104\n",
      "    MemoryOrder: XY \n",
      "    description: SEA SURFACE TEMPERATURE\n",
      "    units: K\n",
      "    stagger: \n",
      "    coordinates: XLONG XLAT XTIME\n",
      "unlimited dimensions: Time\n",
      "current shape = (97, 29, 29)\n",
      "filling off\n",
      "\n"
     ]
    }
   ],
   "source": [
    "print(sst)"
   ]
  },
  {
   "cell_type": "code",
   "execution_count": 13,
   "metadata": {
    "collapsed": false
   },
   "outputs": [
    {
     "data": {
      "text/plain": [
       "(97, 29, 29)"
      ]
     },
     "execution_count": 13,
     "metadata": {},
     "output_type": "execute_result"
    }
   ],
   "source": [
    "sst[:].shape"
   ]
  },
  {
   "cell_type": "code",
   "execution_count": 7,
   "metadata": {
    "collapsed": false
   },
   "outputs": [],
   "source": [
    "nc.dimensions;"
   ]
  },
  {
   "cell_type": "code",
   "execution_count": 37,
   "metadata": {
    "collapsed": false
   },
   "outputs": [
    {
     "data": {
      "text/plain": [
       "<class 'netCDF4._netCDF4.Dimension'> (unlimited): name = 'Time', size = 97"
      ]
     },
     "execution_count": 37,
     "metadata": {},
     "output_type": "execute_result"
    }
   ],
   "source": [
    "nc.dimensions['Time']"
   ]
  },
  {
   "cell_type": "code",
   "execution_count": 38,
   "metadata": {
    "collapsed": false
   },
   "outputs": [
    {
     "name": "stdout",
     "output_type": "stream",
     "text": [
      "Time <class 'netCDF4._netCDF4.Dimension'> (unlimited): name = 'Time', size = 97\n",
      "\n",
      "DateStrLen <class 'netCDF4._netCDF4.Dimension'>: name = 'DateStrLen', size = 19\n",
      "\n",
      "west_east <class 'netCDF4._netCDF4.Dimension'>: name = 'west_east', size = 29\n",
      "\n",
      "south_north <class 'netCDF4._netCDF4.Dimension'>: name = 'south_north', size = 29\n",
      "\n",
      "bottom_top <class 'netCDF4._netCDF4.Dimension'>: name = 'bottom_top', size = 59\n",
      "\n",
      "bottom_top_stag <class 'netCDF4._netCDF4.Dimension'>: name = 'bottom_top_stag', size = 60\n",
      "\n",
      "soil_layers_stag <class 'netCDF4._netCDF4.Dimension'>: name = 'soil_layers_stag', size = 4\n",
      "\n",
      "west_east_stag <class 'netCDF4._netCDF4.Dimension'>: name = 'west_east_stag', size = 30\n",
      "\n",
      "south_north_stag <class 'netCDF4._netCDF4.Dimension'>: name = 'south_north_stag', size = 30\n",
      "\n"
     ]
    }
   ],
   "source": [
    "for dim in nc.dimensions:\n",
    "    print(dim, nc.dimensions[dim])"
   ]
  },
  {
   "cell_type": "code",
   "execution_count": 56,
   "metadata": {
    "collapsed": false
   },
   "outputs": [
    {
     "data": {
      "text/plain": [
       "-100.07627"
      ]
     },
     "execution_count": 56,
     "metadata": {},
     "output_type": "execute_result"
    }
   ],
   "source": [
    "xlong[1,5,5]"
   ]
  },
  {
   "cell_type": "code",
   "execution_count": 57,
   "metadata": {
    "collapsed": false
   },
   "outputs": [
    {
     "name": "stdout",
     "output_type": "stream",
     "text": [
      "18.59149932861328 N, 100.0762710571289 W 0.0 2012-05-30_01:00:00 309.393 2.13979 -0.566926 86962.9 0.0143202\n",
      "Error calculating sounding stats, storm motion marker not plotted\n",
      "Error calculating sounding stats, storm motion marker not plotted\n",
      "Error calculating sounding stats, storm motion marker not plotted\n",
      "Error calculating sounding stats, storm motion marker not plotted\n",
      "Error calculating sounding stats, storm motion marker not plotted\n",
      "Error calculating sounding stats, storm motion marker not plotted\n",
      "Error calculating sounding stats, storm motion marker not plotted\n",
      "Error calculating storm motion\n",
      "Error calcualting sounding stats, datablock omitted\n"
     ]
    }
   ],
   "source": [
    "lat = xlat[1,5,5]\n",
    "lon = xlong[1,5,5]\n",
    "time = 1\n",
    "outFile = 'test'\n",
    "skewt.plot_wrf(file,lat,lon,time,outFile)"
   ]
  },
  {
   "cell_type": "markdown",
   "metadata": {},
   "source": [
    "# Richardson method"
   ]
  },
  {
   "cell_type": "markdown",
   "metadata": {},
   "source": [
    "$$Ri(z_{i+1}) = \\frac{g}{T_s} \\frac{(\\theta_{i+2} - \\theta_i)(z_{i+2} - z_i)}{(V_{i+2} - V_i)^2}$$"
   ]
  },
  {
   "cell_type": "markdown",
   "metadata": {},
   "source": [
    "# Parámetros\n",
    "\n",
    "- $g = 9.8 \\ m/s^2$"
   ]
  },
  {
   "cell_type": "code",
   "execution_count": 63,
   "metadata": {
    "collapsed": false
   },
   "outputs": [
    {
     "data": {
      "text/plain": [
       "<class 'netCDF4._netCDF4.Variable'>\n",
       "float32 U(Time, bottom_top, south_north, west_east_stag)\n",
       "    FieldType: 104\n",
       "    MemoryOrder: XYZ\n",
       "    description: x-wind component\n",
       "    units: m s-1\n",
       "    stagger: X\n",
       "    coordinates: XLONG_U XLAT_U XTIME\n",
       "unlimited dimensions: Time\n",
       "current shape = (97, 59, 29, 30)\n",
       "filling off"
      ]
     },
     "execution_count": 63,
     "metadata": {},
     "output_type": "execute_result"
    }
   ],
   "source": [
    "nc.variables['U']"
   ]
  },
  {
   "cell_type": "code",
   "execution_count": 59,
   "metadata": {
    "collapsed": false
   },
   "outputs": [],
   "source": [
    "g = 9.8"
   ]
  },
  {
   "cell_type": "code",
   "execution_count": null,
   "metadata": {
    "collapsed": true
   },
   "outputs": [],
   "source": []
  },
  {
   "cell_type": "code",
   "execution_count": null,
   "metadata": {
    "collapsed": true
   },
   "outputs": [],
   "source": [
    "def compute_Richardson(T_s, θ, Z, u, v)"
   ]
  }
 ],
 "metadata": {
  "kernelspec": {
   "display_name": "Python 3",
   "language": "python",
   "name": "python3"
  },
  "language_info": {
   "codemirror_mode": {
    "name": "ipython",
    "version": 3
   },
   "file_extension": ".py",
   "mimetype": "text/x-python",
   "name": "python",
   "nbconvert_exporter": "python",
   "pygments_lexer": "ipython3",
   "version": "3.5.0"
  }
 },
 "nbformat": 4,
 "nbformat_minor": 2
}
