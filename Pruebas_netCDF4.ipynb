{
 "cells": [
  {
   "cell_type": "code",
   "execution_count": 1,
   "metadata": {
    "collapsed": true
   },
   "outputs": [],
   "source": [
    "from netCDF4 import Dataset\n",
    "import numpy as np\n",
    "#import pymeteo.skewt as skewt\n",
    "import matplotlib.pyplot as plt\n",
    "%matplotlib inline"
   ]
  },
  {
   "cell_type": "code",
   "execution_count": 2,
   "metadata": {
    "collapsed": true
   },
   "outputs": [],
   "source": [
    "file = 'wrfout_d01_2012-05-30_00:00:00.nc'"
   ]
  },
  {
   "cell_type": "code",
   "execution_count": 3,
   "metadata": {
    "collapsed": true
   },
   "outputs": [],
   "source": [
    "nc = Dataset(file, 'r')"
   ]
  },
  {
   "cell_type": "code",
   "execution_count": 4,
   "metadata": {
    "collapsed": false
   },
   "outputs": [
    {
     "name": "stdout",
     "output_type": "stream",
     "text": [
      "Times (97, 19)\n",
      "XLAT (97, 29, 29)\n",
      "XLONG (97, 29, 29)\n",
      "LU_INDEX (97, 29, 29)\n",
      "ZNU (97, 59)\n",
      "ZNW (97, 60)\n",
      "ZS (97, 4)\n",
      "DZS (97, 4)\n",
      "VAR_SSO (97, 29, 29)\n",
      "U (97, 59, 29, 30)\n",
      "V (97, 59, 30, 29)\n",
      "W (97, 60, 29, 29)\n",
      "PH (97, 60, 29, 29)\n",
      "PHB (97, 60, 29, 29)\n",
      "T (97, 59, 29, 29)\n",
      "HFX_FORCE (97,)\n",
      "LH_FORCE (97,)\n",
      "TSK_FORCE (97,)\n",
      "HFX_FORCE_TEND (97,)\n",
      "LH_FORCE_TEND (97,)\n",
      "TSK_FORCE_TEND (97,)\n",
      "MU (97, 29, 29)\n",
      "MUB (97, 29, 29)\n",
      "NEST_POS (97, 29, 29)\n",
      "P (97, 59, 29, 29)\n",
      "PB (97, 59, 29, 29)\n",
      "FNM (97, 59)\n",
      "FNP (97, 59)\n",
      "RDNW (97, 59)\n",
      "RDN (97, 59)\n",
      "DNW (97, 59)\n",
      "DN (97, 59)\n",
      "CFN (97,)\n",
      "CFN1 (97,)\n",
      "THIS_IS_AN_IDEAL_RUN (97,)\n",
      "P_HYD (97, 59, 29, 29)\n",
      "Q2 (97, 29, 29)\n",
      "T2 (97, 29, 29)\n",
      "TH2 (97, 29, 29)\n",
      "PSFC (97, 29, 29)\n",
      "U10 (97, 29, 29)\n",
      "V10 (97, 29, 29)\n",
      "RDX (97,)\n",
      "RDY (97,)\n",
      "RESM (97,)\n",
      "ZETATOP (97,)\n",
      "CF1 (97,)\n",
      "CF2 (97,)\n",
      "CF3 (97,)\n",
      "ITIMESTEP (97,)\n",
      "XTIME (97,)\n",
      "QVAPOR (97, 59, 29, 29)\n",
      "QCLOUD (97, 59, 29, 29)\n",
      "QRAIN (97, 59, 29, 29)\n",
      "QICE (97, 59, 29, 29)\n",
      "QSNOW (97, 59, 29, 29)\n",
      "QGRAUP (97, 59, 29, 29)\n",
      "QHAIL (97, 59, 29, 29)\n",
      "QNCLOUD (97, 59, 29, 29)\n",
      "QNRAIN (97, 59, 29, 29)\n",
      "QNICE (97, 59, 29, 29)\n",
      "QNSNOW (97, 59, 29, 29)\n",
      "QNGRAUPEL (97, 59, 29, 29)\n",
      "QNHAIL (97, 59, 29, 29)\n",
      "SHDMAX (97, 29, 29)\n",
      "SHDMIN (97, 29, 29)\n",
      "SNOALB (97, 29, 29)\n",
      "TSLB (97, 4, 29, 29)\n",
      "SMOIS (97, 4, 29, 29)\n",
      "SH2O (97, 4, 29, 29)\n",
      "SMCREL (97, 4, 29, 29)\n",
      "SEAICE (97, 29, 29)\n",
      "XICEM (97, 29, 29)\n",
      "SFROFF (97, 29, 29)\n",
      "UDROFF (97, 29, 29)\n",
      "IVGTYP (97, 29, 29)\n",
      "ISLTYP (97, 29, 29)\n",
      "VEGFRA (97, 29, 29)\n",
      "GRDFLX (97, 29, 29)\n",
      "ACGRDFLX (97, 29, 29)\n",
      "ACSNOM (97, 29, 29)\n",
      "SNOW (97, 29, 29)\n",
      "SNOWH (97, 29, 29)\n",
      "CANWAT (97, 29, 29)\n",
      "SSTSK (97, 29, 29)\n",
      "COSZEN (97, 29, 29)\n",
      "LAI (97, 29, 29)\n",
      "VAR (97, 29, 29)\n",
      "MAPFAC_M (97, 29, 29)\n",
      "MAPFAC_U (97, 29, 30)\n",
      "MAPFAC_V (97, 30, 29)\n",
      "MAPFAC_MX (97, 29, 29)\n",
      "MAPFAC_MY (97, 29, 29)\n",
      "MAPFAC_UX (97, 29, 30)\n",
      "MAPFAC_UY (97, 29, 30)\n",
      "MAPFAC_VX (97, 30, 29)\n",
      "MF_VX_INV (97, 30, 29)\n",
      "MAPFAC_VY (97, 30, 29)\n",
      "F (97, 29, 29)\n",
      "E (97, 29, 29)\n",
      "SINALPHA (97, 29, 29)\n",
      "COSALPHA (97, 29, 29)\n",
      "HGT (97, 29, 29)\n",
      "TSK (97, 29, 29)\n",
      "P_TOP (97,)\n",
      "T00 (97,)\n",
      "P00 (97,)\n",
      "TLP (97,)\n",
      "TISO (97,)\n",
      "TLP_STRAT (97,)\n",
      "P_STRAT (97,)\n",
      "MAX_MSTFX (97,)\n",
      "MAX_MSTFY (97,)\n",
      "RAINC (97, 29, 29)\n",
      "RAINSH (97, 29, 29)\n",
      "RAINNC (97, 29, 29)\n",
      "SNOWNC (97, 29, 29)\n",
      "GRAUPELNC (97, 29, 29)\n",
      "HAILNC (97, 29, 29)\n",
      "REFL_10CM (97, 59, 29, 29)\n",
      "CLDFRA (97, 59, 29, 29)\n",
      "SWDOWN (97, 29, 29)\n",
      "GLW (97, 29, 29)\n",
      "SWNORM (97, 29, 29)\n",
      "OLR (97, 29, 29)\n",
      "XLAT_U (97, 29, 30)\n",
      "XLONG_U (97, 29, 30)\n",
      "XLAT_V (97, 30, 29)\n",
      "XLONG_V (97, 30, 29)\n",
      "ALBEDO (97, 29, 29)\n",
      "CLAT (97, 29, 29)\n",
      "ALBBCK (97, 29, 29)\n",
      "EMISS (97, 29, 29)\n",
      "NOAHRES (97, 29, 29)\n",
      "TMN (97, 29, 29)\n",
      "XLAND (97, 29, 29)\n",
      "UST (97, 29, 29)\n",
      "PBLH (97, 29, 29)\n",
      "HFX (97, 29, 29)\n",
      "QFX (97, 29, 29)\n",
      "LH (97, 29, 29)\n",
      "ACHFX (97, 29, 29)\n",
      "ACLHF (97, 29, 29)\n",
      "SNOWC (97, 29, 29)\n",
      "SR (97, 29, 29)\n",
      "SAVE_TOPO_FROM_REAL (97,)\n",
      "REFD_MAX (97, 29, 29)\n",
      "ISEEDARR_RAND_PERTURB (97, 59)\n",
      "ISEEDARR_SPPT (97, 59)\n",
      "ISEEDARR_SKEBS (97, 59)\n",
      "LANDMASK (97, 29, 29)\n",
      "LAKEMASK (97, 29, 29)\n",
      "SST (97, 29, 29)\n",
      "SST_INPUT (97, 29, 29)\n"
     ]
    }
   ],
   "source": [
    "for i in nc.variables:\n",
    "    print(i, nc.variables[i].shape)"
   ]
  },
  {
   "cell_type": "code",
   "execution_count": 5,
   "metadata": {
    "collapsed": true
   },
   "outputs": [],
   "source": [
    "T = nc.variables['T']"
   ]
  },
  {
   "cell_type": "code",
   "execution_count": 6,
   "metadata": {
    "collapsed": true
   },
   "outputs": [],
   "source": [
    "xlong = nc.variables['XLONG']"
   ]
  },
  {
   "cell_type": "code",
   "execution_count": 7,
   "metadata": {
    "collapsed": true
   },
   "outputs": [],
   "source": [
    "xlat = nc.variables['XLAT']"
   ]
  },
  {
   "cell_type": "code",
   "execution_count": 8,
   "metadata": {
    "collapsed": false
   },
   "outputs": [
    {
     "data": {
      "text/plain": [
       "(97, 29, 29)"
      ]
     },
     "execution_count": 8,
     "metadata": {},
     "output_type": "execute_result"
    }
   ],
   "source": [
    "xlat.shape"
   ]
  },
  {
   "cell_type": "code",
   "execution_count": 9,
   "metadata": {
    "collapsed": false
   },
   "outputs": [
    {
     "data": {
      "text/plain": [
       "(97, 59, 29, 29)"
      ]
     },
     "execution_count": 9,
     "metadata": {},
     "output_type": "execute_result"
    }
   ],
   "source": [
    "T.shape"
   ]
  },
  {
   "cell_type": "code",
   "execution_count": 10,
   "metadata": {
    "collapsed": false
   },
   "outputs": [
    {
     "data": {
      "text/plain": [
       "(97, 59, 29, 29)"
      ]
     },
     "execution_count": 10,
     "metadata": {},
     "output_type": "execute_result"
    }
   ],
   "source": [
    "P = nc.variables['P']\n",
    "P.shape"
   ]
  },
  {
   "cell_type": "code",
   "execution_count": 11,
   "metadata": {
    "collapsed": false
   },
   "outputs": [
    {
     "data": {
      "text/plain": [
       "59"
      ]
     },
     "execution_count": 11,
     "metadata": {},
     "output_type": "execute_result"
    }
   ],
   "source": [
    "len(T[3, :, 2, 2])"
   ]
  },
  {
   "cell_type": "code",
   "execution_count": 12,
   "metadata": {
    "collapsed": false
   },
   "outputs": [
    {
     "name": "stdout",
     "output_type": "stream",
     "text": [
      "Time <class 'netCDF4._netCDF4.Dimension'> (unlimited): name = 'Time', size = 97\n",
      "\n",
      "DateStrLen <class 'netCDF4._netCDF4.Dimension'>: name = 'DateStrLen', size = 19\n",
      "\n",
      "west_east <class 'netCDF4._netCDF4.Dimension'>: name = 'west_east', size = 29\n",
      "\n",
      "south_north <class 'netCDF4._netCDF4.Dimension'>: name = 'south_north', size = 29\n",
      "\n",
      "bottom_top <class 'netCDF4._netCDF4.Dimension'>: name = 'bottom_top', size = 59\n",
      "\n",
      "bottom_top_stag <class 'netCDF4._netCDF4.Dimension'>: name = 'bottom_top_stag', size = 60\n",
      "\n",
      "soil_layers_stag <class 'netCDF4._netCDF4.Dimension'>: name = 'soil_layers_stag', size = 4\n",
      "\n",
      "west_east_stag <class 'netCDF4._netCDF4.Dimension'>: name = 'west_east_stag', size = 30\n",
      "\n",
      "south_north_stag <class 'netCDF4._netCDF4.Dimension'>: name = 'south_north_stag', size = 30\n",
      "\n"
     ]
    }
   ],
   "source": [
    "for dim in nc.dimensions:\n",
    "    print(dim, nc.dimensions[dim])"
   ]
  },
  {
   "cell_type": "code",
   "execution_count": 13,
   "metadata": {
    "collapsed": false
   },
   "outputs": [
    {
     "data": {
      "text/plain": [
       "-100.07627"
      ]
     },
     "execution_count": 13,
     "metadata": {},
     "output_type": "execute_result"
    }
   ],
   "source": [
    "xlong[1,5,5]"
   ]
  },
  {
   "cell_type": "markdown",
   "metadata": {},
   "source": [
    "## Calcular altura\n",
    "\n",
    "`Z = (PH + PBH)/9.8`"
   ]
  },
  {
   "cell_type": "markdown",
   "metadata": {},
   "source": [
    "# Richardson method"
   ]
  },
  {
   "cell_type": "markdown",
   "metadata": {},
   "source": [
    "$$Ri(z_{i+1}) = \\frac{g}{T_s} \\frac{(\\theta_{i+2} - \\theta_i)(z_{i+2} - z_i)}{(V_{i+2} - V_i)^2}$$"
   ]
  },
  {
   "cell_type": "markdown",
   "metadata": {},
   "source": [
    "# Parámetros\n",
    "\n",
    "- $g = 9.8 \\ m/s^2$"
   ]
  },
  {
   "cell_type": "code",
   "execution_count": 14,
   "metadata": {
    "collapsed": false
   },
   "outputs": [
    {
     "data": {
      "text/plain": [
       "<class 'netCDF4._netCDF4.Variable'>\n",
       "float32 U(Time, bottom_top, south_north, west_east_stag)\n",
       "    FieldType: 104\n",
       "    MemoryOrder: XYZ\n",
       "    description: x-wind component\n",
       "    units: m s-1\n",
       "    stagger: X\n",
       "    coordinates: XLONG_U XLAT_U XTIME\n",
       "unlimited dimensions: Time\n",
       "current shape = (97, 59, 29, 30)\n",
       "filling off"
      ]
     },
     "execution_count": 14,
     "metadata": {},
     "output_type": "execute_result"
    }
   ],
   "source": [
    "nc.variables['U']"
   ]
  },
  {
   "cell_type": "code",
   "execution_count": 15,
   "metadata": {
    "collapsed": false
   },
   "outputs": [],
   "source": [
    "g = 9.8"
   ]
  },
  {
   "cell_type": "code",
   "execution_count": 27,
   "metadata": {
    "collapsed": true
   },
   "outputs": [],
   "source": [
    "g = 9.8\n",
    "T = nc.variables['T']\n",
    "u = nc.variables['U']\n",
    "v = nc.variables['V']\n",
    "T2 = nc.variables['T2']\n",
    "PH = nc.variables['PH']\n",
    "PHB = nc.variables['PHB']"
   ]
  },
  {
   "cell_type": "code",
   "execution_count": 28,
   "metadata": {
    "collapsed": false
   },
   "outputs": [
    {
     "data": {
      "text/plain": [
       "(97, 60, 29, 29)"
      ]
     },
     "execution_count": 28,
     "metadata": {},
     "output_type": "execute_result"
    }
   ],
   "source": [
    "PH.shape"
   ]
  },
  {
   "cell_type": "code",
   "execution_count": 29,
   "metadata": {
    "collapsed": false
   },
   "outputs": [
    {
     "data": {
      "text/plain": [
       "(97, 60, 29, 29)"
      ]
     },
     "execution_count": 29,
     "metadata": {},
     "output_type": "execute_result"
    }
   ],
   "source": [
    "PHB[:].shape"
   ]
  },
  {
   "cell_type": "markdown",
   "metadata": {},
   "source": [
    "## Interpolación numpy (no está chido)"
   ]
  },
  {
   "cell_type": "code",
   "execution_count": 30,
   "metadata": {
    "collapsed": true
   },
   "outputs": [],
   "source": [
    "xlat = nc.variables['XLAT']\n",
    "xlong = nc.variables['XLONG']\n",
    "\n",
    "xlat_u = nc.variables['XLAT_U']\n",
    "xlong_u = nc.variables['XLONG_U']\n",
    "\n",
    "xlat_v = nc.variables['XLAT_V']\n",
    "xlong_v = nc.variables['XLONG_V']"
   ]
  },
  {
   "cell_type": "code",
   "execution_count": 110,
   "metadata": {
    "collapsed": false
   },
   "outputs": [
    {
     "data": {
      "text/plain": [
       "<matplotlib.collections.PathCollection at 0x1130265f8>"
      ]
     },
     "execution_count": 110,
     "metadata": {},
     "output_type": "execute_result"
    },
    {
     "data": {
      "image/png": "[encoded data removed]",
      "text/plain": [
       "<matplotlib.figure.Figure at 0x112f23390>"
      ]
     },
     "metadata": {},
     "output_type": "display_data"
    }
   ],
   "source": [
    "plt.figure(figsize=(10,6))\n",
    "range_x = range(3,6)\n",
    "plt.scatter(xlong_u[0,range_x, range_x], xlat_u[0, range_x, range_x])\n",
    "#plt.scatter(xlong_v[0,range_x, range_x], xlat_v[0, range_x, range_x], color = 'r')\n",
    "plt.scatter(xlong[0,range_x, range_x], xlat[0, range_x, range_x], color = 'g')"
   ]
  },
  {
   "cell_type": "code",
   "execution_count": 111,
   "metadata": {
    "collapsed": false
   },
   "outputs": [
    {
     "data": {
      "text/plain": [
       "array([ 18.31952667,  18.31952667,  18.31952667], dtype=float32)"
      ]
     },
     "execution_count": 111,
     "metadata": {},
     "output_type": "execute_result"
    }
   ],
   "source": [
    "xlat_u[0, 3, 3:6]"
   ]
  },
  {
   "cell_type": "code",
   "execution_count": 112,
   "metadata": {
    "collapsed": false
   },
   "outputs": [],
   "source": [
    "u = nc.variables['U']"
   ]
  },
  {
   "cell_type": "code",
   "execution_count": 113,
   "metadata": {
    "collapsed": false
   },
   "outputs": [
    {
     "data": {
      "text/plain": [
       "array([ 0.65301877,  1.08331299,  1.7920413 ], dtype=float32)"
      ]
     },
     "execution_count": 113,
     "metadata": {},
     "output_type": "execute_result"
    }
   ],
   "source": [
    "u[0, 10, 3, 3:6]"
   ]
  },
  {
   "cell_type": "code",
   "execution_count": 114,
   "metadata": {
    "collapsed": false
   },
   "outputs": [],
   "source": [
    "u_interp = np.interp(xlong[0, 3, :], xlong_u[0, 3, :], u[0, 10, 3, :])"
   ]
  },
  {
   "cell_type": "code",
   "execution_count": 115,
   "metadata": {
    "collapsed": false
   },
   "outputs": [
    {
     "data": {
      "text/plain": [
       "<matplotlib.collections.PathCollection at 0x112ff65c0>"
      ]
     },
     "execution_count": 115,
     "metadata": {},
     "output_type": "execute_result"
    },
    {
     "data": {
      "image/png": "[encoded data removed]",
      "text/plain": [
       "<matplotlib.figure.Figure at 0x113033978>"
      ]
     },
     "metadata": {},
     "output_type": "display_data"
    }
   ],
   "source": [
    "plt.figure(figsize=(10,6))\n",
    "plt.scatter(xlong_u[0, 3, :], u[0, 10, 3, :])\n",
    "\n",
    "plt.scatter(xlong[0, 3, :], u_interp, color='r')\n"
   ]
  },
  {
   "cell_type": "code",
   "execution_count": 135,
   "metadata": {
    "collapsed": false
   },
   "outputs": [
    {
     "data": {
      "text/plain": [
       "(97, 59, 29, 30)"
      ]
     },
     "execution_count": 135,
     "metadata": {},
     "output_type": "execute_result"
    }
   ],
   "source": [
    "u.shape"
   ]
  },
  {
   "cell_type": "code",
   "execution_count": 159,
   "metadata": {
    "collapsed": false
   },
   "outputs": [],
   "source": [
    "YY = u[:]"
   ]
  },
  {
   "cell_type": "code",
   "execution_count": 169,
   "metadata": {
    "collapsed": false
   },
   "outputs": [
    {
     "data": {
      "text/plain": [
       "(97, 59, 29, 30)"
      ]
     },
     "execution_count": 169,
     "metadata": {},
     "output_type": "execute_result"
    }
   ],
   "source": [
    "u.shape"
   ]
  },
  {
   "cell_type": "code",
   "execution_count": 164,
   "metadata": {
    "collapsed": false
   },
   "outputs": [],
   "source": [
    "YY[0,0,0,:] = np.zeros(30)"
   ]
  },
  {
   "cell_type": "code",
   "execution_count": 168,
   "metadata": {
    "collapsed": false
   },
   "outputs": [
    {
     "data": {
      "text/plain": [
       "(97, 59, 29, 30)"
      ]
     },
     "execution_count": 168,
     "metadata": {},
     "output_type": "execute_result"
    }
   ],
   "source": [
    "YY.shape"
   ]
  },
  {
   "cell_type": "code",
   "execution_count": 177,
   "metadata": {
    "collapsed": false
   },
   "outputs": [],
   "source": [
    "a,b,c,d = u.shape"
   ]
  },
  {
   "cell_type": "code",
   "execution_count": 179,
   "metadata": {
    "collapsed": false
   },
   "outputs": [
    {
     "data": {
      "text/plain": [
       "30"
      ]
     },
     "execution_count": 179,
     "metadata": {},
     "output_type": "execute_result"
    }
   ],
   "source": [
    "d"
   ]
  },
  {
   "cell_type": "code",
   "execution_count": 184,
   "metadata": {
    "collapsed": false
   },
   "outputs": [
    {
     "data": {
      "text/plain": [
       "30"
      ]
     },
     "execution_count": 184,
     "metadata": {},
     "output_type": "execute_result"
    }
   ],
   "source": [
    "len(u[0,0,0,:])"
   ]
  },
  {
   "cell_type": "code",
   "execution_count": 192,
   "metadata": {
    "collapsed": false
   },
   "outputs": [
    {
     "data": {
      "text/plain": [
       "(29,)"
      ]
     },
     "execution_count": 192,
     "metadata": {},
     "output_type": "execute_result"
    }
   ],
   "source": [
    "np.interp(xlong[0,0,:], xlong_u[0,0,:], u[0, 3, 0, :]).shape"
   ]
  },
  {
   "cell_type": "code",
   "execution_count": 197,
   "metadata": {
    "collapsed": false
   },
   "outputs": [
    {
     "data": {
      "text/plain": [
       "(97, 59, 29, 30)"
      ]
     },
     "execution_count": 197,
     "metadata": {},
     "output_type": "execute_result"
    }
   ],
   "source": [
    "u.shape"
   ]
  },
  {
   "cell_type": "code",
   "execution_count": 198,
   "metadata": {
    "collapsed": false
   },
   "outputs": [
    {
     "data": {
      "text/plain": [
       "(97, 29, 29)"
      ]
     },
     "execution_count": 198,
     "metadata": {},
     "output_type": "execute_result"
    }
   ],
   "source": [
    "xlong.shape"
   ]
  },
  {
   "cell_type": "code",
   "execution_count": 201,
   "metadata": {
    "collapsed": false
   },
   "outputs": [
    {
     "data": {
      "text/plain": [
       "numpy.float32"
      ]
     },
     "execution_count": 201,
     "metadata": {},
     "output_type": "execute_result"
    }
   ],
   "source": [
    "type(u[0,0,0,0])"
   ]
  },
  {
   "cell_type": "code",
   "execution_count": 204,
   "metadata": {
    "collapsed": false
   },
   "outputs": [
    {
     "data": {
      "text/plain": [
       "array([[[ 0.,  0.,  0.],\n",
       "        [ 0.,  0.,  0.],\n",
       "        [ 0.,  0.,  0.]],\n",
       "\n",
       "       [[ 0.,  0.,  0.],\n",
       "        [ 0.,  0.,  0.],\n",
       "        [ 0.,  0.,  0.]],\n",
       "\n",
       "       [[ 0.,  0.,  0.],\n",
       "        [ 0.,  0.,  0.],\n",
       "        [ 0.,  0.,  0.]]], dtype=float32)"
      ]
     },
     "execution_count": 204,
     "metadata": {},
     "output_type": "execute_result"
    }
   ],
   "source": [
    "np.zeros((3,3,3), np.float32)"
   ]
  },
  {
   "cell_type": "code",
   "execution_count": 205,
   "metadata": {
    "collapsed": false
   },
   "outputs": [
    {
     "data": {
      "text/plain": [
       "(97, 59, 29, 30)"
      ]
     },
     "execution_count": 205,
     "metadata": {},
     "output_type": "execute_result"
    }
   ],
   "source": [
    "u.shape"
   ]
  },
  {
   "cell_type": "code",
   "execution_count": 210,
   "metadata": {
    "collapsed": false
   },
   "outputs": [
    {
     "data": {
      "text/plain": [
       "(97, 59, 29, 30)"
      ]
     },
     "execution_count": 210,
     "metadata": {},
     "output_type": "execute_result"
    }
   ],
   "source": [
    "np.zeros((97, 59, 29, 30)).shape"
   ]
  },
  {
   "cell_type": "code",
   "execution_count": 106,
   "metadata": {
    "collapsed": false
   },
   "outputs": [],
   "source": [
    "'''\n",
    "    No sirve.\n",
    "'''\n",
    "def u_interpolate(XLONG, XLONG_U, U):\n",
    "    \n",
    "    tf, h, y, x = U.shape\n",
    "    \n",
    "    U_intep = np.zeros((tf, h, y, x-1), np.float32)\n",
    "    \n",
    "    #U_intep = np.zeros_like(U)\n",
    "    \n",
    "    for t in range(0,tf-1):\n",
    "        for z in range(0, h-1):\n",
    "            for i in range(0, y-1):\n",
    "            \n",
    "                U_intep[t, z, i, :] = np.interp(XLONG[t, i, :], XLONG_U[t, i, :], U[t, z, i, :])\n",
    "                \n",
    "    return U_intep"
   ]
  },
  {
   "cell_type": "code",
   "execution_count": 107,
   "metadata": {
    "collapsed": false
   },
   "outputs": [
    {
     "ename": "SyntaxError",
     "evalue": "invalid syntax (<ipython-input-107-49ddf1971ced>, line 1)",
     "output_type": "error",
     "traceback": [
      "\u001b[0;36m  File \u001b[0;32m\"<ipython-input-107-49ddf1971ced>\"\u001b[0;36m, line \u001b[0;32m1\u001b[0m\n\u001b[0;31m    u[]\u001b[0m\n\u001b[0m      ^\u001b[0m\n\u001b[0;31mSyntaxError\u001b[0m\u001b[0;31m:\u001b[0m invalid syntax\n"
     ]
    }
   ],
   "source": [
    "u[]"
   ]
  },
  {
   "cell_type": "code",
   "execution_count": 108,
   "metadata": {
    "collapsed": false
   },
   "outputs": [],
   "source": [
    "u_interpol = u_interpolate(xlong, xlong_u, u)"
   ]
  },
  {
   "cell_type": "code",
   "execution_count": 216,
   "metadata": {
    "collapsed": false
   },
   "outputs": [
    {
     "name": "stdout",
     "output_type": "stream",
     "text": [
      "82.18119215965271\n"
     ]
    }
   ],
   "source": [
    "import time\n",
    "\n",
    "start = time.time()\n",
    "u_interpol = u_interpolate(xlong, xlong_u, u)\n",
    "end = time.time()\n",
    "print(end - start)"
   ]
  },
  {
   "cell_type": "code",
   "execution_count": 129,
   "metadata": {
    "collapsed": false
   },
   "outputs": [
    {
     "data": {
      "text/plain": [
       "<matplotlib.collections.PolyCollection at 0x1134ad978>"
      ]
     },
     "execution_count": 129,
     "metadata": {},
     "output_type": "execute_result"
    },
    {
     "data": {
      "image/png": "[encoded data removed]",
      "text/plain": [
       "<matplotlib.figure.Figure at 0x11379b908>"
      ]
     },
     "metadata": {},
     "output_type": "display_data"
    }
   ],
   "source": [
    "h = 0\n",
    "fig = plt.figure(figsize=(11,8))\n",
    "ax1 = fig.add_subplot(221)\n",
    "ax1.pcolor(u[0,h, :, :])\n",
    "\n",
    "ax2 = fig.add_subplot(222)\n",
    "ax2.pcolor(u_interpol[0,h, :, :])\n",
    "\n"
   ]
  },
  {
   "cell_type": "code",
   "execution_count": 123,
   "metadata": {
    "collapsed": true
   },
   "outputs": [],
   "source": [
    "relieve = nc.variables['HGT']"
   ]
  },
  {
   "cell_type": "code",
   "execution_count": 124,
   "metadata": {
    "collapsed": false
   },
   "outputs": [
    {
     "data": {
      "text/plain": [
       "(97, 29, 29)"
      ]
     },
     "execution_count": 124,
     "metadata": {},
     "output_type": "execute_result"
    }
   ],
   "source": [
    "relieve.shape"
   ]
  },
  {
   "cell_type": "code",
   "execution_count": 128,
   "metadata": {
    "collapsed": false
   },
   "outputs": [
    {
     "data": {
      "text/plain": [
       "array([ 1201.0769043 ,   786.41149902,   501.50646973,   355.52093506,\n",
       "         363.50344849,   464.41571045,   592.55273438,   666.22753906,\n",
       "         646.8795166 ,   633.70812988,   915.29205322,  1655.40100098,\n",
       "        2250.65917969,  2452.46142578,  2518.13330078,  2242.66235352,\n",
       "        1992.06530762,  2094.5546875 ,  2063.5456543 ,  1892.87097168,\n",
       "        1913.14404297,  2054.97363281,  2109.85742188,  2060.0078125 ,\n",
       "        2010.70446777,  2036.47180176,  2112.48388672,  2059.28613281,\n",
       "        1909.19750977], dtype=float32)"
      ]
     },
     "execution_count": 128,
     "metadata": {},
     "output_type": "execute_result"
    }
   ],
   "source": [
    "relieve[1,:, 1]"
   ]
  },
  {
   "cell_type": "code",
   "execution_count": 156,
   "metadata": {
    "collapsed": false
   },
   "outputs": [
    {
     "data": {
      "text/plain": [
       "<matplotlib.colorbar.Colorbar at 0x117a6d8d0>"
      ]
     },
     "execution_count": 156,
     "metadata": {},
     "output_type": "execute_result"
    },
    {
     "data": {
      "image/png": "[encoded data removed]",
      "text/plain": [
       "<matplotlib.figure.Figure at 0x1177df828>"
      ]
     },
     "metadata": {},
     "output_type": "display_data"
    }
   ],
   "source": [
    "h = 0\n",
    "fig = plt.figure(figsize=(13,8))\n",
    "Cs = plt.contour(relieve[1, :, :], colors= 'k')\n",
    "plt.clabel(Cs, fontsize = 8)\n",
    "plt.pcolor(u[0,h, :, :])\n",
    "plt.colorbar()"
   ]
  },
  {
   "cell_type": "markdown",
   "metadata": {},
   "source": [
    "## interpolate.interp2d"
   ]
  },
  {
   "cell_type": "code",
   "execution_count": 20,
   "metadata": {
    "collapsed": true
   },
   "outputs": [],
   "source": [
    "import scipy.interpolate as interpolate\n",
    "#import xarray as xr"
   ]
  },
  {
   "cell_type": "code",
   "execution_count": 31,
   "metadata": {
    "collapsed": true
   },
   "outputs": [],
   "source": [
    "ref_lat = np.linspace(-90,89,180)\n",
    "ref_lon = np.linspace(0,359,360)"
   ]
  },
  {
   "cell_type": "code",
   "execution_count": 32,
   "metadata": {
    "collapsed": true
   },
   "outputs": [],
   "source": [
    "ref_grid = xr.DataArray(np.zeros((180,360)),coords=[('lat',ref_lat),('lon',ref_lon)])"
   ]
  },
  {
   "cell_type": "code",
   "execution_count": 33,
   "metadata": {
    "collapsed": false
   },
   "outputs": [
    {
     "data": {
      "text/plain": [
       "<xarray.DataArray 'lat' (lat: 180)>\n",
       "array([-90., -89., -88., -87., -86., -85., -84., -83., -82., -81., -80., -79.,\n",
       "       -78., -77., -76., -75., -74., -73., -72., -71., -70., -69., -68., -67.,\n",
       "       -66., -65., -64., -63., -62., -61., -60., -59., -58., -57., -56., -55.,\n",
       "       -54., -53., -52., -51., -50., -49., -48., -47., -46., -45., -44., -43.,\n",
       "       -42., -41., -40., -39., -38., -37., -36., -35., -34., -33., -32., -31.,\n",
       "       -30., -29., -28., -27., -26., -25., -24., -23., -22., -21., -20., -19.,\n",
       "       -18., -17., -16., -15., -14., -13., -12., -11., -10.,  -9.,  -8.,  -7.,\n",
       "        -6.,  -5.,  -4.,  -3.,  -2.,  -1.,   0.,   1.,   2.,   3.,   4.,   5.,\n",
       "         6.,   7.,   8.,   9.,  10.,  11.,  12.,  13.,  14.,  15.,  16.,  17.,\n",
       "        18.,  19.,  20.,  21.,  22.,  23.,  24.,  25.,  26.,  27.,  28.,  29.,\n",
       "        30.,  31.,  32.,  33.,  34.,  35.,  36.,  37.,  38.,  39.,  40.,  41.,\n",
       "        42.,  43.,  44.,  45.,  46.,  47.,  48.,  49.,  50.,  51.,  52.,  53.,\n",
       "        54.,  55.,  56.,  57.,  58.,  59.,  60.,  61.,  62.,  63.,  64.,  65.,\n",
       "        66.,  67.,  68.,  69.,  70.,  71.,  72.,  73.,  74.,  75.,  76.,  77.,\n",
       "        78.,  79.,  80.,  81.,  82.,  83.,  84.,  85.,  86.,  87.,  88.,  89.])\n",
       "Coordinates:\n",
       "  * lat      (lat) float64 -90.0 -89.0 -88.0 -87.0 -86.0 -85.0 -84.0 -83.0 ..."
      ]
     },
     "execution_count": 33,
     "metadata": {},
     "output_type": "execute_result"
    }
   ],
   "source": [
    "ref_grid.lat"
   ]
  },
  {
   "cell_type": "code",
   "execution_count": 34,
   "metadata": {
    "collapsed": false
   },
   "outputs": [
    {
     "data": {
      "text/plain": [
       "<xarray.DataArray 'lon' (lon: 360)>\n",
       "array([   0.,    1.,    2., ...,  357.,  358.,  359.])\n",
       "Coordinates:\n",
       "  * lon      (lon) float64 0.0 1.0 2.0 3.0 4.0 5.0 6.0 7.0 8.0 9.0 10.0 11.0 ..."
      ]
     },
     "execution_count": 34,
     "metadata": {},
     "output_type": "execute_result"
    }
   ],
   "source": [
    "ref_grid.lon"
   ]
  },
  {
   "cell_type": "code",
   "execution_count": 35,
   "metadata": {
    "collapsed": false
   },
   "outputs": [
    {
     "data": {
      "text/plain": [
       "(97, 59, 29, 30)"
      ]
     },
     "execution_count": 35,
     "metadata": {},
     "output_type": "execute_result"
    }
   ],
   "source": [
    "u.shape"
   ]
  },
  {
   "cell_type": "code",
   "execution_count": 36,
   "metadata": {
    "collapsed": false
   },
   "outputs": [
    {
     "data": {
      "text/plain": [
       "(29, 30)"
      ]
     },
     "execution_count": 36,
     "metadata": {},
     "output_type": "execute_result"
    }
   ],
   "source": [
    "u[0, 1, :, :].shape"
   ]
  },
  {
   "cell_type": "code",
   "execution_count": 37,
   "metadata": {
    "collapsed": false
   },
   "outputs": [
    {
     "data": {
      "text/plain": [
       "array([-100.86477661, -100.72141266, -100.57804871, -100.43468475,\n",
       "       -100.2913208 , -100.14795685, -100.0045929 ,  -99.86122894,\n",
       "        -99.71786499,  -99.57450104,  -99.43113708,  -99.28777313,\n",
       "        -99.14440918,  -99.00104523,  -98.85768127,  -98.71432495,\n",
       "        -98.570961  ,  -98.42759705,  -98.28423309,  -98.14086914,\n",
       "        -97.99750519,  -97.85414124,  -97.71077728,  -97.56741333,\n",
       "        -97.42404938,  -97.28068542,  -97.13732147,  -96.99395752,\n",
       "        -96.85059357,  -96.70722961], dtype=float32)"
      ]
     },
     "execution_count": 37,
     "metadata": {},
     "output_type": "execute_result"
    }
   ],
   "source": [
    "xlong_u[0, 1, :]"
   ]
  },
  {
   "cell_type": "code",
   "execution_count": 38,
   "metadata": {
    "collapsed": false
   },
   "outputs": [
    {
     "data": {
      "text/plain": [
       "(29,)"
      ]
     },
     "execution_count": 38,
     "metadata": {},
     "output_type": "execute_result"
    }
   ],
   "source": [
    "xlat_u[0, :, 1].shape"
   ]
  },
  {
   "cell_type": "code",
   "execution_count": 39,
   "metadata": {
    "collapsed": true
   },
   "outputs": [],
   "source": [
    "ref_grid = xr.DataArray(np.zeros((29,30)),coords=[('lat', xlat_u[0, :, 1]),('lon', xlong_u[0, 1, :])])"
   ]
  },
  {
   "cell_type": "code",
   "execution_count": 40,
   "metadata": {
    "collapsed": false
   },
   "outputs": [
    {
     "data": {
      "text/plain": [
       "<xarray.DataArray 'lat' (lat: 29)>\n",
       "array([ 17.910751,  18.047112,  18.183372,  18.319527,  18.455566,  18.591507,\n",
       "        18.727341,  18.863052,  18.998657,  19.134163,  19.269547,  19.404823,\n",
       "        19.539986,  19.675034,  19.809975,  19.944801,  20.079506,  20.214088,\n",
       "        20.348572,  20.482925,  20.617165,  20.751289,  20.885292,  21.01918 ,\n",
       "        21.152939,  21.286591,  21.420113,  21.553505,  21.68679 ], dtype=float32)\n",
       "Coordinates:\n",
       "  * lat      (lat) float32 17.9108 18.0471 18.1834 18.3195 18.4556 18.5915 ..."
      ]
     },
     "execution_count": 40,
     "metadata": {},
     "output_type": "execute_result"
    }
   ],
   "source": [
    "ref_grid.lat"
   ]
  },
  {
   "cell_type": "code",
   "execution_count": 41,
   "metadata": {
    "collapsed": true
   },
   "outputs": [],
   "source": [
    "u_old = u[0, 58, :, :]"
   ]
  },
  {
   "cell_type": "code",
   "execution_count": 42,
   "metadata": {
    "collapsed": true
   },
   "outputs": [],
   "source": [
    "y_old = xlat_u[0, :, 1]\n",
    "x_old = xlong_u[0, 1, :]"
   ]
  },
  {
   "cell_type": "code",
   "execution_count": 43,
   "metadata": {
    "collapsed": false
   },
   "outputs": [
    {
     "data": {
      "text/plain": [
       "(29, 30)"
      ]
     },
     "execution_count": 43,
     "metadata": {},
     "output_type": "execute_result"
    }
   ],
   "source": [
    "u_old.shape"
   ]
  },
  {
   "cell_type": "code",
   "execution_count": 44,
   "metadata": {
    "collapsed": false
   },
   "outputs": [
    {
     "data": {
      "text/plain": [
       "(30,)"
      ]
     },
     "execution_count": 44,
     "metadata": {},
     "output_type": "execute_result"
    }
   ],
   "source": [
    "x_old.shape"
   ]
  },
  {
   "cell_type": "code",
   "execution_count": 45,
   "metadata": {
    "collapsed": false
   },
   "outputs": [],
   "source": [
    "f = interpolate.interp2d(x_old, y_old, u_old, kind = 'linear') "
   ]
  },
  {
   "cell_type": "code",
   "execution_count": 46,
   "metadata": {
    "collapsed": false
   },
   "outputs": [],
   "source": [
    "x_new = xlong[0, 1, :]\n",
    "y_new = xlat[0, :, 1]"
   ]
  },
  {
   "cell_type": "code",
   "execution_count": 47,
   "metadata": {
    "collapsed": false
   },
   "outputs": [],
   "source": [
    "A = f(x_new, y_new)"
   ]
  },
  {
   "cell_type": "code",
   "execution_count": 48,
   "metadata": {
    "collapsed": false
   },
   "outputs": [
    {
     "data": {
      "text/plain": [
       "(29, 29)"
      ]
     },
     "execution_count": 48,
     "metadata": {},
     "output_type": "execute_result"
    }
   ],
   "source": [
    "A.shape"
   ]
  },
  {
   "cell_type": "code",
   "execution_count": 49,
   "metadata": {
    "collapsed": false
   },
   "outputs": [
    {
     "data": {
      "text/plain": [
       "(29, 29)"
      ]
     },
     "execution_count": 49,
     "metadata": {},
     "output_type": "execute_result"
    }
   ],
   "source": [
    "A.shape"
   ]
  },
  {
   "cell_type": "code",
   "execution_count": 50,
   "metadata": {
    "collapsed": false
   },
   "outputs": [
    {
     "data": {
      "text/plain": [
       "<matplotlib.collections.PolyCollection at 0x11270fd30>"
      ]
     },
     "execution_count": 50,
     "metadata": {},
     "output_type": "execute_result"
    },
    {
     "data": {
      "image/png": "[encoded data removed]",
      "text/plain": [
       "<matplotlib.figure.Figure at 0x1127ed4a8>"
      ]
     },
     "metadata": {},
     "output_type": "display_data"
    }
   ],
   "source": [
    "plt.pcolor(A)"
   ]
  },
  {
   "cell_type": "code",
   "execution_count": 51,
   "metadata": {
    "collapsed": false
   },
   "outputs": [
    {
     "data": {
      "text/plain": [
       "<matplotlib.collections.PolyCollection at 0x112cbe668>"
      ]
     },
     "execution_count": 51,
     "metadata": {},
     "output_type": "execute_result"
    },
    {
     "data": {
      "image/png": "[encoded data removed]",
      "text/plain": [
       "<matplotlib.figure.Figure at 0x112cb9fd0>"
      ]
     },
     "metadata": {},
     "output_type": "display_data"
    }
   ],
   "source": [
    "plt.pcolor(u_old)"
   ]
  },
  {
   "cell_type": "code",
   "execution_count": 52,
   "metadata": {
    "collapsed": false
   },
   "outputs": [
    {
     "data": {
      "text/plain": [
       "(29, 29)"
      ]
     },
     "execution_count": 52,
     "metadata": {},
     "output_type": "execute_result"
    }
   ],
   "source": [
    "xlong[1 , :, :].shape"
   ]
  },
  {
   "cell_type": "code",
   "execution_count": 53,
   "metadata": {
    "collapsed": false
   },
   "outputs": [
    {
     "data": {
      "text/plain": [
       "(59, 29, 30)"
      ]
     },
     "execution_count": 53,
     "metadata": {},
     "output_type": "execute_result"
    }
   ],
   "source": [
    "u[0, :, :, :].shape"
   ]
  },
  {
   "cell_type": "code",
   "execution_count": 54,
   "metadata": {
    "collapsed": false
   },
   "outputs": [
    {
     "data": {
      "text/plain": [
       "(59, 29, 30)"
      ]
     },
     "execution_count": 54,
     "metadata": {},
     "output_type": "execute_result"
    }
   ],
   "source": [
    "u[0, :, :, :].shape"
   ]
  },
  {
   "cell_type": "code",
   "execution_count": 55,
   "metadata": {
    "collapsed": false
   },
   "outputs": [],
   "source": [
    "u_out = np.memmap('file_out',dtype='float32',mode='w+', shape= u[0,:, :, :].shape)"
   ]
  },
  {
   "cell_type": "code",
   "execution_count": 56,
   "metadata": {
    "collapsed": false
   },
   "outputs": [
    {
     "data": {
      "text/plain": [
       "(59, 29, 30)"
      ]
     },
     "execution_count": 56,
     "metadata": {},
     "output_type": "execute_result"
    }
   ],
   "source": [
    "u_out.shape"
   ]
  },
  {
   "cell_type": "code",
   "execution_count": 57,
   "metadata": {
    "collapsed": false
   },
   "outputs": [
    {
     "data": {
      "text/plain": [
       "array([[[ 0.,  0.,  0.,  0.],\n",
       "        [ 0.,  0.,  0.,  0.],\n",
       "        [ 0.,  0.,  0.,  0.]],\n",
       "\n",
       "       [[ 0.,  0.,  0.,  0.],\n",
       "        [ 0.,  0.,  0.,  0.],\n",
       "        [ 0.,  0.,  0.,  0.]]])"
      ]
     },
     "execution_count": 57,
     "metadata": {},
     "output_type": "execute_result"
    }
   ],
   "source": [
    "np.zeros((2,3,4))"
   ]
  },
  {
   "cell_type": "code",
   "execution_count": 87,
   "metadata": {
    "collapsed": true
   },
   "outputs": [],
   "source": [
    "'''\n",
    "\n",
    "    `XLON`, `XLAT`, ...  van con su dimensión temporal. \n",
    "    `U` no va con su dimensión temporal, sólo las dimensiones espaciales correspondientes a un tiempo.\n",
    "    `ej: U[1, :, :, :]`\n",
    "\n",
    "'''\n",
    "\n",
    "\n",
    "def interpolate_velocity(XLONG, XLAT, XLONG_U, XLAT_U, U, u = True, Kind = 'linear'):\n",
    "    \n",
    "    x_old = XLONG_U[0, 1, :]\n",
    "    y_old = XLAT_U[0, :, 1]\n",
    "    x_new = XLONG[0, 1, :]\n",
    "    y_new = XLAT[0, :, 1]\n",
    "    \n",
    "    if u == True:\n",
    "        u_shape = (U.shape[0], U.shape[1], U.shape[2]-1)\n",
    "    \n",
    "    else:\n",
    "        u_shape = (U.shape[0], U.shape[1] - 1, U.shape[2])\n",
    "    \n",
    "    \n",
    "    U_out = np.zeros(u_shape, dtype='float32')\n",
    "    #U_out = np.zeros(u_shape, dtype='float32')\n",
    "    \n",
    "    for h in range(0, U.shape[0]):\n",
    "        \n",
    "        f = interpolate.interp2d(x_old, y_old, U[h, :, :], kind = Kind)\n",
    "        U_out[h, :, :] = f(x_new, y_new)\n",
    "\n",
    "    return U_out"
   ]
  },
  {
   "cell_type": "code",
   "execution_count": 88,
   "metadata": {
    "collapsed": false
   },
   "outputs": [],
   "source": [
    "u_interpol = interpolate_velocity(xlong, xlat, xlong_u, xlat_u, u[0,:, :, :])"
   ]
  },
  {
   "cell_type": "code",
   "execution_count": 89,
   "metadata": {
    "collapsed": false
   },
   "outputs": [
    {
     "data": {
      "text/plain": [
       "(59, 29, 29)"
      ]
     },
     "execution_count": 89,
     "metadata": {},
     "output_type": "execute_result"
    }
   ],
   "source": [
    "u_interpol.shape"
   ]
  },
  {
   "cell_type": "code",
   "execution_count": 65,
   "metadata": {
    "collapsed": false
   },
   "outputs": [
    {
     "data": {
      "text/plain": [
       "<matplotlib.text.Text at 0x11306e518>"
      ]
     },
     "execution_count": 65,
     "metadata": {},
     "output_type": "execute_result"
    },
    {
     "data": {
      "image/png": "[encoded data removed]",
      "text/plain": [
       "<matplotlib.figure.Figure at 0x11304ca20>"
      ]
     },
     "metadata": {},
     "output_type": "display_data"
    }
   ],
   "source": [
    "h = 57\n",
    "fig = plt.figure(figsize=(11,8))\n",
    "ax1 = fig.add_subplot(221)\n",
    "ax1.pcolor(u[0, h, :, :])\n",
    "plt.title(\"u salida WRF\")\n",
    "\n",
    "ax2 = fig.add_subplot(222)\n",
    "ax2.pcolor(u_interpol[h, :, :])\n",
    "#ax2.title(title = 'u interpolado')\n",
    "plt.title('u interpolado')\n"
   ]
  },
  {
   "cell_type": "markdown",
   "metadata": {},
   "source": [
    "## Ahora para v"
   ]
  },
  {
   "cell_type": "code",
   "execution_count": 66,
   "metadata": {
    "collapsed": false
   },
   "outputs": [],
   "source": [
    "v = nc.variables['V']"
   ]
  },
  {
   "cell_type": "code",
   "execution_count": 67,
   "metadata": {
    "collapsed": false
   },
   "outputs": [],
   "source": [
    "v_interpol = interpolate_velocity(xlong, xlat, xlong_v, xlat_v, v[0,:,:,:], u = False)"
   ]
  },
  {
   "cell_type": "code",
   "execution_count": 68,
   "metadata": {
    "collapsed": false
   },
   "outputs": [
    {
     "name": "stdout",
     "output_type": "stream",
     "text": [
      "0.010328054428100586 seg\n"
     ]
    }
   ],
   "source": [
    "import time\n",
    "\n",
    "start = time.time()\n",
    "\n",
    "interpolate_velocity(xlong, xlat, xlong_v, xlat_v, v[0,:,:,:], u = False)\n",
    "\n",
    "end = time.time()\n",
    "print(end - start, 'seg')"
   ]
  },
  {
   "cell_type": "code",
   "execution_count": 439,
   "metadata": {
    "collapsed": false
   },
   "outputs": [
    {
     "data": {
      "text/plain": [
       "<matplotlib.text.Text at 0x11f97d908>"
      ]
     },
     "execution_count": 439,
     "metadata": {},
     "output_type": "execute_result"
    },
    {
     "data": {
      "image/png": "[encoded data removed]",
      "text/plain": [
       "<matplotlib.figure.Figure at 0x122221d30>"
      ]
     },
     "metadata": {},
     "output_type": "display_data"
    }
   ],
   "source": [
    "h = 0\n",
    "fig = plt.figure(figsize=(11,8))\n",
    "ax1 = fig.add_subplot(221)\n",
    "ax1.pcolor(v[0, h, :, :])\n",
    "#Cs = plt.contour(relieve[1, :, :], colors= 'k')\n",
    "#plt.clabel(Cs, fontsize = 8)\n",
    "plt.title(\"v salida WRF\")\n",
    "\n",
    "\n",
    "ax2 = fig.add_subplot(222)\n",
    "ax2.pcolor(v_interpol[h, :, :])\n",
    "#Cs = plt.contour(relieve[1, :, :], colors= 'k')\n",
    "#plt.clabel(Cs, fontsize = 8)\n",
    "plt.title('v interpolado')"
   ]
  },
  {
   "cell_type": "markdown",
   "metadata": {},
   "source": [
    "## Compute height\n",
    "\n",
    "Según el [manual del usuario de WRF](http://mailman.ucar.edu/pipermail/wrf-users/2011/002437.html) muchas variables de salida del WRF se encuentran en medio de la rejilla vertical, es por eso que cuando se calcula la altura usando las variables `PH` y `PHB`, se obtiene un valor extra en la componente vertical que no tienen  las otras variables  como las velocidades `U` y `V`. "
   ]
  },
  {
   "cell_type": "code",
   "execution_count": 80,
   "metadata": {
    "collapsed": true
   },
   "outputs": [],
   "source": [
    "'''\n",
    "    compute_height(PH, PHB)\n",
    "    \n",
    "    PH y PHB deben ser prporcionados como una matriz de tres dimensiones es decir hay especificar su variable temporal. \n",
    "    Por ejemplo: Para el tiempo t = 0, se debe introducir PH[0, :, :, :] y PHB[0, :, :, :].\n",
    "'''\n",
    "\n",
    "def compute_height(PH, PBH):\n",
    "    \n",
    "    g = 9.8\n",
    "    z_shape = (PH.shape[0]-1, PH.shape[1], PH.shape[2])\n",
    "    Z = np.zeros(z_shape, dtype='float32')\n",
    "    \n",
    "    \n",
    "    for h in range(0, PH.shape[0]-1):\n",
    "        \n",
    "        Z[h, :, :] = ((PH[h, :, :] + PBH[h, :, :]) + (PH[h+1, :, :] + PBH[h+1, :, :]))/g\n",
    "        \n",
    "    return Z    "
   ]
  },
  {
   "cell_type": "code",
   "execution_count": 81,
   "metadata": {
    "collapsed": false
   },
   "outputs": [],
   "source": [
    "Z = compute_height(PH[0, :, :, :], PHB[0, :, :, :])"
   ]
  },
  {
   "cell_type": "code",
   "execution_count": 83,
   "metadata": {
    "collapsed": false
   },
   "outputs": [
    {
     "data": {
      "text/plain": [
       "(97, 60, 29, 29)"
      ]
     },
     "execution_count": 83,
     "metadata": {},
     "output_type": "execute_result"
    }
   ],
   "source": [
    "PH.shape"
   ]
  },
  {
   "cell_type": "code",
   "execution_count": 84,
   "metadata": {
    "collapsed": false
   },
   "outputs": [
    {
     "data": {
      "text/plain": [
       "(97, 59, 29, 30)"
      ]
     },
     "execution_count": 84,
     "metadata": {},
     "output_type": "execute_result"
    }
   ],
   "source": [
    "u.shape"
   ]
  },
  {
   "cell_type": "code",
   "execution_count": 82,
   "metadata": {
    "collapsed": false
   },
   "outputs": [
    {
     "data": {
      "text/plain": [
       "(59, 29, 29)"
      ]
     },
     "execution_count": 82,
     "metadata": {},
     "output_type": "execute_result"
    }
   ],
   "source": [
    "Z.shape"
   ]
  },
  {
   "cell_type": "code",
   "execution_count": 69,
   "metadata": {
    "collapsed": true
   },
   "outputs": [],
   "source": [
    "W = nc.variables['W']"
   ]
  },
  {
   "cell_type": "code",
   "execution_count": 71,
   "metadata": {
    "collapsed": false
   },
   "outputs": [
    {
     "data": {
      "text/plain": [
       "(97, 59, 29, 30)"
      ]
     },
     "execution_count": 71,
     "metadata": {},
     "output_type": "execute_result"
    }
   ],
   "source": [
    "U.shape"
   ]
  },
  {
   "cell_type": "markdown",
   "metadata": {},
   "source": [
    "## Richardson"
   ]
  },
  {
   "cell_type": "code",
   "execution_count": 443,
   "metadata": {
    "collapsed": false
   },
   "outputs": [
    {
     "data": {
      "text/plain": [
       "memmap([[[ 0.,  0.,  0., ...,  0.,  0.,  0.],\n",
       "        [ 0.,  0.,  0., ...,  0.,  0.,  0.],\n",
       "        [ 0.,  0.,  0., ...,  0.,  0.,  0.],\n",
       "        ..., \n",
       "        [ 0.,  0.,  0., ...,  0.,  0.,  0.],\n",
       "        [ 0.,  0.,  0., ...,  0.,  0.,  0.],\n",
       "        [ 0.,  0.,  0., ...,  0.,  0.,  0.]],\n",
       "\n",
       "       [[ 0.,  0.,  0., ...,  0.,  0.,  0.],\n",
       "        [ 0.,  0.,  0., ...,  0.,  0.,  0.],\n",
       "        [ 0.,  0.,  0., ...,  0.,  0.,  0.],\n",
       "        ..., \n",
       "        [ 0.,  0.,  0., ...,  0.,  0.,  0.],\n",
       "        [ 0.,  0.,  0., ...,  0.,  0.,  0.],\n",
       "        [ 0.,  0.,  0., ...,  0.,  0.,  0.]],\n",
       "\n",
       "       [[ 0.,  0.,  0., ...,  0.,  0.,  0.],\n",
       "        [ 0.,  0.,  0., ...,  0.,  0.,  0.],\n",
       "        [ 0.,  0.,  0., ...,  0.,  0.,  0.],\n",
       "        ..., \n",
       "        [ 0.,  0.,  0., ...,  0.,  0.,  0.],\n",
       "        [ 0.,  0.,  0., ...,  0.,  0.,  0.],\n",
       "        [ 0.,  0.,  0., ...,  0.,  0.,  0.]],\n",
       "\n",
       "       ..., \n",
       "       [[ 0.,  0.,  0., ...,  0.,  0.,  0.],\n",
       "        [ 0.,  0.,  0., ...,  0.,  0.,  0.],\n",
       "        [ 0.,  0.,  0., ...,  0.,  0.,  0.],\n",
       "        ..., \n",
       "        [ 0.,  0.,  0., ...,  0.,  0.,  0.],\n",
       "        [ 0.,  0.,  0., ...,  0.,  0.,  0.],\n",
       "        [ 0.,  0.,  0., ...,  0.,  0.,  0.]],\n",
       "\n",
       "       [[ 0.,  0.,  0., ...,  0.,  0.,  0.],\n",
       "        [ 0.,  0.,  0., ...,  0.,  0.,  0.],\n",
       "        [ 0.,  0.,  0., ...,  0.,  0.,  0.],\n",
       "        ..., \n",
       "        [ 0.,  0.,  0., ...,  0.,  0.,  0.],\n",
       "        [ 0.,  0.,  0., ...,  0.,  0.,  0.],\n",
       "        [ 0.,  0.,  0., ...,  0.,  0.,  0.]],\n",
       "\n",
       "       [[ 0.,  0.,  0., ...,  0.,  0.,  0.],\n",
       "        [ 0.,  0.,  0., ...,  0.,  0.,  0.],\n",
       "        [ 0.,  0.,  0., ...,  0.,  0.,  0.],\n",
       "        ..., \n",
       "        [ 0.,  0.,  0., ...,  0.,  0.,  0.],\n",
       "        [ 0.,  0.,  0., ...,  0.,  0.,  0.],\n",
       "        [ 0.,  0.,  0., ...,  0.,  0.,  0.]]], dtype=float32)"
      ]
     },
     "execution_count": 443,
     "metadata": {},
     "output_type": "execute_result"
    }
   ],
   "source": [
    "np.memmap('file_out', dtype = 'float32', mode = 'w+', shape = (60, 29, 29))"
   ]
  },
  {
   "cell_type": "code",
   "execution_count": 183,
   "metadata": {
    "collapsed": false
   },
   "outputs": [
    {
     "data": {
      "text/plain": [
       "array([  20.27879524,   20.2707119 ,   20.26575089,   20.2606163 ,\n",
       "         20.30088615,   20.28860855,   20.27857399,   20.26806068,\n",
       "         20.25396729,   20.24036598,   20.23473358,   20.23066521,\n",
       "         20.22797012,   20.26298714,   20.33930779,   20.48678207,\n",
       "         20.76085854,   21.12675095,   21.55642319,   22.26981544,\n",
       "         23.33037949,   24.48614311,   25.60353088,   26.5751915 ,\n",
       "         27.67900848,   29.45459175,   31.74157715,   33.96478653,\n",
       "         36.16225815,   38.64590454,   41.22867584,   43.54503632,\n",
       "         45.33924103,   46.52436447,   48.96331024,   52.9211731 ,\n",
       "         55.52601242,   59.06628799,   64.10848999,   70.35124969,\n",
       "         82.11265564,   99.83023071,  122.65380859,  150.61903381,\n",
       "        180.24380493,  208.14932251,  230.18182373,  252.05807495,\n",
       "        273.71258545,  297.75628662,  328.36846924,  360.07263184,\n",
       "        392.3793335 ,  418.04412842,  443.23120117,  467.89477539,\n",
       "        492.42660522,  516.90856934,  540.79016113], dtype=float32)"
      ]
     },
     "execution_count": 183,
     "metadata": {},
     "output_type": "execute_result"
    }
   ],
   "source": [
    "T[t, :, nx, ny]"
   ]
  },
  {
   "cell_type": "code",
   "execution_count": 188,
   "metadata": {
    "collapsed": false
   },
   "outputs": [
    {
     "data": {
      "text/plain": [
       "6378.7563"
      ]
     },
     "execution_count": 188,
     "metadata": {},
     "output_type": "execute_result"
    }
   ],
   "source": [
    "Z[:, nx, ny][0]"
   ]
  },
  {
   "cell_type": "code",
   "execution_count": 137,
   "metadata": {
    "collapsed": true
   },
   "outputs": [],
   "source": [
    "def compute_Richardson(T_s, θ, Z, u, v):\n",
    "    g = 9.8\n",
    "    Ri = np.zeros(Z.shape, dtype='float32')\n",
    "    \n",
    "    for i in range(1,len(θ)-2):\n",
    "        \n",
    "        Vu = np.sqrt(u[i+1]**2 + v[i+1]**2)\n",
    "        Vd = np.sqrt(u[i-1]**2 + v[i-1]**2)\n",
    "        \n",
    "        Ri[i] = \n",
    "        #Ri[i] = g / T_s * ((θ[i+1] - θ[i-1])*(Z[i+1] - Z[i-1]))/(Vu - Vd)**2\n",
    "    \n",
    "    return Ri"
   ]
  },
  {
   "cell_type": "code",
   "execution_count": 138,
   "metadata": {
    "collapsed": true
   },
   "outputs": [],
   "source": [
    "g = 9.8\n",
    "T = nc.variables['T']\n",
    "U = nc.variables['U']\n",
    "V = nc.variables['V']\n",
    "T2 = nc.variables['T2']\n",
    "PH = nc.variables['PH']\n",
    "PHB = nc.variables['PHB']"
   ]
  },
  {
   "cell_type": "markdown",
   "metadata": {},
   "source": [
    "`u_interpol` sale de `u[0,:,:,:]`, es decir de `u` al tiempo cero."
   ]
  },
  {
   "cell_type": "code",
   "execution_count": 113,
   "metadata": {
    "collapsed": false
   },
   "outputs": [
    {
     "data": {
      "text/plain": [
       "59"
      ]
     },
     "execution_count": 113,
     "metadata": {},
     "output_type": "execute_result"
    }
   ],
   "source": [
    "len(T[t, :, nx, ny])"
   ]
  },
  {
   "cell_type": "code",
   "execution_count": 124,
   "metadata": {
    "collapsed": false
   },
   "outputs": [
    {
     "data": {
      "text/plain": [
       "57"
      ]
     },
     "execution_count": 124,
     "metadata": {},
     "output_type": "execute_result"
    }
   ],
   "source": [
    "Z[:, nx, ny].shape[0] - 2"
   ]
  },
  {
   "cell_type": "code",
   "execution_count": 174,
   "metadata": {
    "collapsed": false
   },
   "outputs": [],
   "source": [
    "nx = 10\n",
    "ny = nx\n",
    "t = 0\n",
    "Ri = compute_Richardson(T2[t, nx, ny], T[t, :, nx, ny], Z[:, nx, ny], u_interpol[:, nx, ny], v_interpol[:, nx, ny])"
   ]
  },
  {
   "cell_type": "code",
   "execution_count": 175,
   "metadata": {
    "collapsed": false
   },
   "outputs": [
    {
     "data": {
      "text/plain": [
       "array([  0.00000000e+00,  -2.03772381e-01,  -1.32251367e-01,\n",
       "         1.84557128e+00,   1.13594604e+00,  -2.20952347e-01,\n",
       "        -2.61517078e-01,  -3.13277841e-01,  -2.53761411e-01,\n",
       "        -1.92720488e-01,  -1.84448034e-01,  -2.17010468e-01,\n",
       "         1.59917653e+00,   2.14732494e+01,   5.06427002e+02,\n",
       "         4.05430260e+01,   8.42885208e+01,   1.71393109e+05,\n",
       "         1.05319977e+02,   1.91204433e+01,   1.09750996e+01,\n",
       "         1.76900959e+01,   2.21668381e+02,   5.93065338e+01,\n",
       "         9.59991760e+01,   1.66017105e+02,   3.58302765e+01,\n",
       "         5.72153854e+01,   1.45165649e+03,   1.72916052e+03,\n",
       "         1.45916595e+02,   1.47865324e+01,   7.36985254e+00,\n",
       "         1.47578934e+02,   1.64516869e+01,   8.99131680e+00,\n",
       "         2.78700466e+01,   2.65095581e+03,   1.58720801e+04,\n",
       "         9.62324121e+03,   2.05228052e+03,   6.40806787e+03,\n",
       "         1.43805347e+03,   2.93243317e+02,   3.45768036e+02,\n",
       "         1.09304062e+05,   3.57103546e+02,   1.96331116e+02,\n",
       "         1.57833038e+02,   3.10299072e+02,   7.94170654e+02,\n",
       "         9.56956787e+02,   3.01133081e+03,   1.02765588e+06,\n",
       "         1.04714852e+05,   4.75705117e+04,   3.00265586e+04,\n",
       "         0.00000000e+00,   0.00000000e+00], dtype=float32)"
      ]
     },
     "execution_count": 175,
     "metadata": {},
     "output_type": "execute_result"
    }
   ],
   "source": [
    "Ri"
   ]
  },
  {
   "cell_type": "code",
   "execution_count": 176,
   "metadata": {
    "collapsed": false
   },
   "outputs": [
    {
     "data": {
      "text/plain": [
       "(59,)"
      ]
     },
     "execution_count": 176,
     "metadata": {},
     "output_type": "execute_result"
    }
   ],
   "source": [
    "Ri.shape"
   ]
  },
  {
   "cell_type": "code",
   "execution_count": 177,
   "metadata": {
    "collapsed": false
   },
   "outputs": [
    {
     "data": {
      "text/plain": [
       "(57,)"
      ]
     },
     "execution_count": 177,
     "metadata": {},
     "output_type": "execute_result"
    }
   ],
   "source": [
    "Z[1:58, nx, ny].shape"
   ]
  },
  {
   "cell_type": "code",
   "execution_count": 178,
   "metadata": {
    "collapsed": false
   },
   "outputs": [
    {
     "data": {
      "text/plain": [
       "(59,)"
      ]
     },
     "execution_count": 178,
     "metadata": {},
     "output_type": "execute_result"
    }
   ],
   "source": [
    "Ri.shape"
   ]
  },
  {
   "cell_type": "code",
   "execution_count": 179,
   "metadata": {
    "collapsed": false
   },
   "outputs": [
    {
     "data": {
      "text/plain": [
       "1027655.9"
      ]
     },
     "execution_count": 179,
     "metadata": {},
     "output_type": "execute_result"
    }
   ],
   "source": [
    "Ri.max()"
   ]
  },
  {
   "cell_type": "code",
   "execution_count": 185,
   "metadata": {
    "collapsed": false
   },
   "outputs": [
    {
     "data": {
      "text/plain": [
       "[<matplotlib.lines.Line2D at 0x114e05e10>]"
      ]
     },
     "execution_count": 185,
     "metadata": {},
     "output_type": "execute_result"
    },
    {
     "data": {
      "image/png": "[encoded data removed]",
      "text/plain": [
       "<matplotlib.figure.Figure at 0x114b93ba8>"
      ]
     },
     "metadata": {},
     "output_type": "display_data"
    }
   ],
   "source": [
    "plt.plot(Z[:, nx, ny])"
   ]
  },
  {
   "cell_type": "code",
   "execution_count": 180,
   "metadata": {
    "collapsed": false
   },
   "outputs": [
    {
     "data": {
      "text/plain": [
       "[<matplotlib.lines.Line2D at 0x11489eba8>]"
      ]
     },
     "execution_count": 180,
     "metadata": {},
     "output_type": "execute_result"
    },
    {
     "data": {
      "image/png": "[encoded data removed]",
      "text/plain": [
       "<matplotlib.figure.Figure at 0x113901e48>"
      ]
     },
     "metadata": {},
     "output_type": "display_data"
    }
   ],
   "source": [
    "plt.figure(figsize=(10,6))\n",
    "plt.plot(Ri)"
   ]
  },
  {
   "cell_type": "code",
   "execution_count": null,
   "metadata": {
    "collapsed": true
   },
   "outputs": [],
   "source": []
  },
  {
   "cell_type": "code",
   "execution_count": 181,
   "metadata": {
    "collapsed": false
   },
   "outputs": [
    {
     "data": {
      "text/plain": [
       "[<matplotlib.lines.Line2D at 0x114a3fd30>]"
      ]
     },
     "execution_count": 181,
     "metadata": {},
     "output_type": "execute_result"
    },
    {
     "data": {
      "image/png": "[encoded data removed]",
      "text/plain": [
       "<matplotlib.figure.Figure at 0x114807518>"
      ]
     },
     "metadata": {},
     "output_type": "display_data"
    }
   ],
   "source": [
    "plt.plot(u_interpol[:, nx, ny])"
   ]
  },
  {
   "cell_type": "code",
   "execution_count": 182,
   "metadata": {
    "collapsed": false
   },
   "outputs": [
    {
     "data": {
      "text/plain": [
       "[<matplotlib.lines.Line2D at 0x114c30668>]"
      ]
     },
     "execution_count": 182,
     "metadata": {},
     "output_type": "execute_result"
    },
    {
     "data": {
      "image/png": "[encoded data removed]",
      "text/plain": [
       "<matplotlib.figure.Figure at 0x114a1d470>"
      ]
     },
     "metadata": {},
     "output_type": "display_data"
    }
   ],
   "source": [
    "plt.plot(v_interpol[:, nx, ny])"
   ]
  },
  {
   "cell_type": "code",
   "execution_count": null,
   "metadata": {
    "collapsed": true
   },
   "outputs": [],
   "source": []
  }
 ],
 "metadata": {
  "kernelspec": {
   "display_name": "Python 3",
   "language": "python",
   "name": "python3"
  },
  "language_info": {
   "codemirror_mode": {
    "name": "ipython",
    "version": 3
   },
   "file_extension": ".py",
   "mimetype": "text/x-python",
   "name": "python",
   "nbconvert_exporter": "python",
   "pygments_lexer": "ipython3",
   "version": "3.5.0"
  }
 },
 "nbformat": 4,
 "nbformat_minor": 2
}
