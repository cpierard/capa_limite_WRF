{
 "cells": [
  {
   "cell_type": "code",
   "execution_count": 2,
   "metadata": {
    "collapsed": true
   },
   "outputs": [],
   "source": [
    "from netCDF4 import Dataset\n",
    "import numpy as np\n",
    "#import pymeteo.skewt as skewt\n",
    "import matplotlib.pyplot as plt\n",
    "%matplotlib inline"
   ]
  },
  {
   "cell_type": "code",
   "execution_count": 3,
   "metadata": {
    "collapsed": true
   },
   "outputs": [],
   "source": [
    "file = 'wrfout_d01_2012-05-30_00:00:00.nc'"
   ]
  },
  {
   "cell_type": "code",
   "execution_count": 4,
   "metadata": {
    "collapsed": true
   },
   "outputs": [],
   "source": [
    "nc = Dataset(file, 'r')"
   ]
  },
  {
   "cell_type": "code",
   "execution_count": 5,
   "metadata": {
    "collapsed": false
   },
   "outputs": [
    {
     "name": "stdout",
     "output_type": "stream",
     "text": [
      "Times (97, 19)\n",
      "XLAT (97, 29, 29)\n",
      "XLONG (97, 29, 29)\n",
      "LU_INDEX (97, 29, 29)\n",
      "ZNU (97, 59)\n",
      "ZNW (97, 60)\n",
      "ZS (97, 4)\n",
      "DZS (97, 4)\n",
      "VAR_SSO (97, 29, 29)\n",
      "U (97, 59, 29, 30)\n",
      "V (97, 59, 30, 29)\n",
      "W (97, 60, 29, 29)\n",
      "PH (97, 60, 29, 29)\n",
      "PHB (97, 60, 29, 29)\n",
      "T (97, 59, 29, 29)\n",
      "HFX_FORCE (97,)\n",
      "LH_FORCE (97,)\n",
      "TSK_FORCE (97,)\n",
      "HFX_FORCE_TEND (97,)\n",
      "LH_FORCE_TEND (97,)\n",
      "TSK_FORCE_TEND (97,)\n",
      "MU (97, 29, 29)\n",
      "MUB (97, 29, 29)\n",
      "NEST_POS (97, 29, 29)\n",
      "P (97, 59, 29, 29)\n",
      "PB (97, 59, 29, 29)\n",
      "FNM (97, 59)\n",
      "FNP (97, 59)\n",
      "RDNW (97, 59)\n",
      "RDN (97, 59)\n",
      "DNW (97, 59)\n",
      "DN (97, 59)\n",
      "CFN (97,)\n",
      "CFN1 (97,)\n",
      "THIS_IS_AN_IDEAL_RUN (97,)\n",
      "P_HYD (97, 59, 29, 29)\n",
      "Q2 (97, 29, 29)\n",
      "T2 (97, 29, 29)\n",
      "TH2 (97, 29, 29)\n",
      "PSFC (97, 29, 29)\n",
      "U10 (97, 29, 29)\n",
      "V10 (97, 29, 29)\n",
      "RDX (97,)\n",
      "RDY (97,)\n",
      "RESM (97,)\n",
      "ZETATOP (97,)\n",
      "CF1 (97,)\n",
      "CF2 (97,)\n",
      "CF3 (97,)\n",
      "ITIMESTEP (97,)\n",
      "XTIME (97,)\n",
      "QVAPOR (97, 59, 29, 29)\n",
      "QCLOUD (97, 59, 29, 29)\n",
      "QRAIN (97, 59, 29, 29)\n",
      "QICE (97, 59, 29, 29)\n",
      "QSNOW (97, 59, 29, 29)\n",
      "QGRAUP (97, 59, 29, 29)\n",
      "QHAIL (97, 59, 29, 29)\n",
      "QNCLOUD (97, 59, 29, 29)\n",
      "QNRAIN (97, 59, 29, 29)\n",
      "QNICE (97, 59, 29, 29)\n",
      "QNSNOW (97, 59, 29, 29)\n",
      "QNGRAUPEL (97, 59, 29, 29)\n",
      "QNHAIL (97, 59, 29, 29)\n",
      "SHDMAX (97, 29, 29)\n",
      "SHDMIN (97, 29, 29)\n",
      "SNOALB (97, 29, 29)\n",
      "TSLB (97, 4, 29, 29)\n",
      "SMOIS (97, 4, 29, 29)\n",
      "SH2O (97, 4, 29, 29)\n",
      "SMCREL (97, 4, 29, 29)\n",
      "SEAICE (97, 29, 29)\n",
      "XICEM (97, 29, 29)\n",
      "SFROFF (97, 29, 29)\n",
      "UDROFF (97, 29, 29)\n",
      "IVGTYP (97, 29, 29)\n",
      "ISLTYP (97, 29, 29)\n",
      "VEGFRA (97, 29, 29)\n",
      "GRDFLX (97, 29, 29)\n",
      "ACGRDFLX (97, 29, 29)\n",
      "ACSNOM (97, 29, 29)\n",
      "SNOW (97, 29, 29)\n",
      "SNOWH (97, 29, 29)\n",
      "CANWAT (97, 29, 29)\n",
      "SSTSK (97, 29, 29)\n",
      "COSZEN (97, 29, 29)\n",
      "LAI (97, 29, 29)\n",
      "VAR (97, 29, 29)\n",
      "MAPFAC_M (97, 29, 29)\n",
      "MAPFAC_U (97, 29, 30)\n",
      "MAPFAC_V (97, 30, 29)\n",
      "MAPFAC_MX (97, 29, 29)\n",
      "MAPFAC_MY (97, 29, 29)\n",
      "MAPFAC_UX (97, 29, 30)\n",
      "MAPFAC_UY (97, 29, 30)\n",
      "MAPFAC_VX (97, 30, 29)\n",
      "MF_VX_INV (97, 30, 29)\n",
      "MAPFAC_VY (97, 30, 29)\n",
      "F (97, 29, 29)\n",
      "E (97, 29, 29)\n",
      "SINALPHA (97, 29, 29)\n",
      "COSALPHA (97, 29, 29)\n",
      "HGT (97, 29, 29)\n",
      "TSK (97, 29, 29)\n",
      "P_TOP (97,)\n",
      "T00 (97,)\n",
      "P00 (97,)\n",
      "TLP (97,)\n",
      "TISO (97,)\n",
      "TLP_STRAT (97,)\n",
      "P_STRAT (97,)\n",
      "MAX_MSTFX (97,)\n",
      "MAX_MSTFY (97,)\n",
      "RAINC (97, 29, 29)\n",
      "RAINSH (97, 29, 29)\n",
      "RAINNC (97, 29, 29)\n",
      "SNOWNC (97, 29, 29)\n",
      "GRAUPELNC (97, 29, 29)\n",
      "HAILNC (97, 29, 29)\n",
      "REFL_10CM (97, 59, 29, 29)\n",
      "CLDFRA (97, 59, 29, 29)\n",
      "SWDOWN (97, 29, 29)\n",
      "GLW (97, 29, 29)\n",
      "SWNORM (97, 29, 29)\n",
      "OLR (97, 29, 29)\n",
      "XLAT_U (97, 29, 30)\n",
      "XLONG_U (97, 29, 30)\n",
      "XLAT_V (97, 30, 29)\n",
      "XLONG_V (97, 30, 29)\n",
      "ALBEDO (97, 29, 29)\n",
      "CLAT (97, 29, 29)\n",
      "ALBBCK (97, 29, 29)\n",
      "EMISS (97, 29, 29)\n",
      "NOAHRES (97, 29, 29)\n",
      "TMN (97, 29, 29)\n",
      "XLAND (97, 29, 29)\n",
      "UST (97, 29, 29)\n",
      "PBLH (97, 29, 29)\n",
      "HFX (97, 29, 29)\n",
      "QFX (97, 29, 29)\n",
      "LH (97, 29, 29)\n",
      "ACHFX (97, 29, 29)\n",
      "ACLHF (97, 29, 29)\n",
      "SNOWC (97, 29, 29)\n",
      "SR (97, 29, 29)\n",
      "SAVE_TOPO_FROM_REAL (97,)\n",
      "REFD_MAX (97, 29, 29)\n",
      "ISEEDARR_RAND_PERTURB (97, 59)\n",
      "ISEEDARR_SPPT (97, 59)\n",
      "ISEEDARR_SKEBS (97, 59)\n",
      "LANDMASK (97, 29, 29)\n",
      "LAKEMASK (97, 29, 29)\n",
      "SST (97, 29, 29)\n",
      "SST_INPUT (97, 29, 29)\n"
     ]
    }
   ],
   "source": [
    "for i in nc.variables:\n",
    "    print(i, nc.variables[i].shape)"
   ]
  },
  {
   "cell_type": "code",
   "execution_count": 6,
   "metadata": {
    "collapsed": true
   },
   "outputs": [],
   "source": [
    "T = nc.variables['T']"
   ]
  },
  {
   "cell_type": "code",
   "execution_count": 7,
   "metadata": {
    "collapsed": true
   },
   "outputs": [],
   "source": [
    "xlong = nc.variables['XLONG']"
   ]
  },
  {
   "cell_type": "code",
   "execution_count": 8,
   "metadata": {
    "collapsed": true
   },
   "outputs": [],
   "source": [
    "xlat = nc.variables['XLAT']"
   ]
  },
  {
   "cell_type": "code",
   "execution_count": 9,
   "metadata": {
    "collapsed": false
   },
   "outputs": [
    {
     "data": {
      "text/plain": [
       "(97, 29, 29)"
      ]
     },
     "execution_count": 9,
     "metadata": {},
     "output_type": "execute_result"
    }
   ],
   "source": [
    "xlat.shape"
   ]
  },
  {
   "cell_type": "code",
   "execution_count": 10,
   "metadata": {
    "collapsed": false
   },
   "outputs": [
    {
     "data": {
      "text/plain": [
       "(97, 59, 29, 29)"
      ]
     },
     "execution_count": 10,
     "metadata": {},
     "output_type": "execute_result"
    }
   ],
   "source": [
    "T.shape"
   ]
  },
  {
   "cell_type": "code",
   "execution_count": 11,
   "metadata": {
    "collapsed": false
   },
   "outputs": [
    {
     "data": {
      "text/plain": [
       "(97, 59, 29, 29)"
      ]
     },
     "execution_count": 11,
     "metadata": {},
     "output_type": "execute_result"
    }
   ],
   "source": [
    "P = nc.variables['P']\n",
    "P.shape"
   ]
  },
  {
   "cell_type": "code",
   "execution_count": 12,
   "metadata": {
    "collapsed": false
   },
   "outputs": [
    {
     "data": {
      "text/plain": [
       "59"
      ]
     },
     "execution_count": 12,
     "metadata": {},
     "output_type": "execute_result"
    }
   ],
   "source": [
    "len(T[3, :, 2, 2])"
   ]
  },
  {
   "cell_type": "code",
   "execution_count": 13,
   "metadata": {
    "collapsed": false
   },
   "outputs": [
    {
     "name": "stdout",
     "output_type": "stream",
     "text": [
      "Time <class 'netCDF4._netCDF4.Dimension'> (unlimited): name = 'Time', size = 97\n",
      "\n",
      "DateStrLen <class 'netCDF4._netCDF4.Dimension'>: name = 'DateStrLen', size = 19\n",
      "\n",
      "west_east <class 'netCDF4._netCDF4.Dimension'>: name = 'west_east', size = 29\n",
      "\n",
      "south_north <class 'netCDF4._netCDF4.Dimension'>: name = 'south_north', size = 29\n",
      "\n",
      "bottom_top <class 'netCDF4._netCDF4.Dimension'>: name = 'bottom_top', size = 59\n",
      "\n",
      "bottom_top_stag <class 'netCDF4._netCDF4.Dimension'>: name = 'bottom_top_stag', size = 60\n",
      "\n",
      "soil_layers_stag <class 'netCDF4._netCDF4.Dimension'>: name = 'soil_layers_stag', size = 4\n",
      "\n",
      "west_east_stag <class 'netCDF4._netCDF4.Dimension'>: name = 'west_east_stag', size = 30\n",
      "\n",
      "south_north_stag <class 'netCDF4._netCDF4.Dimension'>: name = 'south_north_stag', size = 30\n",
      "\n"
     ]
    }
   ],
   "source": [
    "for dim in nc.dimensions:\n",
    "    print(dim, nc.dimensions[dim])"
   ]
  },
  {
   "cell_type": "code",
   "execution_count": 14,
   "metadata": {
    "collapsed": false
   },
   "outputs": [
    {
     "data": {
      "text/plain": [
       "-100.07627"
      ]
     },
     "execution_count": 14,
     "metadata": {},
     "output_type": "execute_result"
    }
   ],
   "source": [
    "xlong[1,5,5]"
   ]
  },
  {
   "cell_type": "markdown",
   "metadata": {},
   "source": [
    "## Calcular altura\n",
    "\n",
    "`Z = (PH + PBH)/9.8`"
   ]
  },
  {
   "cell_type": "markdown",
   "metadata": {},
   "source": [
    "# Richardson method"
   ]
  },
  {
   "cell_type": "markdown",
   "metadata": {},
   "source": [
    "$$Ri(z_{i+1}) = \\frac{g}{T_s} \\frac{(\\theta_{i+2} - \\theta_i)(z_{i+2} - z_i)}{(V_{i+2} - V_i)^2}$$"
   ]
  },
  {
   "cell_type": "markdown",
   "metadata": {},
   "source": [
    "# Parámetros\n",
    "\n",
    "- $g = 9.8 \\ m/s^2$"
   ]
  },
  {
   "cell_type": "code",
   "execution_count": 15,
   "metadata": {
    "collapsed": false
   },
   "outputs": [
    {
     "data": {
      "text/plain": [
       "<class 'netCDF4._netCDF4.Variable'>\n",
       "float32 U(Time, bottom_top, south_north, west_east_stag)\n",
       "    FieldType: 104\n",
       "    MemoryOrder: XYZ\n",
       "    description: x-wind component\n",
       "    units: m s-1\n",
       "    stagger: X\n",
       "    coordinates: XLONG_U XLAT_U XTIME\n",
       "unlimited dimensions: Time\n",
       "current shape = (97, 59, 29, 30)\n",
       "filling off"
      ]
     },
     "execution_count": 15,
     "metadata": {},
     "output_type": "execute_result"
    }
   ],
   "source": [
    "nc.variables['U']"
   ]
  },
  {
   "cell_type": "code",
   "execution_count": 59,
   "metadata": {
    "collapsed": false
   },
   "outputs": [],
   "source": [
    "g = 9.8"
   ]
  },
  {
   "cell_type": "code",
   "execution_count": 57,
   "metadata": {
    "collapsed": true
   },
   "outputs": [],
   "source": [
    "T = nc.variables['T']\n",
    "U = nc.variables['U']\n",
    "V = nc.variables['V']\n",
    "T2 = nc.variables['T2']\n",
    "PH = nc.variables['PH']\n",
    "PHB = nc.variables['PHB']"
   ]
  },
  {
   "cell_type": "code",
   "execution_count": 61,
   "metadata": {
    "collapsed": false
   },
   "outputs": [
    {
     "data": {
      "text/plain": [
       "(97, 60, 29, 29)"
      ]
     },
     "execution_count": 61,
     "metadata": {},
     "output_type": "execute_result"
    }
   ],
   "source": [
    "PH.shape"
   ]
  },
  {
   "cell_type": "code",
   "execution_count": 58,
   "metadata": {
    "collapsed": false
   },
   "outputs": [
    {
     "data": {
      "text/plain": [
       "(97, 60, 29, 29)"
      ]
     },
     "execution_count": 58,
     "metadata": {},
     "output_type": "execute_result"
    }
   ],
   "source": [
    "PHB[:].shape"
   ]
  },
  {
   "cell_type": "code",
   "execution_count": 64,
   "metadata": {
    "collapsed": true
   },
   "outputs": [],
   "source": [
    "def compute_height(PH, PBH):\n",
    "    \n",
    "    g = 9.8\n",
    "    Z = []\n",
    "    \n",
    "    for i in range(0, len(PH)-1):\n",
    "        \n",
    "        z = (PH[i] + PBH[i])/g\n",
    "        Z.append(z)\n",
    "    \n",
    "    return Z    "
   ]
  },
  {
   "cell_type": "code",
   "execution_count": 65,
   "metadata": {
    "collapsed": false
   },
   "outputs": [],
   "source": [
    "Z = compute_height(PH[4, :, 17, 13], PHB[4, :, 17, 13])"
   ]
  },
  {
   "cell_type": "code",
   "execution_count": 66,
   "metadata": {
    "collapsed": false
   },
   "outputs": [
    {
     "data": {
      "text/plain": [
       "[2191.9860092474487,\n",
       " 2213.025350765306,\n",
       " 2234.2075892857142,\n",
       " 2255.4840959821427,\n",
       " 2276.8193957270405,\n",
       " 2298.1977439413263,\n",
       " 2319.619140625,\n",
       " 2341.0835857780612,\n",
       " 2362.5904815051017,\n",
       " 2405.7326211734694,\n",
       " 2449.0465561224487,\n",
       " 2492.5338807397957,\n",
       " 2536.1975845025509,\n",
       " 2624.0567203443875,\n",
       " 2712.6496731505099,\n",
       " 2801.9810267857142,\n",
       " 2982.8995934311224,\n",
       " 3167.0344387755099,\n",
       " 3354.6018016581629,\n",
       " 3545.8007812499995,\n",
       " 3910.3902264030608,\n",
       " 4287.9037786989793,\n",
       " 4680.9677933673465,\n",
       " 5088.2979910714284,\n",
       " 5513.3362563775509,\n",
       " 5956.6872608418362,\n",
       " 6419.1414221938767,\n",
       " 6905.6130420918362,\n",
       " 7416.3034119897957,\n",
       " 7957.4019451530603,\n",
       " 8532.0304528061224,\n",
       " 9144.296875,\n",
       " 9804.4874043367345,\n",
       " 10516.888552295917,\n",
       " 11295.05500637755,\n",
       " 12095.246332908162,\n",
       " 12897.32063137755,\n",
       " 13698.498086734693,\n",
       " 14498.258928571428,\n",
       " 15304.561543367347,\n",
       " 16093.529974489795,\n",
       " 16863.557079081631,\n",
       " 17625.803571428569,\n",
       " 18392.69132653061,\n",
       " 19169.405293367345,\n",
       " 19973.252551020407,\n",
       " 20789.422831632652,\n",
       " 21607.404336734693,\n",
       " 22423.188775510203,\n",
       " 23233.596938775507,\n",
       " 24053.643176020407,\n",
       " 24870.644132653058,\n",
       " 25706.167091836734,\n",
       " 26519.676339285714,\n",
       " 27336.964285714283,\n",
       " 28141.170280612241,\n",
       " 28912.353316326527,\n",
       " 29704.544005102038,\n",
       " 30460.631377551017]"
      ]
     },
     "execution_count": 66,
     "metadata": {},
     "output_type": "execute_result"
    }
   ],
   "source": [
    "Z"
   ]
  },
  {
   "cell_type": "code",
   "execution_count": 70,
   "metadata": {
    "collapsed": false
   },
   "outputs": [
    {
     "data": {
      "text/plain": [
       "[<matplotlib.lines.Line2D at 0x110cedd30>]"
      ]
     },
     "execution_count": 70,
     "metadata": {},
     "output_type": "execute_result"
    },
    {
     "data": {
      "image/png": "[encoded data removed]",
      "text/plain": [
       "<matplotlib.figure.Figure at 0x110aacac8>"
      ]
     },
     "metadata": {},
     "output_type": "display_data"
    }
   ],
   "source": [
    "plt.plot(Z)"
   ]
  },
  {
   "cell_type": "code",
   "execution_count": 67,
   "metadata": {
    "collapsed": false
   },
   "outputs": [],
   "source": [
    "def compute_Richardson(T_s, θ, Z, u, v):\n",
    "    g = 9.8\n",
    "    Ri = []\n",
    "    for i in range(1,len(θ)-1):\n",
    "        Vu = np.sqrt(u[i+1] + v[i+1])\n",
    "        Vd = np.sqrt(u[i-1] + v[i-1])\n",
    "        ri = g / T_s * (θ[i+1] - θ[i-1])*(z[i+1] - z[i-1])/(Vu - Vd)**2\n",
    "        Ri.append(ri)\n",
    "    \n",
    "    return Ri"
   ]
  },
  {
   "cell_type": "code",
   "execution_count": 75,
   "metadata": {
    "collapsed": true
   },
   "outputs": [],
   "source": [
    "import scipy.interpolate as interpo"
   ]
  },
  {
   "cell_type": "code",
   "execution_count": null,
   "metadata": {
    "collapsed": true
   },
   "outputs": [],
   "source": []
  },
  {
   "cell_type": "code",
   "execution_count": 76,
   "metadata": {
    "collapsed": false
   },
   "outputs": [
    {
     "data": {
      "text/plain": [
       "scipy.interpolate.interpnd.LinearNDInterpolator"
      ]
     },
     "execution_count": 76,
     "metadata": {},
     "output_type": "execute_result"
    }
   ],
   "source": [
    "interpo.LinearNDInterpolator "
   ]
  },
  {
   "cell_type": "markdown",
   "metadata": {},
   "source": [
    "## Interpolación"
   ]
  },
  {
   "cell_type": "code",
   "execution_count": 79,
   "metadata": {
    "collapsed": true
   },
   "outputs": [],
   "source": [
    "xlat = nc.variables['XLAT']\n",
    "xlong = nc.variables['XLONG']\n",
    "\n",
    "xlat_u = nc.variables['XLAT_U']\n",
    "xlong_u = nc.variables['XLONG_U']\n",
    "\n",
    "xlat_v = nc.variables['XLAT_V']\n",
    "xlong_v = nc.variables['XLONG_V']"
   ]
  },
  {
   "cell_type": "code",
   "execution_count": 258,
   "metadata": {
    "collapsed": false
   },
   "outputs": [
    {
     "data": {
      "text/plain": [
       "<matplotlib.collections.PathCollection at 0x12138d7b8>"
      ]
     },
     "execution_count": 258,
     "metadata": {},
     "output_type": "execute_result"
    },
    {
     "data": {
      "image/png": "[encoded data removed]",
      "text/plain": [
       "<matplotlib.figure.Figure at 0x1212a5748>"
      ]
     },
     "metadata": {},
     "output_type": "display_data"
    }
   ],
   "source": [
    "plt.figure(figsize=(10,6))\n",
    "range_x = range(3,6)\n",
    "plt.scatter(xlong_u[0,range_x, range_x], xlat_u[0, range_x, range_x])\n",
    "#plt.scatter(xlong_v[0,range_x, range_x], xlat_v[0, range_x, range_x], color = 'r')\n",
    "plt.scatter(xlong[0,range_x, range_x], xlat[0, range_x, range_x], color = 'g')"
   ]
  },
  {
   "cell_type": "code",
   "execution_count": 118,
   "metadata": {
    "collapsed": false
   },
   "outputs": [
    {
     "data": {
      "text/plain": [
       "array([ 18.31952667,  18.31952667,  18.31952667], dtype=float32)"
      ]
     },
     "execution_count": 118,
     "metadata": {},
     "output_type": "execute_result"
    }
   ],
   "source": [
    "xlat_u[0, 3, 3:6]"
   ]
  },
  {
   "cell_type": "code",
   "execution_count": 109,
   "metadata": {
    "collapsed": false
   },
   "outputs": [],
   "source": [
    "u = nc.variables['U']"
   ]
  },
  {
   "cell_type": "code",
   "execution_count": 116,
   "metadata": {
    "collapsed": false
   },
   "outputs": [
    {
     "data": {
      "text/plain": [
       "array([ 0.65301877,  1.08331299,  1.7920413 ], dtype=float32)"
      ]
     },
     "execution_count": 116,
     "metadata": {},
     "output_type": "execute_result"
    }
   ],
   "source": [
    "u[0, 10, 3, 3:6]"
   ]
  },
  {
   "cell_type": "code",
   "execution_count": 132,
   "metadata": {
    "collapsed": false
   },
   "outputs": [],
   "source": [
    "u_interp = np.interp(xlong[0, 3, :], xlong_u[0, 3, :], u[0, 10, 3, :])"
   ]
  },
  {
   "cell_type": "code",
   "execution_count": 133,
   "metadata": {
    "collapsed": false
   },
   "outputs": [
    {
     "data": {
      "text/plain": [
       "<matplotlib.collections.PathCollection at 0x115293748>"
      ]
     },
     "execution_count": 133,
     "metadata": {},
     "output_type": "execute_result"
    },
    {
     "data": {
      "image/png": "[encoded data removed]",
      "text/plain": [
       "<matplotlib.figure.Figure at 0x11513f630>"
      ]
     },
     "metadata": {},
     "output_type": "display_data"
    }
   ],
   "source": [
    "plt.figure(figsize=(10,6))\n",
    "plt.scatter(xlong_u[0, 3, :], u[0, 10, 3, :])\n",
    "\n",
    "plt.scatter(xlong[0, 3, :], u_interp, color='r')\n"
   ]
  },
  {
   "cell_type": "code",
   "execution_count": 135,
   "metadata": {
    "collapsed": false
   },
   "outputs": [
    {
     "data": {
      "text/plain": [
       "(97, 59, 29, 30)"
      ]
     },
     "execution_count": 135,
     "metadata": {},
     "output_type": "execute_result"
    }
   ],
   "source": [
    "u.shape"
   ]
  },
  {
   "cell_type": "code",
   "execution_count": 159,
   "metadata": {
    "collapsed": false
   },
   "outputs": [],
   "source": [
    "YY = u[:]"
   ]
  },
  {
   "cell_type": "code",
   "execution_count": 169,
   "metadata": {
    "collapsed": false
   },
   "outputs": [
    {
     "data": {
      "text/plain": [
       "(97, 59, 29, 30)"
      ]
     },
     "execution_count": 169,
     "metadata": {},
     "output_type": "execute_result"
    }
   ],
   "source": [
    "u.shape"
   ]
  },
  {
   "cell_type": "code",
   "execution_count": 164,
   "metadata": {
    "collapsed": false
   },
   "outputs": [],
   "source": [
    "YY[0,0,0,:] = np.zeros(30)"
   ]
  },
  {
   "cell_type": "code",
   "execution_count": 168,
   "metadata": {
    "collapsed": false
   },
   "outputs": [
    {
     "data": {
      "text/plain": [
       "(97, 59, 29, 30)"
      ]
     },
     "execution_count": 168,
     "metadata": {},
     "output_type": "execute_result"
    }
   ],
   "source": [
    "YY.shape"
   ]
  },
  {
   "cell_type": "code",
   "execution_count": 177,
   "metadata": {
    "collapsed": false
   },
   "outputs": [],
   "source": [
    "a,b,c,d = u.shape"
   ]
  },
  {
   "cell_type": "code",
   "execution_count": 179,
   "metadata": {
    "collapsed": false
   },
   "outputs": [
    {
     "data": {
      "text/plain": [
       "30"
      ]
     },
     "execution_count": 179,
     "metadata": {},
     "output_type": "execute_result"
    }
   ],
   "source": [
    "d"
   ]
  },
  {
   "cell_type": "code",
   "execution_count": 184,
   "metadata": {
    "collapsed": false
   },
   "outputs": [
    {
     "data": {
      "text/plain": [
       "30"
      ]
     },
     "execution_count": 184,
     "metadata": {},
     "output_type": "execute_result"
    }
   ],
   "source": [
    "len(u[0,0,0,:])"
   ]
  },
  {
   "cell_type": "code",
   "execution_count": 192,
   "metadata": {
    "collapsed": false
   },
   "outputs": [
    {
     "data": {
      "text/plain": [
       "(29,)"
      ]
     },
     "execution_count": 192,
     "metadata": {},
     "output_type": "execute_result"
    }
   ],
   "source": [
    "np.interp(xlong[0,0,:], xlong_u[0,0,:], u[0, 3, 0, :]).shape"
   ]
  },
  {
   "cell_type": "code",
   "execution_count": 197,
   "metadata": {
    "collapsed": false
   },
   "outputs": [
    {
     "data": {
      "text/plain": [
       "(97, 59, 29, 30)"
      ]
     },
     "execution_count": 197,
     "metadata": {},
     "output_type": "execute_result"
    }
   ],
   "source": [
    "u.shape"
   ]
  },
  {
   "cell_type": "code",
   "execution_count": 198,
   "metadata": {
    "collapsed": false
   },
   "outputs": [
    {
     "data": {
      "text/plain": [
       "(97, 29, 29)"
      ]
     },
     "execution_count": 198,
     "metadata": {},
     "output_type": "execute_result"
    }
   ],
   "source": [
    "xlong.shape"
   ]
  },
  {
   "cell_type": "code",
   "execution_count": 201,
   "metadata": {
    "collapsed": false
   },
   "outputs": [
    {
     "data": {
      "text/plain": [
       "numpy.float32"
      ]
     },
     "execution_count": 201,
     "metadata": {},
     "output_type": "execute_result"
    }
   ],
   "source": [
    "type(u[0,0,0,0])"
   ]
  },
  {
   "cell_type": "code",
   "execution_count": 204,
   "metadata": {
    "collapsed": false
   },
   "outputs": [
    {
     "data": {
      "text/plain": [
       "array([[[ 0.,  0.,  0.],\n",
       "        [ 0.,  0.,  0.],\n",
       "        [ 0.,  0.,  0.]],\n",
       "\n",
       "       [[ 0.,  0.,  0.],\n",
       "        [ 0.,  0.,  0.],\n",
       "        [ 0.,  0.,  0.]],\n",
       "\n",
       "       [[ 0.,  0.,  0.],\n",
       "        [ 0.,  0.,  0.],\n",
       "        [ 0.,  0.,  0.]]], dtype=float32)"
      ]
     },
     "execution_count": 204,
     "metadata": {},
     "output_type": "execute_result"
    }
   ],
   "source": [
    "np.zeros((3,3,3), np.float32)"
   ]
  },
  {
   "cell_type": "code",
   "execution_count": 205,
   "metadata": {
    "collapsed": false
   },
   "outputs": [
    {
     "data": {
      "text/plain": [
       "(97, 59, 29, 30)"
      ]
     },
     "execution_count": 205,
     "metadata": {},
     "output_type": "execute_result"
    }
   ],
   "source": [
    "u.shape"
   ]
  },
  {
   "cell_type": "code",
   "execution_count": 210,
   "metadata": {
    "collapsed": false
   },
   "outputs": [
    {
     "data": {
      "text/plain": [
       "(97, 59, 29, 30)"
      ]
     },
     "execution_count": 210,
     "metadata": {},
     "output_type": "execute_result"
    }
   ],
   "source": [
    "np.zeros((97, 59, 29, 30)).shape"
   ]
  },
  {
   "cell_type": "code",
   "execution_count": 213,
   "metadata": {
    "collapsed": false
   },
   "outputs": [],
   "source": [
    "'''\n",
    "    No sirve.\n",
    "'''\n",
    "def u_interpolate(XLONG, XLONG_U, U):\n",
    "    \n",
    "    tf, h, y, x = U.shape\n",
    "    \n",
    "    U_intep = np.zeros((tf, h, y, x-1), np.float32)\n",
    "    \n",
    "    #U_intep = np.zeros_like(U)\n",
    "    \n",
    "    for t in range(0,tf-1):\n",
    "        for z in range(0, h-1):\n",
    "            for i in range(0, y-1):\n",
    "            \n",
    "                U_intep[t, z, i, :] = np.interp(XLONG[t, i, :], XLONG_U[t, i, :], U[t, z, i, :])\n",
    "                \n",
    "    return U_intep"
   ]
  },
  {
   "cell_type": "code",
   "execution_count": null,
   "metadata": {
    "collapsed": true
   },
   "outputs": [],
   "source": [
    "u[]"
   ]
  },
  {
   "cell_type": "code",
   "execution_count": 215,
   "metadata": {
    "collapsed": false
   },
   "outputs": [],
   "source": [
    "u_interpol = u_interpolate(xlong, xlong_u, u)"
   ]
  },
  {
   "cell_type": "code",
   "execution_count": 216,
   "metadata": {
    "collapsed": false
   },
   "outputs": [
    {
     "name": "stdout",
     "output_type": "stream",
     "text": [
      "82.18119215965271\n"
     ]
    }
   ],
   "source": [
    "import time\n",
    "\n",
    "start = time.time()\n",
    "u_interpol = u_interpolate(xlong, xlong_u, u)\n",
    "end = time.time()\n",
    "print(end - start)"
   ]
  },
  {
   "cell_type": "code",
   "execution_count": 259,
   "metadata": {
    "collapsed": false
   },
   "outputs": [
    {
     "data": {
      "text/plain": [
       "<matplotlib.collections.PolyCollection at 0x121674ba8>"
      ]
     },
     "execution_count": 259,
     "metadata": {},
     "output_type": "execute_result"
    },
    {
     "data": {
      "image/png": "[encoded data removed]",
      "text/plain": [
       "<matplotlib.figure.Figure at 0x1213a87f0>"
      ]
     },
     "metadata": {},
     "output_type": "display_data"
    }
   ],
   "source": [
    "h = 0\n",
    "fig = plt.figure(figsize=(11,8))\n",
    "ax1 = fig.add_subplot(221)\n",
    "ax1.pcolor(u[0,h, :, :])\n",
    "\n",
    "ax2 = fig.add_subplot(222)\n",
    "ax2.pcolor(u_interpol[0,h, :, :])\n"
   ]
  },
  {
   "cell_type": "code",
   "execution_count": 223,
   "metadata": {
    "collapsed": false
   },
   "outputs": [
    {
     "ename": "TypeError",
     "evalue": "__init__() got an unexpected keyword argument 'figure'",
     "output_type": "error",
     "traceback": [
      "\u001b[0;31m---------------------------------------------------------------------------\u001b[0m",
      "\u001b[0;31mTypeError\u001b[0m                                 Traceback (most recent call last)",
      "\u001b[0;32m<ipython-input-223-1749e304d3c5>\u001b[0m in \u001b[0;36m<module>\u001b[0;34m()\u001b[0m\n\u001b[0;32m----> 1\u001b[0;31m \u001b[0mplt\u001b[0m\u001b[0;34m.\u001b[0m\u001b[0mfigure\u001b[0m\u001b[0;34m(\u001b[0m\u001b[0mfigure\u001b[0m\u001b[0;34m=\u001b[0m\u001b[0;34m(\u001b[0m\u001b[0;36m2\u001b[0m\u001b[0;34m,\u001b[0m\u001b[0;36m1\u001b[0m\u001b[0;34m)\u001b[0m\u001b[0;34m)\u001b[0m\u001b[0;34m\u001b[0m\u001b[0m\n\u001b[0m\u001b[1;32m      2\u001b[0m \u001b[0mplt\u001b[0m\u001b[0;34m.\u001b[0m\u001b[0mpcolor\u001b[0m\u001b[0;34m(\u001b[0m\u001b[0mu\u001b[0m\u001b[0;34m[\u001b[0m\u001b[0;36m0\u001b[0m\u001b[0;34m,\u001b[0m \u001b[0;36m0\u001b[0m\u001b[0;34m,\u001b[0m \u001b[0;34m:\u001b[0m\u001b[0;34m,\u001b[0m \u001b[0;34m:\u001b[0m\u001b[0;34m]\u001b[0m\u001b[0;34m)\u001b[0m\u001b[0;34m\u001b[0m\u001b[0m\n",
      "\u001b[0;32m/Library/Frameworks/Python.framework/Versions/3.5/lib/python3.5/site-packages/matplotlib/pyplot.py\u001b[0m in \u001b[0;36mfigure\u001b[0;34m(num, figsize, dpi, facecolor, edgecolor, frameon, FigureClass, **kwargs)\u001b[0m\n\u001b[1;32m    525\u001b[0m                                         \u001b[0mframeon\u001b[0m\u001b[0;34m=\u001b[0m\u001b[0mframeon\u001b[0m\u001b[0;34m,\u001b[0m\u001b[0;34m\u001b[0m\u001b[0m\n\u001b[1;32m    526\u001b[0m                                         \u001b[0mFigureClass\u001b[0m\u001b[0;34m=\u001b[0m\u001b[0mFigureClass\u001b[0m\u001b[0;34m,\u001b[0m\u001b[0;34m\u001b[0m\u001b[0m\n\u001b[0;32m--> 527\u001b[0;31m                                         **kwargs)\n\u001b[0m\u001b[1;32m    528\u001b[0m \u001b[0;34m\u001b[0m\u001b[0m\n\u001b[1;32m    529\u001b[0m         \u001b[0;32mif\u001b[0m \u001b[0mfigLabel\u001b[0m\u001b[0;34m:\u001b[0m\u001b[0;34m\u001b[0m\u001b[0m\n",
      "\u001b[0;32m/Library/Frameworks/Python.framework/Versions/3.5/lib/python3.5/site-packages/matplotlib/backends/backend_agg.py\u001b[0m in \u001b[0;36mnew_figure_manager\u001b[0;34m(num, *args, **kwargs)\u001b[0m\n\u001b[1;32m    430\u001b[0m \u001b[0;34m\u001b[0m\u001b[0m\n\u001b[1;32m    431\u001b[0m     \u001b[0mFigureClass\u001b[0m \u001b[0;34m=\u001b[0m \u001b[0mkwargs\u001b[0m\u001b[0;34m.\u001b[0m\u001b[0mpop\u001b[0m\u001b[0;34m(\u001b[0m\u001b[0;34m'FigureClass'\u001b[0m\u001b[0;34m,\u001b[0m \u001b[0mFigure\u001b[0m\u001b[0;34m)\u001b[0m\u001b[0;34m\u001b[0m\u001b[0m\n\u001b[0;32m--> 432\u001b[0;31m     \u001b[0mthisFig\u001b[0m \u001b[0;34m=\u001b[0m \u001b[0mFigureClass\u001b[0m\u001b[0;34m(\u001b[0m\u001b[0;34m*\u001b[0m\u001b[0margs\u001b[0m\u001b[0;34m,\u001b[0m \u001b[0;34m**\u001b[0m\u001b[0mkwargs\u001b[0m\u001b[0;34m)\u001b[0m\u001b[0;34m\u001b[0m\u001b[0m\n\u001b[0m\u001b[1;32m    433\u001b[0m     \u001b[0;32mreturn\u001b[0m \u001b[0mnew_figure_manager_given_figure\u001b[0m\u001b[0;34m(\u001b[0m\u001b[0mnum\u001b[0m\u001b[0;34m,\u001b[0m \u001b[0mthisFig\u001b[0m\u001b[0;34m)\u001b[0m\u001b[0;34m\u001b[0m\u001b[0m\n\u001b[1;32m    434\u001b[0m \u001b[0;34m\u001b[0m\u001b[0m\n",
      "\u001b[0;31mTypeError\u001b[0m: __init__() got an unexpected keyword argument 'figure'"
     ]
    }
   ],
   "source": [
    "plt.figure(figure=(2,1))\n",
    "plt.pcolor(u[0, 0, :, :])"
   ]
  },
  {
   "cell_type": "code",
   "execution_count": 222,
   "metadata": {
    "collapsed": false
   },
   "outputs": [
    {
     "data": {
      "text/plain": [
       "<matplotlib.collections.PolyCollection at 0x115cba6d8>"
      ]
     },
     "execution_count": 222,
     "metadata": {},
     "output_type": "execute_result"
    },
    {
     "data": {
      "image/png": "[encoded data removed]",
      "text/plain": [
       "<matplotlib.figure.Figure at 0x116002b00>"
      ]
     },
     "metadata": {},
     "output_type": "display_data"
    }
   ],
   "source": [
    "plt.pcolor(u_interpol[0,0, :, :])"
   ]
  },
  {
   "cell_type": "markdown",
   "metadata": {},
   "source": [
    "## Scipy.interpolate"
   ]
  },
  {
   "cell_type": "code",
   "execution_count": 148,
   "metadata": {
    "collapsed": false
   },
   "outputs": [
    {
     "ename": "TypeError",
     "evalue": "only length-1 arrays can be converted to Python scalars",
     "output_type": "error",
     "traceback": [
      "\u001b[0;31m---------------------------------------------------------------------------\u001b[0m",
      "\u001b[0;31mTypeError\u001b[0m                                 Traceback (most recent call last)",
      "\u001b[0;32m<ipython-input-148-7f1fdcfe5648>\u001b[0m in \u001b[0;36m<module>\u001b[0;34m()\u001b[0m\n\u001b[0;32m----> 1\u001b[0;31m \u001b[0minterpo\u001b[0m\u001b[0;34m.\u001b[0m\u001b[0mLinearNDInterpolator\u001b[0m\u001b[0;34m(\u001b[0m\u001b[0mxlong_u\u001b[0m\u001b[0;34m[\u001b[0m\u001b[0;36m0\u001b[0m\u001b[0;34m,\u001b[0m \u001b[0;34m:\u001b[0m\u001b[0;34m,\u001b[0m \u001b[0;34m:\u001b[0m\u001b[0;34m]\u001b[0m\u001b[0;34m,\u001b[0m \u001b[0mu\u001b[0m\u001b[0;34m[\u001b[0m\u001b[0;36m0\u001b[0m\u001b[0;34m,\u001b[0m \u001b[0;36m10\u001b[0m\u001b[0;34m,\u001b[0m \u001b[0;34m:\u001b[0m\u001b[0;34m,\u001b[0m \u001b[0;34m:\u001b[0m\u001b[0;34m]\u001b[0m\u001b[0;34m,\u001b[0m \u001b[0mxlong\u001b[0m\u001b[0;34m[\u001b[0m\u001b[0;36m0\u001b[0m\u001b[0;34m,\u001b[0m \u001b[0;34m:\u001b[0m\u001b[0;34m,\u001b[0m \u001b[0;34m:\u001b[0m\u001b[0;34m]\u001b[0m\u001b[0;34m)\u001b[0m\u001b[0;34m\u001b[0m\u001b[0m\n\u001b[0m",
      "\u001b[0;32mscipy/interpolate/interpnd.pyx\u001b[0m in \u001b[0;36mscipy.interpolate.interpnd.LinearNDInterpolator.__init__ (/private/var/folders/gw/_2jq29095y7b__wtby9dg_5h0000gn/T/pip-rx828oer-build/scipy/interpolate/interpnd.c:5059)\u001b[0;34m()\u001b[0m\n",
      "\u001b[0;32mscipy/interpolate/interpnd.pyx\u001b[0m in \u001b[0;36mscipy.interpolate.interpnd.NDInterpolatorBase.__init__ (/private/var/folders/gw/_2jq29095y7b__wtby9dg_5h0000gn/T/pip-rx828oer-build/scipy/interpolate/interpnd.c:3016)\u001b[0;34m()\u001b[0m\n",
      "\u001b[0;31mTypeError\u001b[0m: only length-1 arrays can be converted to Python scalars"
     ]
    }
   ],
   "source": [
    "interpo.LinearNDInterpolator(xlong_u[0, :, :], u[0, 10, :, :], xlong[0, :, :])"
   ]
  },
  {
   "cell_type": "code",
   "execution_count": null,
   "metadata": {
    "collapsed": true
   },
   "outputs": [],
   "source": []
  }
 ],
 "metadata": {
  "kernelspec": {
   "display_name": "Python 3",
   "language": "python",
   "name": "python3"
  },
  "language_info": {
   "codemirror_mode": {
    "name": "ipython",
    "version": 3
   },
   "file_extension": ".py",
   "mimetype": "text/x-python",
   "name": "python",
   "nbconvert_exporter": "python",
   "pygments_lexer": "ipython3",
   "version": "3.5.0"
  }
 },
 "nbformat": 4,
 "nbformat_minor": 2
}
