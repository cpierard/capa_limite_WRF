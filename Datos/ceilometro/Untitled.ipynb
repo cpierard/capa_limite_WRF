{
 "cells": [
  {
   "cell_type": "code",
   "execution_count": 1,
   "metadata": {
    "collapsed": true
   },
   "outputs": [],
   "source": [
    "import csv\n",
    "import numpy as np\n",
    "import datetime\n",
    "import os"
   ]
  },
  {
   "cell_type": "code",
   "execution_count": 2,
   "metadata": {
    "collapsed": false
   },
   "outputs": [],
   "source": [
    "with open('claudio_mlh.csv') as csvfile:\n",
    "    readCSV = csv.reader(csvfile, delimiter=',')\n",
    "    datetimes = []\n",
    "    raws = []\n",
    "    raws_filtered = []\n",
    "    \n",
    "    for row in readCSV:\n",
    "        if row[0] == 'Datetime':\n",
    "            pass\n",
    "        else:\n",
    "            d_t = datetime.datetime.strptime(row[0], '%Y-%m-%d %H:%M:%S') + datetime.timedelta(hours=6)\n",
    "            datetimes.append(d_t)\n",
    "            \n",
    "        raws.append(row[1])\n",
    "        \n",
    "        if row[2] == '':\n",
    "            filtered = row[2].replace('', 'NaN')\n",
    "            raws_filtered.append(filtered)\n",
    "        else:\n",
    "            raws_filtered.append(row[2])\n",
    "            \n",
    "    raws.pop(0)\n",
    "    raws_filtered.pop(0)"
   ]
  },
  {
   "cell_type": "code",
   "execution_count": 3,
   "metadata": {
    "collapsed": true
   },
   "outputs": [],
   "source": [
    "month_list = ['jan', 'feb', 'mar', 'apr', 'may', 'jun', 'jul', 'aug', 'sep', 'oct', 'nov', 'dic']"
   ]
  },
  {
   "cell_type": "code",
   "execution_count": 175,
   "metadata": {
    "collapsed": false
   },
   "outputs": [],
   "source": [
    "main_dir = '2015_utc/'\n",
    "os.makedirs(main_dir)\n",
    "for mm in range(1,13):\n",
    "    with open(main_dir + month_list[mm-1] + '_2015_utc.dat', 'w') as fout:\n",
    "        for i in range(0, len(datetimes)):\n",
    "            if datetimes[i].year == 2015 and datetimes[i].month == mm:\n",
    "                fout.write(datetime.datetime.strftime(datetimes[i], '%Y-%m-%d-%H:%M:%S') + \" \" +  str(raws[i]) + \" \" + str(raws_filtered[i]) + \"\\n\")\n",
    "                "
   ]
  },
  {
   "cell_type": "code",
   "execution_count": 171,
   "metadata": {
    "collapsed": false
   },
   "outputs": [],
   "source": [
    "with open('lol/' + month_list[0] + '2015_UTC.dat', 'w') as fout:\n",
    "    \n",
    "    for i in range(0, len(datetimes)):\n",
    "        fout.write(datetime.datetime.strftime(datetimes[i], '%Y-%m-%d-%H:%M:%S') + \" \" +  str(raws[i]) + \" \" + str(raws_filtered[i]) + \"\\n\")"
   ]
  }
 ],
 "metadata": {
  "kernelspec": {
   "display_name": "Python 3",
   "language": "python",
   "name": "python3"
  },
  "language_info": {
   "codemirror_mode": {
    "name": "ipython",
    "version": 3
   },
   "file_extension": ".py",
   "mimetype": "text/x-python",
   "name": "python",
   "nbconvert_exporter": "python",
   "pygments_lexer": "ipython3",
   "version": "3.5.0"
  }
 },
 "nbformat": 4,
 "nbformat_minor": 2
}
